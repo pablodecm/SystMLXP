{
 "cells": [
  {
   "cell_type": "code",
   "execution_count": 1,
   "metadata": {},
   "outputs": [],
   "source": [
    "from __future__ import print_function\n",
    "from __future__ import division\n",
    "from __future__ import absolute_import\n",
    "from __future__ import unicode_literals\n",
    "\n",
    "import os\n",
    "import sys\n",
    "\n",
    "import numpy as np\n",
    "import pandas as pd\n",
    "\n",
    "import matplotlib.pyplot as plt\n",
    "import seaborn as sns\n",
    "\n",
    "%matplotlib inline"
   ]
  },
  {
   "cell_type": "markdown",
   "metadata": {},
   "source": [
    "# Introduction\n",
    "\n",
    "On fait des plots sur les runs"
   ]
  },
  {
   "cell_type": "code",
   "execution_count": 2,
   "metadata": {},
   "outputs": [],
   "source": [
    "from problem.workflow import print"
   ]
  },
  {
   "cell_type": "code",
   "execution_count": null,
   "metadata": {},
   "outputs": [],
   "source": []
  },
  {
   "cell_type": "markdown",
   "metadata": {},
   "source": [
    "# Data"
   ]
  },
  {
   "cell_type": "code",
   "execution_count": 3,
   "metadata": {},
   "outputs": [],
   "source": [
    "from problem.mnist import load_data"
   ]
  },
  {
   "cell_type": "code",
   "execution_count": 4,
   "metadata": {},
   "outputs": [],
   "source": [
    "X, y = load_data()"
   ]
  },
  {
   "cell_type": "code",
   "execution_count": null,
   "metadata": {},
   "outputs": [],
   "source": []
  },
  {
   "cell_type": "markdown",
   "metadata": {},
   "source": [
    "# Load models"
   ]
  },
  {
   "cell_type": "code",
   "execution_count": 5,
   "metadata": {},
   "outputs": [],
   "source": [
    "from problem.mnist import get_save_directory\n",
    "from problem.mnist import preprocessing\n",
    "from problem.mnist import skew\n",
    "from problem.mnist import tangent\n",
    "from main import get_data_shape"
   ]
  },
  {
   "cell_type": "code",
   "execution_count": 6,
   "metadata": {},
   "outputs": [],
   "source": [
    "def load_models(get_model, *args, **kwargs):\n",
    "    models = []\n",
    "    n_features, n_classes = get_data_shape('mnist')\n",
    "    for i in range(12):\n",
    "        model = get_model(*args, n_features=n_features, n_classes=n_classes, **kwargs)\n",
    "        save_directory = get_save_directory()\n",
    "        model_name = '{}-{}'.format(model.get_name(), i)\n",
    "        path = os.path.join(save_directory, model_name)\n",
    "        model.load(path)\n",
    "        models.append(model)\n",
    "    return models"
   ]
  },
  {
   "cell_type": "code",
   "execution_count": 7,
   "metadata": {},
   "outputs": [],
   "source": [
    "from myNN import get_model as get_model_NN\n",
    "from myNNDA import get_model as get_model_NNDA\n",
    "from myTP import get_model as get_model_TP\n",
    "from myPAN import get_model as get_model_PAN\n"
   ]
  },
  {
   "cell_type": "code",
   "execution_count": null,
   "metadata": {},
   "outputs": [],
   "source": []
  },
  {
   "cell_type": "markdown",
   "metadata": {},
   "source": [
    "# Test submission"
   ]
  },
  {
   "cell_type": "code",
   "execution_count": 8,
   "metadata": {},
   "outputs": [],
   "source": [
    "from problem.mnist import test_submission\n"
   ]
  },
  {
   "cell_type": "code",
   "execution_count": 9,
   "metadata": {},
   "outputs": [],
   "source": [
    "def get_mean_std(df_list):\n",
    "    z = df_list[0]['z']\n",
    "    acc = np.concatenate([df['accuracy'].values.reshape(-1, 1) for df in df_list], axis=1)\n",
    "    mean_acc = np.mean(acc, axis=1)\n",
    "    std_acc = np.std(acc, axis=1)\n",
    "    return mean_acc, std_acc"
   ]
  },
  {
   "cell_type": "code",
   "execution_count": 10,
   "metadata": {},
   "outputs": [],
   "source": [
    "# z_list = list(range(-50, 51, 10)) + list(range(-5, 6, 1))\n",
    "# z_list = sorted(z_list)\n",
    "z_list = np.linspace(-10, 10, num=20)\n"
   ]
  },
  {
   "cell_type": "code",
   "execution_count": null,
   "metadata": {},
   "outputs": [],
   "source": []
  },
  {
   "cell_type": "code",
   "execution_count": 11,
   "metadata": {},
   "outputs": [
    {
     "name": "stdout",
     "output_type": "stream",
     "text": [
      "INFO:tensorflow:Restoring parameters from /data/titanic_3/users/vestrade/savings/mnist/PAN_AGNO-3x120-3x120-0.001-1.0-5.0-Adam-SGD-SGD-0/weights.ckpt\n",
      "INFO:tensorflow:Restoring parameters from /data/titanic_3/users/vestrade/savings/mnist/PAN_AGNO-3x120-3x120-0.001-1.0-5.0-Adam-SGD-SGD-1/weights.ckpt\n",
      "INFO:tensorflow:Restoring parameters from /data/titanic_3/users/vestrade/savings/mnist/PAN_AGNO-3x120-3x120-0.001-1.0-5.0-Adam-SGD-SGD-2/weights.ckpt\n",
      "INFO:tensorflow:Restoring parameters from /data/titanic_3/users/vestrade/savings/mnist/PAN_AGNO-3x120-3x120-0.001-1.0-5.0-Adam-SGD-SGD-3/weights.ckpt\n",
      "INFO:tensorflow:Restoring parameters from /data/titanic_3/users/vestrade/savings/mnist/PAN_AGNO-3x120-3x120-0.001-1.0-5.0-Adam-SGD-SGD-4/weights.ckpt\n",
      "INFO:tensorflow:Restoring parameters from /data/titanic_3/users/vestrade/savings/mnist/PAN_AGNO-3x120-3x120-0.001-1.0-5.0-Adam-SGD-SGD-5/weights.ckpt\n",
      "INFO:tensorflow:Restoring parameters from /data/titanic_3/users/vestrade/savings/mnist/PAN_AGNO-3x120-3x120-0.001-1.0-5.0-Adam-SGD-SGD-6/weights.ckpt\n",
      "INFO:tensorflow:Restoring parameters from /data/titanic_3/users/vestrade/savings/mnist/PAN_AGNO-3x120-3x120-0.001-1.0-5.0-Adam-SGD-SGD-7/weights.ckpt\n",
      "INFO:tensorflow:Restoring parameters from /data/titanic_3/users/vestrade/savings/mnist/PAN_AGNO-3x120-3x120-0.001-1.0-5.0-Adam-SGD-SGD-8/weights.ckpt\n",
      "INFO:tensorflow:Restoring parameters from /data/titanic_3/users/vestrade/savings/mnist/PAN_AGNO-3x120-3x120-0.001-1.0-5.0-Adam-SGD-SGD-9/weights.ckpt\n",
      "INFO:tensorflow:Restoring parameters from /data/titanic_3/users/vestrade/savings/mnist/PAN_AGNO-3x120-3x120-0.001-1.0-5.0-Adam-SGD-SGD-10/weights.ckpt\n",
      "INFO:tensorflow:Restoring parameters from /data/titanic_3/users/vestrade/savings/mnist/PAN_AGNO-3x120-3x120-0.001-1.0-5.0-Adam-SGD-SGD-11/weights.ckpt\n",
      "2017-11-27 14:33:28 testing model 1/12\n",
      "2017-11-27 14:34:13 testing model 2/12\n",
      "2017-11-27 14:34:58 testing model 3/12\n",
      "2017-11-27 14:35:42 testing model 4/12\n",
      "2017-11-27 14:36:28 testing model 5/12\n",
      "2017-11-27 14:37:12 testing model 6/12\n",
      "2017-11-27 14:37:54 testing model 7/12\n",
      "2017-11-27 14:38:39 testing model 8/12\n",
      "2017-11-27 14:39:19 testing model 9/12\n",
      "2017-11-27 14:40:03 testing model 10/12\n",
      "2017-11-27 14:40:46 testing model 11/12\n",
      "2017-11-27 14:41:29 testing model 12/12\n",
      "2017-11-27 14:42:13 Done.\n"
     ]
    }
   ],
   "source": [
    "PAN_5_models = load_models(get_model_PAN, preprocessing=preprocessing, skew=skew, trade_off=1.0, width=5.)\n",
    "df_list = test_submission(PAN_5_models, X, y, z_list=z_list)\n",
    "PAN_5_mean_acc, PAN_5_std_acc = get_mean_std(df_list)\n"
   ]
  },
  {
   "cell_type": "code",
   "execution_count": 12,
   "metadata": {},
   "outputs": [
    {
     "name": "stdout",
     "output_type": "stream",
     "text": [
      "INFO:tensorflow:Restoring parameters from /data/titanic_3/users/vestrade/savings/mnist/PAN_AGNO-3x120-3x120-0.001-1.0-10.0-Adam-SGD-SGD-0/weights.ckpt\n",
      "INFO:tensorflow:Restoring parameters from /data/titanic_3/users/vestrade/savings/mnist/PAN_AGNO-3x120-3x120-0.001-1.0-10.0-Adam-SGD-SGD-1/weights.ckpt\n",
      "INFO:tensorflow:Restoring parameters from /data/titanic_3/users/vestrade/savings/mnist/PAN_AGNO-3x120-3x120-0.001-1.0-10.0-Adam-SGD-SGD-2/weights.ckpt\n",
      "INFO:tensorflow:Restoring parameters from /data/titanic_3/users/vestrade/savings/mnist/PAN_AGNO-3x120-3x120-0.001-1.0-10.0-Adam-SGD-SGD-3/weights.ckpt\n",
      "INFO:tensorflow:Restoring parameters from /data/titanic_3/users/vestrade/savings/mnist/PAN_AGNO-3x120-3x120-0.001-1.0-10.0-Adam-SGD-SGD-4/weights.ckpt\n",
      "INFO:tensorflow:Restoring parameters from /data/titanic_3/users/vestrade/savings/mnist/PAN_AGNO-3x120-3x120-0.001-1.0-10.0-Adam-SGD-SGD-5/weights.ckpt\n",
      "INFO:tensorflow:Restoring parameters from /data/titanic_3/users/vestrade/savings/mnist/PAN_AGNO-3x120-3x120-0.001-1.0-10.0-Adam-SGD-SGD-6/weights.ckpt\n",
      "INFO:tensorflow:Restoring parameters from /data/titanic_3/users/vestrade/savings/mnist/PAN_AGNO-3x120-3x120-0.001-1.0-10.0-Adam-SGD-SGD-7/weights.ckpt\n",
      "INFO:tensorflow:Restoring parameters from /data/titanic_3/users/vestrade/savings/mnist/PAN_AGNO-3x120-3x120-0.001-1.0-10.0-Adam-SGD-SGD-8/weights.ckpt\n",
      "INFO:tensorflow:Restoring parameters from /data/titanic_3/users/vestrade/savings/mnist/PAN_AGNO-3x120-3x120-0.001-1.0-10.0-Adam-SGD-SGD-9/weights.ckpt\n",
      "INFO:tensorflow:Restoring parameters from /data/titanic_3/users/vestrade/savings/mnist/PAN_AGNO-3x120-3x120-0.001-1.0-10.0-Adam-SGD-SGD-10/weights.ckpt\n",
      "INFO:tensorflow:Restoring parameters from /data/titanic_3/users/vestrade/savings/mnist/PAN_AGNO-3x120-3x120-0.001-1.0-10.0-Adam-SGD-SGD-11/weights.ckpt\n",
      "2017-11-27 14:42:27 testing model 1/12\n",
      "2017-11-27 14:43:12 testing model 2/12\n",
      "2017-11-27 14:43:54 testing model 3/12\n",
      "2017-11-27 14:44:36 testing model 4/12\n",
      "2017-11-27 14:45:21 testing model 5/12\n",
      "2017-11-27 14:46:04 testing model 6/12\n",
      "2017-11-27 14:46:47 testing model 7/12\n",
      "2017-11-27 14:47:30 testing model 8/12\n",
      "2017-11-27 14:48:14 testing model 9/12\n",
      "2017-11-27 14:48:56 testing model 10/12\n",
      "2017-11-27 14:49:41 testing model 11/12\n",
      "2017-11-27 14:50:23 testing model 12/12\n",
      "2017-11-27 14:51:06 Done.\n"
     ]
    }
   ],
   "source": [
    "PAN_10_models = load_models(get_model_PAN, preprocessing=preprocessing, skew=skew, trade_off=1.0, width=10.)\n",
    "df_list = test_submission(PAN_10_models, X, y, z_list=z_list)\n",
    "PAN_10_mean_acc, PAN_10_std_acc = get_mean_std(df_list)\n"
   ]
  },
  {
   "cell_type": "code",
   "execution_count": 13,
   "metadata": {},
   "outputs": [
    {
     "name": "stdout",
     "output_type": "stream",
     "text": [
      "INFO:tensorflow:Restoring parameters from /data/titanic_3/users/vestrade/savings/mnist/PAN_AGNO-3x120-3x120-0.001-1.0-15.0-Adam-SGD-SGD-0/weights.ckpt\n",
      "INFO:tensorflow:Restoring parameters from /data/titanic_3/users/vestrade/savings/mnist/PAN_AGNO-3x120-3x120-0.001-1.0-15.0-Adam-SGD-SGD-1/weights.ckpt\n",
      "INFO:tensorflow:Restoring parameters from /data/titanic_3/users/vestrade/savings/mnist/PAN_AGNO-3x120-3x120-0.001-1.0-15.0-Adam-SGD-SGD-2/weights.ckpt\n",
      "INFO:tensorflow:Restoring parameters from /data/titanic_3/users/vestrade/savings/mnist/PAN_AGNO-3x120-3x120-0.001-1.0-15.0-Adam-SGD-SGD-3/weights.ckpt\n",
      "INFO:tensorflow:Restoring parameters from /data/titanic_3/users/vestrade/savings/mnist/PAN_AGNO-3x120-3x120-0.001-1.0-15.0-Adam-SGD-SGD-4/weights.ckpt\n",
      "INFO:tensorflow:Restoring parameters from /data/titanic_3/users/vestrade/savings/mnist/PAN_AGNO-3x120-3x120-0.001-1.0-15.0-Adam-SGD-SGD-5/weights.ckpt\n",
      "INFO:tensorflow:Restoring parameters from /data/titanic_3/users/vestrade/savings/mnist/PAN_AGNO-3x120-3x120-0.001-1.0-15.0-Adam-SGD-SGD-6/weights.ckpt\n",
      "INFO:tensorflow:Restoring parameters from /data/titanic_3/users/vestrade/savings/mnist/PAN_AGNO-3x120-3x120-0.001-1.0-15.0-Adam-SGD-SGD-7/weights.ckpt\n",
      "INFO:tensorflow:Restoring parameters from /data/titanic_3/users/vestrade/savings/mnist/PAN_AGNO-3x120-3x120-0.001-1.0-15.0-Adam-SGD-SGD-8/weights.ckpt\n",
      "INFO:tensorflow:Restoring parameters from /data/titanic_3/users/vestrade/savings/mnist/PAN_AGNO-3x120-3x120-0.001-1.0-15.0-Adam-SGD-SGD-9/weights.ckpt\n",
      "INFO:tensorflow:Restoring parameters from /data/titanic_3/users/vestrade/savings/mnist/PAN_AGNO-3x120-3x120-0.001-1.0-15.0-Adam-SGD-SGD-10/weights.ckpt\n",
      "INFO:tensorflow:Restoring parameters from /data/titanic_3/users/vestrade/savings/mnist/PAN_AGNO-3x120-3x120-0.001-1.0-15.0-Adam-SGD-SGD-11/weights.ckpt\n",
      "2017-11-27 14:51:19 testing model 1/12\n",
      "2017-11-27 14:52:02 testing model 2/12\n",
      "2017-11-27 14:52:44 testing model 3/12\n",
      "2017-11-27 14:53:33 testing model 4/12\n",
      "2017-11-27 14:54:18 testing model 5/12\n",
      "2017-11-27 14:54:59 testing model 6/12\n",
      "2017-11-27 14:55:45 testing model 7/12\n",
      "2017-11-27 14:56:29 testing model 8/12\n",
      "2017-11-27 14:57:11 testing model 9/12\n",
      "2017-11-27 14:57:57 testing model 10/12\n",
      "2017-11-27 14:58:59 testing model 11/12\n",
      "2017-11-27 14:59:57 testing model 12/12\n",
      "2017-11-27 15:00:40 Done.\n"
     ]
    }
   ],
   "source": [
    "PAN_15_models = load_models(get_model_PAN, preprocessing=preprocessing, skew=skew, trade_off=1.0, width=15.)\n",
    "df_list = test_submission(PAN_15_models, X, y, z_list=z_list)\n",
    "PAN_15_mean_acc, PAN_15_std_acc = get_mean_std(df_list)\n"
   ]
  },
  {
   "cell_type": "code",
   "execution_count": null,
   "metadata": {},
   "outputs": [],
   "source": []
  },
  {
   "cell_type": "markdown",
   "metadata": {},
   "source": [
    "# Plot\n",
    "\n",
    "\n",
    "- What about confusion matrices ???\n"
   ]
  },
  {
   "cell_type": "code",
   "execution_count": 14,
   "metadata": {},
   "outputs": [],
   "source": [
    "sns.set()\n",
    "sns.set_style(\"whitegrid\")\n",
    "sns.set_context(\"paper\")"
   ]
  },
  {
   "cell_type": "code",
   "execution_count": 15,
   "metadata": {},
   "outputs": [
    {
     "data": {
      "image/png": "[encoded data removed]",
      "text/plain": [
       "<matplotlib.figure.Figure at 0x7f046dd1e940>"
      ]
     },
     "metadata": {},
     "output_type": "display_data"
    }
   ],
   "source": [
    "z = z_list\n",
    "\n",
    "# plt.figure(figsize=(20,10))\n",
    "\n",
    "# plt.plot(z, PAN_5_mean_acc, label=PAN_5_models[0].get_name())\n",
    "plt.plot(z, PAN_5_mean_acc, label='5')\n",
    "plt.fill_between(z, PAN_5_mean_acc+PAN_5_std_acc, PAN_5_mean_acc-PAN_5_std_acc, alpha=0.5)\n",
    "\n",
    "# plt.plot(z, PAN_10_mean_acc, label=PAN_10_models[0].get_name())\n",
    "plt.plot(z, PAN_10_mean_acc, label='10')\n",
    "plt.fill_between(z, PAN_10_mean_acc+PAN_10_std_acc, PAN_10_mean_acc-PAN_10_std_acc, alpha=0.5)\n",
    "\n",
    "# plt.plot(z, PAN_15_mean_acc, label=PAN_15_models[0].get_name())\n",
    "plt.plot(z, PAN_15_mean_acc, label='15')\n",
    "plt.fill_between(z, PAN_15_mean_acc+PAN_15_std_acc, PAN_15_mean_acc-PAN_15_std_acc, alpha=0.5)\n",
    "\n",
    "plt.xlabel('angle')\n",
    "plt.ylabel('accuracy')\n",
    "plt.legend()\n",
    "plt.show()\n"
   ]
  },
  {
   "cell_type": "code",
   "execution_count": 16,
   "metadata": {},
   "outputs": [
    {
     "data": {
      "image/png": "[encoded data removed]",
      "text/plain": [
       "<matplotlib.figure.Figure at 0x7f075acab1d0>"
      ]
     },
     "metadata": {},
     "output_type": "display_data"
    }
   ],
   "source": [
    "# plt.figure(figsize=(15,8))\n",
    "\n",
    "zz = np.random.normal( loc=0, scale=5, size=(X.shape[0]) )\n",
    "sns.distplot(zz, label='5')\n",
    "\n",
    "zz = np.random.normal( loc=0, scale=10, size=(X.shape[0]) )\n",
    "sns.distplot(zz, label='10')\n",
    "\n",
    "zz = np.random.normal( loc=0, scale=15, size=(X.shape[0]) )\n",
    "sns.distplot(zz, label='15')\n",
    "\n",
    "plt.xlabel('angle')\n",
    "plt.legend()\n",
    "plt.show()"
   ]
  },
  {
   "cell_type": "markdown",
   "metadata": {},
   "source": [
    "# Playground"
   ]
  },
  {
   "cell_type": "code",
   "execution_count": 17,
   "metadata": {},
   "outputs": [],
   "source": [
    "# i = 0\n",
    "# m = models[i]\n",
    "# cv_iter = get_cv_iter(X, y)\n",
    "# idx_dev, idx_valid = cv_iter[i]\n",
    "# X_test = X[idx_valid]\n",
    "# y_test = y[idx_valid]\n",
    "# acc = accuracy_score(y_test, m.predict(X_test))\n",
    "\n",
    "# print(acc)\n"
   ]
  },
  {
   "cell_type": "code",
   "execution_count": 18,
   "metadata": {},
   "outputs": [],
   "source": [
    "# XX = skew(X_test, z=80)\n",
    "# y_pred = m.predict(XX)\n",
    "# acc = accuracy_score(y_test, m.predict(XX))\n",
    "# print(acc)\n",
    "\n",
    "# i = np.random.randint(0, XX.shape[0])\n",
    "# plt.imshow(XX[i].reshape(28,28))\n",
    "\n",
    "# plt.title('label = {}<->truth = {}'.format(y_pred[i], y_test[i]))\n",
    "# plt.show()\n",
    "\n",
    "# plt.imshow(X_test[i].reshape(28,28))\n",
    "# plt.show()\n"
   ]
  },
  {
   "cell_type": "code",
   "execution_count": 19,
   "metadata": {},
   "outputs": [],
   "source": [
    "# X_test.shape"
   ]
  },
  {
   "cell_type": "code",
   "execution_count": 20,
   "metadata": {},
   "outputs": [],
   "source": [
    "# from myNNDA import data_augment"
   ]
  },
  {
   "cell_type": "code",
   "execution_count": 21,
   "metadata": {},
   "outputs": [],
   "source": [
    "# XX = X[:200]\n",
    "# yy = y[:200]\n",
    "# XX2, yy, _ = data_augment(XX, yy, None)"
   ]
  },
  {
   "cell_type": "code",
   "execution_count": 22,
   "metadata": {},
   "outputs": [],
   "source": [
    "# i = 67\n",
    "# x = XX2[i].reshape(28, 28)\n",
    "# plt.imshow(x, cmap='Greys')\n",
    "# plt.title('skewed')\n",
    "# plt.show()\n",
    "# x = XX[i].reshape(28, 28)\n",
    "# plt.imshow(x, cmap='Greys')\n",
    "# plt.title('original')\n",
    "# plt.show()"
   ]
  },
  {
   "cell_type": "code",
   "execution_count": null,
   "metadata": {},
   "outputs": [],
   "source": []
  }
 ],
 "metadata": {
  "kernelspec": {
   "display_name": "Python 3",
   "language": "python",
   "name": "python3"
  },
  "language_info": {
   "codemirror_mode": {
    "name": "ipython",
    "version": 3
   },
   "file_extension": ".py",
   "mimetype": "text/x-python",
   "name": "python",
   "nbconvert_exporter": "python",
   "pygments_lexer": "ipython3",
   "version": "3.6.1"
  },
  "toc": {
   "nav_menu": {},
   "number_sections": false,
   "sideBar": true,
   "skip_h1_title": false,
   "toc_cell": false,
   "toc_position": {},
   "toc_section_display": "block",
   "toc_window_display": true
  }
 },
 "nbformat": 4,
 "nbformat_minor": 2
}
