{
 "cells": [
  {
   "cell_type": "code",
   "execution_count": 2,
   "metadata": {},
   "outputs": [],
   "source": [
    "from __future__ import print_function\n",
    "from __future__ import division\n",
    "from __future__ import absolute_import\n",
    "from __future__ import unicode_literals\n",
    "\n",
    "import os\n",
    "import sys\n",
    "\n",
    "import numpy as np\n",
    "import pandas as pd\n",
    "\n",
    "import matplotlib.pyplot as plt\n",
    "import seaborn as sns\n",
    "\n",
    "%matplotlib inline"
   ]
  },
  {
   "cell_type": "markdown",
   "metadata": {},
   "source": [
    "# Introduction\n",
    "\n",
    "On fait des plots sur les runs"
   ]
  },
  {
   "cell_type": "code",
   "execution_count": 3,
   "metadata": {},
   "outputs": [],
   "source": [
    "from problem.workflow import print"
   ]
  },
  {
   "cell_type": "code",
   "execution_count": null,
   "metadata": {},
   "outputs": [],
   "source": []
  },
  {
   "cell_type": "markdown",
   "metadata": {},
   "source": [
    "# Data"
   ]
  },
  {
   "cell_type": "code",
   "execution_count": 4,
   "metadata": {},
   "outputs": [],
   "source": [
    "from problem.higgs_uci import load_data"
   ]
  },
  {
   "cell_type": "code",
   "execution_count": 5,
   "metadata": {},
   "outputs": [],
   "source": [
    "data, _ = load_data()"
   ]
  },
  {
   "cell_type": "code",
   "execution_count": 6,
   "metadata": {},
   "outputs": [
    {
     "data": {
      "text/html": [
       "<div>\n",
       "<style>\n",
       "    .dataframe thead tr:only-child th {\n",
       "        text-align: right;\n",
       "    }\n",
       "\n",
       "    .dataframe thead th {\n",
       "        text-align: left;\n",
       "    }\n",
       "\n",
       "    .dataframe tbody tr th {\n",
       "        vertical-align: top;\n",
       "    }\n",
       "</style>\n",
       "<table border=\"1\" class=\"dataframe\">\n",
       "  <thead>\n",
       "    <tr style=\"text-align: right;\">\n",
       "      <th></th>\n",
       "      <th>PRI_tau_pt</th>\n",
       "      <th>PRI_tau_eta</th>\n",
       "      <th>PRI_tau_phi</th>\n",
       "      <th>PRI_lep_pt</th>\n",
       "      <th>PRI_lep_eta</th>\n",
       "      <th>PRI_lep_phi</th>\n",
       "      <th>PRI_met</th>\n",
       "      <th>PRI_met_phi</th>\n",
       "      <th>Label</th>\n",
       "      <th>Weight</th>\n",
       "      <th>DER_mass_transverse_met_lep</th>\n",
       "      <th>DER_mass_vis</th>\n",
       "      <th>DER_pt_h</th>\n",
       "      <th>DER_deltar_tau_lep</th>\n",
       "      <th>DER_pt_ratio_lep_tau</th>\n",
       "      <th>DER_met_phi_centrality</th>\n",
       "    </tr>\n",
       "  </thead>\n",
       "  <tbody>\n",
       "    <tr>\n",
       "      <th>0</th>\n",
       "      <td>29.284</td>\n",
       "      <td>-0.563</td>\n",
       "      <td>1.256</td>\n",
       "      <td>23.948</td>\n",
       "      <td>-0.600</td>\n",
       "      <td>-2.130</td>\n",
       "      <td>22.594</td>\n",
       "      <td>-0.278</td>\n",
       "      <td>1.0</td>\n",
       "      <td>0.005</td>\n",
       "      <td>37.186</td>\n",
       "      <td>52.592</td>\n",
       "      <td>18.160</td>\n",
       "      <td>2.898</td>\n",
       "      <td>0.818</td>\n",
       "      <td>-1.414</td>\n",
       "    </tr>\n",
       "    <tr>\n",
       "      <th>1</th>\n",
       "      <td>34.197</td>\n",
       "      <td>-2.032</td>\n",
       "      <td>-2.739</td>\n",
       "      <td>21.636</td>\n",
       "      <td>-2.303</td>\n",
       "      <td>0.343</td>\n",
       "      <td>32.296</td>\n",
       "      <td>0.031</td>\n",
       "      <td>1.0</td>\n",
       "      <td>0.005</td>\n",
       "      <td>8.212</td>\n",
       "      <td>54.889</td>\n",
       "      <td>21.805</td>\n",
       "      <td>3.094</td>\n",
       "      <td>0.633</td>\n",
       "      <td>1.409</td>\n",
       "    </tr>\n",
       "    <tr>\n",
       "      <th>2</th>\n",
       "      <td>21.348</td>\n",
       "      <td>-0.050</td>\n",
       "      <td>-2.277</td>\n",
       "      <td>21.792</td>\n",
       "      <td>-2.040</td>\n",
       "      <td>0.544</td>\n",
       "      <td>57.737</td>\n",
       "      <td>0.405</td>\n",
       "      <td>1.0</td>\n",
       "      <td>0.005</td>\n",
       "      <td>4.929</td>\n",
       "      <td>65.989</td>\n",
       "      <td>60.528</td>\n",
       "      <td>3.453</td>\n",
       "      <td>1.021</td>\n",
       "      <td>1.253</td>\n",
       "    </tr>\n",
       "    <tr>\n",
       "      <th>3</th>\n",
       "      <td>35.196</td>\n",
       "      <td>0.490</td>\n",
       "      <td>0.171</td>\n",
       "      <td>25.078</td>\n",
       "      <td>1.035</td>\n",
       "      <td>-3.020</td>\n",
       "      <td>37.849</td>\n",
       "      <td>-3.114</td>\n",
       "      <td>1.0</td>\n",
       "      <td>0.005</td>\n",
       "      <td>2.897</td>\n",
       "      <td>61.632</td>\n",
       "      <td>28.113</td>\n",
       "      <td>3.139</td>\n",
       "      <td>0.713</td>\n",
       "      <td>1.385</td>\n",
       "    </tr>\n",
       "    <tr>\n",
       "      <th>4</th>\n",
       "      <td>38.387</td>\n",
       "      <td>1.301</td>\n",
       "      <td>-1.953</td>\n",
       "      <td>25.875</td>\n",
       "      <td>2.194</td>\n",
       "      <td>1.165</td>\n",
       "      <td>5.599</td>\n",
       "      <td>-0.393</td>\n",
       "      <td>1.0</td>\n",
       "      <td>0.005</td>\n",
       "      <td>16.920</td>\n",
       "      <td>69.428</td>\n",
       "      <td>14.024</td>\n",
       "      <td>3.244</td>\n",
       "      <td>0.674</td>\n",
       "      <td>1.414</td>\n",
       "    </tr>\n",
       "  </tbody>\n",
       "</table>\n",
       "</div>"
      ],
      "text/plain": [
       "   PRI_tau_pt  PRI_tau_eta  PRI_tau_phi  PRI_lep_pt  PRI_lep_eta  PRI_lep_phi  \\\n",
       "0      29.284       -0.563        1.256      23.948       -0.600       -2.130   \n",
       "1      34.197       -2.032       -2.739      21.636       -2.303        0.343   \n",
       "2      21.348       -0.050       -2.277      21.792       -2.040        0.544   \n",
       "3      35.196        0.490        0.171      25.078        1.035       -3.020   \n",
       "4      38.387        1.301       -1.953      25.875        2.194        1.165   \n",
       "\n",
       "   PRI_met  PRI_met_phi  Label  Weight  DER_mass_transverse_met_lep  \\\n",
       "0   22.594       -0.278    1.0   0.005                       37.186   \n",
       "1   32.296        0.031    1.0   0.005                        8.212   \n",
       "2   57.737        0.405    1.0   0.005                        4.929   \n",
       "3   37.849       -3.114    1.0   0.005                        2.897   \n",
       "4    5.599       -0.393    1.0   0.005                       16.920   \n",
       "\n",
       "   DER_mass_vis  DER_pt_h  DER_deltar_tau_lep  DER_pt_ratio_lep_tau  \\\n",
       "0        52.592    18.160               2.898                 0.818   \n",
       "1        54.889    21.805               3.094                 0.633   \n",
       "2        65.989    60.528               3.453                 1.021   \n",
       "3        61.632    28.113               3.139                 0.713   \n",
       "4        69.428    14.024               3.244                 0.674   \n",
       "\n",
       "   DER_met_phi_centrality  \n",
       "0                  -1.414  \n",
       "1                   1.409  \n",
       "2                   1.253  \n",
       "3                   1.385  \n",
       "4                   1.414  "
      ]
     },
     "execution_count": 6,
     "metadata": {},
     "output_type": "execute_result"
    }
   ],
   "source": [
    "data.head()"
   ]
  },
  {
   "cell_type": "markdown",
   "metadata": {},
   "source": [
    "# Load models"
   ]
  },
  {
   "cell_type": "code",
   "execution_count": 7,
   "metadata": {},
   "outputs": [],
   "source": [
    "from problem.higgs_uci import get_save_directory\n",
    "from problem.higgs_uci import skew\n",
    "from problem.higgs_uci import tangent\n",
    "from main import get_data_shape"
   ]
  },
  {
   "cell_type": "code",
   "execution_count": 7,
   "metadata": {},
   "outputs": [],
   "source": [
    "def load_models(get_model, *args, **kwargs):\n",
    "    models = []\n",
    "    n_features, n_classes = get_data_shape('higgs-uci')\n",
    "    for i in range(5):\n",
    "        model = get_model(*args, n_features=n_features, n_classes=n_classes, **kwargs)\n",
    "        save_directory = get_save_directory()\n",
    "        model_name = '{}-{}'.format(model.get_name(), i)\n",
    "        path = os.path.join(save_directory, model_name)\n",
    "        model.load(path)\n",
    "        models.append(model)\n",
    "    return models"
   ]
  },
  {
   "cell_type": "code",
   "execution_count": 8,
   "metadata": {},
   "outputs": [],
   "source": [
    "from myNN import get_model as get_model_NN\n",
    "from myNNDA import get_model as get_model_NNDA\n",
    "from myTP import get_model as get_model_TP\n",
    "from myPAN import get_model as get_model_PAN\n"
   ]
  },
  {
   "cell_type": "code",
   "execution_count": null,
   "metadata": {},
   "outputs": [],
   "source": []
  },
  {
   "cell_type": "markdown",
   "metadata": {},
   "source": [
    "# Test submission"
   ]
  },
  {
   "cell_type": "code",
   "execution_count": 9,
   "metadata": {},
   "outputs": [],
   "source": [
    "from problem.higgs_uci import test_submission\n"
   ]
  },
  {
   "cell_type": "code",
   "execution_count": 10,
   "metadata": {},
   "outputs": [],
   "source": [
    "from experiment import basic_metrics_xp\n",
    "from experiment import merge_decision_xp\n",
    "from experiment import complete_metrics_xp\n",
    "from experiment import systematic_xp\n",
    "from experiment import reduce_mean_xp\n",
    "from experiment import reduce_std_xp\n",
    "\n",
    "def get_syst_xp(xp, training_TES=1.0, n_bin=5000):\n",
    "    xp = basic_metrics_xp(xp, n_bin=n_bin)\n",
    "    xp = merge_decision_xp(xp)\n",
    "    xp = complete_metrics_xp(xp)\n",
    "    syst_xp = systematic_xp(xp, training_TES)\n",
    "    return syst_xp\n",
    "\n",
    "def get_mean_std_xp(xp, training_TES=1.0, n_bin=5000):\n",
    "    syst_xp = get_syst_xp(xp, training_TES, n_bin=n_bin)\n",
    "    xp_mean = reduce_mean_xp(syst_xp)\n",
    "    xp_std = reduce_std_xp(syst_xp)\n",
    "    return xp_mean, xp_std"
   ]
  },
  {
   "cell_type": "code",
   "execution_count": 11,
   "metadata": {},
   "outputs": [],
   "source": [
    "# z_list = list(range(-50, 51, 10)) + list(range(-5, 6, 1))\n",
    "# z_list = sorted(z_list)\n",
    "# z_list = np.linspace(-10, 10, num=20)\n",
    "z_list = (0.97, 1.0, 1.03)\n"
   ]
  },
  {
   "cell_type": "code",
   "execution_count": 12,
   "metadata": {},
   "outputs": [
    {
     "name": "stdout",
     "output_type": "stream",
     "text": [
      "2017-11-22 10:09:57 testing model 1/5\n",
      "2017-11-22 10:10:42 testing model 2/5\n",
      "2017-11-22 10:11:27 testing model 3/5\n",
      "2017-11-22 10:12:12 testing model 4/5\n",
      "2017-11-22 10:12:57 testing model 5/5\n"
     ]
    }
   ],
   "source": [
    "NN_models = load_models(get_model_NN)\n",
    "NN_xp = test_submission(data, NN_models, all_sysTES=z_list)\n",
    "NN_mean, NN_std = get_mean_std_xp( NN_xp )"
   ]
  },
  {
   "cell_type": "code",
   "execution_count": 13,
   "metadata": {},
   "outputs": [
    {
     "name": "stdout",
     "output_type": "stream",
     "text": [
      "2017-11-22 10:13:52 testing model 1/5\n",
      "2017-11-22 10:14:44 testing model 2/5\n",
      "2017-11-22 10:15:53 testing model 3/5\n",
      "2017-11-22 10:17:04 testing model 4/5\n",
      "2017-11-22 10:18:11 testing model 5/5\n"
     ]
    }
   ],
   "source": [
    "NNDA_models = load_models(get_model_NNDA, skew=skew, width=0.01,)\n",
    "NNDA_xp = test_submission(data, NNDA_models, all_sysTES=z_list)\n",
    "NNDA_mean, NNDA_std = get_mean_std_xp( NNDA_xp )"
   ]
  },
  {
   "cell_type": "code",
   "execution_count": 29,
   "metadata": {},
   "outputs": [
    {
     "name": "stdout",
     "output_type": "stream",
     "text": [
      "2017-11-22 10:47:27 testing model 1/5\n",
      "2017-11-22 10:49:09 testing model 2/5\n",
      "2017-11-22 10:50:55 testing model 3/5\n",
      "2017-11-22 10:52:25 testing model 4/5\n",
      "2017-11-22 10:53:51 testing model 5/5\n"
     ]
    }
   ],
   "source": [
    "TP_models = load_models(get_model_TP, tangent=tangent, trade_off=0.1,)\n",
    "TP_xp = test_submission(data, TP_models, all_sysTES=z_list)\n",
    "TP_mean, TP_std = get_mean_std_xp( TP_xp )"
   ]
  },
  {
   "cell_type": "code",
   "execution_count": 22,
   "metadata": {},
   "outputs": [
    {
     "name": "stdout",
     "output_type": "stream",
     "text": [
      "INFO:tensorflow:Restoring parameters from /data/titanic_3/users/vestrade/savings/higgs_uci/PAN_AGNO-3x120-3x120-0.001-1.0-0.01-Adam-SGD-SGD-0/weights.ckpt\n",
      "INFO:tensorflow:Restoring parameters from /data/titanic_3/users/vestrade/savings/higgs_uci/PAN_AGNO-3x120-3x120-0.001-1.0-0.01-Adam-SGD-SGD-1/weights.ckpt\n",
      "INFO:tensorflow:Restoring parameters from /data/titanic_3/users/vestrade/savings/higgs_uci/PAN_AGNO-3x120-3x120-0.001-1.0-0.01-Adam-SGD-SGD-2/weights.ckpt\n",
      "INFO:tensorflow:Restoring parameters from /data/titanic_3/users/vestrade/savings/higgs_uci/PAN_AGNO-3x120-3x120-0.001-1.0-0.01-Adam-SGD-SGD-3/weights.ckpt\n",
      "INFO:tensorflow:Restoring parameters from /data/titanic_3/users/vestrade/savings/higgs_uci/PAN_AGNO-3x120-3x120-0.001-1.0-0.01-Adam-SGD-SGD-4/weights.ckpt\n",
      "2017-11-22 10:36:14 testing model 1/5\n",
      "2017-11-22 10:37:08 testing model 2/5\n",
      "2017-11-22 10:38:02 testing model 3/5\n",
      "2017-11-22 10:38:56 testing model 4/5\n",
      "2017-11-22 10:39:51 testing model 5/5\n"
     ]
    }
   ],
   "source": [
    "PAN_models = load_models(get_model_PAN, skew=skew, width=0.01, trade_off=1.0)\n",
    "PAN_xp = test_submission(data, PAN_models, all_sysTES=z_list)\n",
    "PAN_mean, PAN_std = get_mean_std_xp( PAN_xp )"
   ]
  },
  {
   "cell_type": "code",
   "execution_count": null,
   "metadata": {},
   "outputs": [],
   "source": []
  },
  {
   "cell_type": "code",
   "execution_count": null,
   "metadata": {},
   "outputs": [],
   "source": []
  },
  {
   "cell_type": "code",
   "execution_count": null,
   "metadata": {},
   "outputs": [],
   "source": []
  },
  {
   "cell_type": "markdown",
   "metadata": {},
   "source": [
    "# Plot\n",
    "\n",
    "\n",
    "- What about confusion matrices ???\n"
   ]
  },
  {
   "cell_type": "markdown",
   "metadata": {},
   "source": [
    "## Utils"
   ]
  },
  {
   "cell_type": "code",
   "execution_count": 16,
   "metadata": {},
   "outputs": [],
   "source": [
    "def savitzky_golay(y, window_size, order, deriv=0, rate=1):\n",
    "    r\"\"\"Smooth (and optionally differentiate) data with a Savitzky-Golay filter.\n",
    "    The Savitzky-Golay filter removes high frequency noise from data.\n",
    "    It has the advantage of preserving the original shape and\n",
    "    features of the signal better than other types of filtering\n",
    "    approaches, such as moving averages techniques.\n",
    "    Parameters\n",
    "    ----------\n",
    "    y : array_like, shape (N,)\n",
    "        the values of the time history of the signal.\n",
    "    window_size : int\n",
    "        the length of the window. Must be an odd integer number.\n",
    "    order : int\n",
    "        the order of the polynomial used in the filtering.\n",
    "        Must be less then `window_size` - 1.\n",
    "    deriv: int\n",
    "        the order of the derivative to compute (default = 0 means only smoothing)\n",
    "    Returns\n",
    "    -------\n",
    "    ys : ndarray, shape (N)\n",
    "        the smoothed signal (or it's n-th derivative).\n",
    "    Notes\n",
    "    -----\n",
    "    The Savitzky-Golay is a type of low-pass filter, particularly\n",
    "    suited for smoothing noisy data. The main idea behind this\n",
    "    approach is to make for each point a least-square fit with a\n",
    "    polynomial of high order over a odd-sized window centered at\n",
    "    the point.\n",
    "    Examples\n",
    "    --------\n",
    "    t = np.linspace(-4, 4, 500)\n",
    "    y = np.exp( -t**2 ) + np.random.normal(0, 0.05, t.shape)\n",
    "    ysg = savitzky_golay(y, window_size=31, order=4)\n",
    "    import matplotlib.pyplot as plt\n",
    "    plt.plot(t, y, label='Noisy signal')\n",
    "    plt.plot(t, np.exp(-t**2), 'k', lw=1.5, label='Original signal')\n",
    "    plt.plot(t, ysg, 'r', label='Filtered signal')\n",
    "    plt.legend()\n",
    "    plt.show()\n",
    "    References\n",
    "    ----------\n",
    "    .. [1] A. Savitzky, M. J. E. Golay, Smoothing and Differentiation of\n",
    "       Data by Simplified Least Squares Procedures. Analytical\n",
    "       Chemistry, 1964, 36 (8), pp 1627-1639.\n",
    "    .. [2] Numerical Recipes 3rd Edition: The Art of Scientific Computing\n",
    "       W.H. Press, S.A. Teukolsky, W.T. Vetterling, B.P. Flannery\n",
    "       Cambridge University Press ISBN-13: 9780521880688\n",
    "    \"\"\"\n",
    "    import numpy as np\n",
    "    from math import factorial\n",
    "    \n",
    "    try:\n",
    "        window_size = np.abs(np.int(window_size))\n",
    "        order = np.abs(np.int(order))\n",
    "    except ValueError as msg:\n",
    "        raise ValueError(\"window_size and order have to be of type int\")\n",
    "    if window_size % 2 != 1 or window_size < 1:\n",
    "        raise TypeError(\"window_size size must be a positive odd number\")\n",
    "    if window_size < order + 2:\n",
    "        raise TypeError(\"window_size is too small for the polynomials order\")\n",
    "    order_range = range(order+1)\n",
    "    half_window = (window_size -1) // 2\n",
    "    # precompute coefficients\n",
    "    b = np.mat([[k**i for i in order_range] for k in range(-half_window, half_window+1)])\n",
    "    m = np.linalg.pinv(b).A[deriv] * rate**deriv * factorial(deriv)\n",
    "    # pad the signal at the extremes with\n",
    "    # values taken from the signal itself\n",
    "    firstvals = y[0] - np.abs( y[1:half_window+1][::-1] - y[0] )\n",
    "    lastvals = y[-1] + np.abs(y[-half_window-1:-1][::-1] - y[-1])\n",
    "    y = np.concatenate((firstvals, y, lastvals))\n",
    "    return np.convolve( m[::-1], y, mode='valid')"
   ]
  },
  {
   "cell_type": "code",
   "execution_count": 17,
   "metadata": {},
   "outputs": [],
   "source": [
    "sns.set()\n",
    "sns.set_style(\"whitegrid\")\n",
    "sns.set_context(\"paper\")"
   ]
  },
  {
   "cell_type": "code",
   "execution_count": 18,
   "metadata": {},
   "outputs": [],
   "source": [
    "def tes_to_str(TES):\n",
    "    return '{:+d}%'.format( int(np.round((TES-1)*100)) )"
   ]
  },
  {
   "cell_type": "markdown",
   "metadata": {},
   "source": [
    "## Graphics\n"
   ]
  },
  {
   "cell_type": "code",
   "execution_count": 30,
   "metadata": {},
   "outputs": [],
   "source": [
    "means = [NN_mean, NNDA_mean, TP_mean, PAN_mean]\n",
    "stds = [NN_std, NNDA_std, TP_std, PAN_std]\n",
    "names = ['NN', 'NNDA', 'TP', 'PAN']\n"
   ]
  },
  {
   "cell_type": "code",
   "execution_count": 31,
   "metadata": {},
   "outputs": [
    {
     "data": {
      "image/png": "[encoded data removed]",
      "text/plain": [
       "<matplotlib.figure.Figure at 0x7fb416655550>"
      ]
     },
     "metadata": {},
     "output_type": "display_data"
    }
   ],
   "source": [
    "START = 0.5\n",
    "STOP = 0.99\n",
    "CHOSEN_TES = 1.03\n",
    "\n",
    "xp_mean = NN_mean\n",
    "xp_std = NN_std\n",
    "\n",
    "rank = pd.Series(np.linspace(0, 1, num=xp_mean[CHOSEN_TES]['decision'].shape[0]))\n",
    "index = rank.loc[ (rank > START) & (rank < STOP)].index\n",
    "xx = rank[index] * 100\n",
    "\n",
    "mean = xp_mean[CHOSEN_TES]['error_stat'][index]\n",
    "std = xp_std[CHOSEN_TES]['error_stat'][index]\n",
    "\n",
    "# Smoothing\n",
    "mean = savitzky_golay(mean.values, 1001, 3)\n",
    "std = savitzky_golay(std.values, 1001, 3)\n",
    "\n",
    "plt.plot(xx, mean, label='$\\sigma_0$')\n",
    "plt.fill_between(xx, mean+std, mean-std, alpha=0.5)\n",
    "\n",
    "\n",
    "mean = xp_mean[CHOSEN_TES]['sigma_mu'][index]\n",
    "std = xp_std[CHOSEN_TES]['sigma_mu'][index]\n",
    "\n",
    "# Smoothing\n",
    "mean = savitzky_golay(mean.values, 1001, 3)\n",
    "std = savitzky_golay(std.values, 1001, 3)\n",
    "\n",
    "plt.plot(xx, mean, label='$\\sigma_\\mu/\\mu$')\n",
    "plt.fill_between(xx, mean+std, mean-std, alpha=0.5)\n",
    "\n",
    "plt.ylim((0, 5))\n",
    "plt.xlim((50, 100))\n",
    "plt.plot([50, 86, 86], [1.80, 1.80, 0], 'r--', label='stat threshold')\n",
    "plt.plot([50, 86, 86], [0.28, 0.28, 0], 'b--', label='stat threshold')\n",
    "plt.plot([50, 97.5, 97.5], [0.53, 0.53, 0], 'g--', label='combined threshold')\n",
    "plt.xticks([50, 60, 70, 80, 90] + [86] + [97.5])\n",
    "plt.yticks(list(plt.yticks()[0]) + [0.28, 0.53, 1.80])\n",
    "\n",
    "\n",
    "plt.title('Neural network errors (TES = {})'.format(tes_to_str(CHOSEN_TES)))\n",
    "\n",
    "plt.legend()\n",
    "plt.xlabel('% rejected event')\n",
    "plt.ylabel('errors')\n",
    "plt.show()"
   ]
  },
  {
   "cell_type": "markdown",
   "metadata": {},
   "source": [
    "## Sigma mu"
   ]
  },
  {
   "cell_type": "code",
   "execution_count": 32,
   "metadata": {},
   "outputs": [
    {
     "data": {
      "image/png": "[encoded data removed]",
      "text/plain": [
       "<matplotlib.figure.Figure at 0x7fb6b4422240>"
      ]
     },
     "metadata": {},
     "output_type": "display_data"
    }
   ],
   "source": [
    "START = 0.8\n",
    "STOP = 0.999\n",
    "\n",
    "for xp_mean, xp_std, name in zip(means, stds, names):\n",
    "\n",
    "    rank = pd.Series(np.linspace(0, 1, num=xp_mean[CHOSEN_TES]['decision'].shape[0]))\n",
    "    index = rank.loc[ (rank > START) & (rank < STOP)].index\n",
    "    xx = rank[index] * 100\n",
    "\n",
    "    mean = xp_mean[CHOSEN_TES]['sigma_mu'][index]\n",
    "    std = xp_std[CHOSEN_TES]['sigma_mu'][index]\n",
    "    \n",
    "    # Smoothing\n",
    "    mean = savitzky_golay(mean.values, 1001, 3)\n",
    "    std = savitzky_golay(std.values, 1001, 3)\n",
    "    \n",
    "    plt.plot(xx, mean, label=name)\n",
    "    plt.fill_between(xx, mean+std, mean-std, alpha=0.5)\n",
    "    plt.title('combined error (TES = {})'.format(tes_to_str(CHOSEN_TES)))\n",
    "    \n",
    "plt.legend()\n",
    "plt.xlabel('% rejected event')\n",
    "plt.ylabel('$\\sigma_\\mu/\\mu$')\n",
    "plt.show()"
   ]
  },
  {
   "cell_type": "code",
   "execution_count": null,
   "metadata": {},
   "outputs": [],
   "source": []
  },
  {
   "cell_type": "markdown",
   "metadata": {},
   "source": [
    "# Playground"
   ]
  },
  {
   "cell_type": "code",
   "execution_count": null,
   "metadata": {},
   "outputs": [],
   "source": []
  },
  {
   "cell_type": "code",
   "execution_count": null,
   "metadata": {},
   "outputs": [],
   "source": []
  },
  {
   "cell_type": "code",
   "execution_count": null,
   "metadata": {},
   "outputs": [],
   "source": []
  },
  {
   "cell_type": "code",
   "execution_count": null,
   "metadata": {},
   "outputs": [],
   "source": []
  }
 ],
 "metadata": {
  "kernelspec": {
   "display_name": "Python 3",
   "language": "python",
   "name": "python3"
  },
  "language_info": {
   "codemirror_mode": {
    "name": "ipython",
    "version": 3
   },
   "file_extension": ".py",
   "mimetype": "text/x-python",
   "name": "python",
   "nbconvert_exporter": "python",
   "pygments_lexer": "ipython3",
   "version": "3.6.3"
  },
  "toc": {
   "nav_menu": {},
   "number_sections": false,
   "sideBar": true,
   "skip_h1_title": false,
   "toc_cell": false,
   "toc_position": {},
   "toc_section_display": "block",
   "toc_window_display": true
  }
 },
 "nbformat": 4,
 "nbformat_minor": 2
}
