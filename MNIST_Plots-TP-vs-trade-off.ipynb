{
 "cells": [
  {
   "cell_type": "code",
   "execution_count": 1,
   "metadata": {},
   "outputs": [],
   "source": [
    "from __future__ import print_function\n",
    "from __future__ import division\n",
    "from __future__ import absolute_import\n",
    "from __future__ import unicode_literals\n",
    "\n",
    "import os\n",
    "import sys\n",
    "\n",
    "import numpy as np\n",
    "import pandas as pd\n",
    "\n",
    "import matplotlib.pyplot as plt\n",
    "import seaborn as sns\n",
    "\n",
    "%matplotlib inline"
   ]
  },
  {
   "cell_type": "markdown",
   "metadata": {},
   "source": [
    "# Introduction\n",
    "\n",
    "On fait des plots sur les runs"
   ]
  },
  {
   "cell_type": "code",
   "execution_count": 2,
   "metadata": {},
   "outputs": [],
   "source": [
    "from problem.workflow import print"
   ]
  },
  {
   "cell_type": "code",
   "execution_count": null,
   "metadata": {},
   "outputs": [],
   "source": []
  },
  {
   "cell_type": "markdown",
   "metadata": {},
   "source": [
    "# Data"
   ]
  },
  {
   "cell_type": "code",
   "execution_count": 3,
   "metadata": {},
   "outputs": [],
   "source": [
    "from problem.mnist import load_data"
   ]
  },
  {
   "cell_type": "code",
   "execution_count": 4,
   "metadata": {},
   "outputs": [],
   "source": [
    "X, y = load_data()"
   ]
  },
  {
   "cell_type": "code",
   "execution_count": null,
   "metadata": {},
   "outputs": [],
   "source": []
  },
  {
   "cell_type": "markdown",
   "metadata": {},
   "source": [
    "# Load models"
   ]
  },
  {
   "cell_type": "code",
   "execution_count": 5,
   "metadata": {},
   "outputs": [],
   "source": [
    "from problem.mnist import get_save_directory\n",
    "from problem.mnist import preprocessing\n",
    "from problem.mnist import skew\n",
    "from problem.mnist import tangent\n",
    "from main import get_data_shape"
   ]
  },
  {
   "cell_type": "code",
   "execution_count": 6,
   "metadata": {},
   "outputs": [],
   "source": [
    "def load_models(get_model, *args, **kwargs):\n",
    "    models = []\n",
    "    n_features, n_classes = get_data_shape('mnist')\n",
    "    for i in range(12):\n",
    "        model = get_model(*args, n_features=n_features, n_classes=n_classes, **kwargs)\n",
    "        save_directory = get_save_directory()\n",
    "        model_name = '{}-{}'.format(model.get_name(), i)\n",
    "        path = os.path.join(save_directory, model_name)\n",
    "        model.load(path)\n",
    "        models.append(model)\n",
    "    return models"
   ]
  },
  {
   "cell_type": "code",
   "execution_count": 7,
   "metadata": {},
   "outputs": [],
   "source": [
    "from myNN import get_model as get_model_NN\n",
    "from myNNDA import get_model as get_model_NNDA\n",
    "from myTP import get_model as get_model_TP\n",
    "from myPAN import get_model as get_model_PAN\n"
   ]
  },
  {
   "cell_type": "code",
   "execution_count": null,
   "metadata": {},
   "outputs": [],
   "source": []
  },
  {
   "cell_type": "markdown",
   "metadata": {},
   "source": [
    "# Test submission"
   ]
  },
  {
   "cell_type": "code",
   "execution_count": 8,
   "metadata": {},
   "outputs": [],
   "source": [
    "from problem.mnist import test_submission\n"
   ]
  },
  {
   "cell_type": "code",
   "execution_count": 9,
   "metadata": {},
   "outputs": [],
   "source": [
    "def get_mean_std(df_list):\n",
    "    z = df_list[0]['z']\n",
    "    acc = np.concatenate([df['accuracy'].values.reshape(-1, 1) for df in df_list], axis=1)\n",
    "    mean_acc = np.mean(acc, axis=1)\n",
    "    std_acc = np.std(acc, axis=1)\n",
    "    return mean_acc, std_acc"
   ]
  },
  {
   "cell_type": "code",
   "execution_count": 10,
   "metadata": {},
   "outputs": [],
   "source": [
    "# z_list = list(range(-50, 51, 10)) + list(range(-5, 6, 1))\n",
    "# z_list = sorted(z_list)\n",
    "z_list = np.linspace(-10, 10, num=20)\n"
   ]
  },
  {
   "cell_type": "code",
   "execution_count": null,
   "metadata": {},
   "outputs": [],
   "source": []
  },
  {
   "cell_type": "code",
   "execution_count": 12,
   "metadata": {},
   "outputs": [
    {
     "name": "stdout",
     "output_type": "stream",
     "text": [
      "2017-11-27 13:52:56 testing model 1/12\n",
      "2017-11-27 13:53:36 testing model 2/12\n",
      "2017-11-27 13:54:18 testing model 3/12\n",
      "2017-11-27 13:55:00 testing model 4/12\n",
      "2017-11-27 13:55:42 testing model 5/12\n",
      "2017-11-27 13:56:27 testing model 6/12\n",
      "2017-11-27 13:57:02 testing model 7/12\n",
      "2017-11-27 13:57:45 testing model 8/12\n",
      "2017-11-27 13:58:26 testing model 9/12\n",
      "2017-11-27 13:59:06 testing model 10/12\n",
      "2017-11-27 13:59:48 testing model 11/12\n",
      "2017-11-27 14:00:29 testing model 12/12\n",
      "2017-11-27 14:01:12 Done.\n"
     ]
    }
   ],
   "source": [
    "TP_L01_models = load_models(get_model_TP, preprocessing=preprocessing, trade_off=0.1)\n",
    "df_list = test_submission(TP_L01_models, X, y, z_list=z_list)\n",
    "TP_L01_mean_acc, TP_L01_std_acc = get_mean_std(df_list)\n"
   ]
  },
  {
   "cell_type": "code",
   "execution_count": 13,
   "metadata": {},
   "outputs": [
    {
     "name": "stdout",
     "output_type": "stream",
     "text": [
      "2017-11-27 14:01:12 testing model 1/12\n",
      "2017-11-27 14:01:53 testing model 2/12\n",
      "2017-11-27 14:02:35 testing model 3/12\n",
      "2017-11-27 14:03:16 testing model 4/12\n",
      "2017-11-27 14:03:58 testing model 5/12\n",
      "2017-11-27 14:04:42 testing model 6/12\n",
      "2017-11-27 14:05:21 testing model 7/12\n",
      "2017-11-27 14:06:02 testing model 8/12\n",
      "2017-11-27 14:06:44 testing model 9/12\n",
      "2017-11-27 14:07:25 testing model 10/12\n",
      "2017-11-27 14:08:07 testing model 11/12\n",
      "2017-11-27 14:08:50 testing model 12/12\n",
      "2017-11-27 14:09:31 Done.\n"
     ]
    }
   ],
   "source": [
    "TP_L1_models = load_models(get_model_TP, preprocessing=preprocessing, trade_off=1.0)\n",
    "df_list = test_submission(TP_L1_models, X, y, z_list=z_list)\n",
    "TP_L1_mean_acc, TP_L1_std_acc = get_mean_std(df_list)\n"
   ]
  },
  {
   "cell_type": "code",
   "execution_count": 14,
   "metadata": {},
   "outputs": [
    {
     "name": "stdout",
     "output_type": "stream",
     "text": [
      "2017-11-27 14:09:31 testing model 1/12\n",
      "2017-11-27 14:10:14 testing model 2/12\n",
      "2017-11-27 14:10:59 testing model 3/12\n",
      "2017-11-27 14:11:43 testing model 4/12\n",
      "2017-11-27 14:12:23 testing model 5/12\n",
      "2017-11-27 14:13:05 testing model 6/12\n",
      "2017-11-27 14:13:48 testing model 7/12\n",
      "2017-11-27 14:14:32 testing model 8/12\n",
      "2017-11-27 14:15:13 testing model 9/12\n",
      "2017-11-27 14:15:56 testing model 10/12\n",
      "2017-11-27 14:16:37 testing model 11/12\n",
      "2017-11-27 14:17:19 testing model 12/12\n",
      "2017-11-27 14:18:03 Done.\n"
     ]
    }
   ],
   "source": [
    "TP_L10_models = load_models(get_model_TP, preprocessing=preprocessing, trade_off=10.0)\n",
    "df_list = test_submission(TP_L10_models, X, y, z_list=z_list)\n",
    "TP_L10_mean_acc, TP_L10_std_acc = get_mean_std(df_list)\n"
   ]
  },
  {
   "cell_type": "code",
   "execution_count": 15,
   "metadata": {},
   "outputs": [
    {
     "name": "stdout",
     "output_type": "stream",
     "text": [
      "2017-11-27 14:18:03 testing model 1/12\n",
      "2017-11-27 14:18:50 testing model 2/12\n",
      "2017-11-27 14:19:38 testing model 3/12\n",
      "2017-11-27 14:20:25 testing model 4/12\n",
      "2017-11-27 14:21:07 testing model 5/12\n",
      "2017-11-27 14:21:51 testing model 6/12\n",
      "2017-11-27 14:22:32 testing model 7/12\n",
      "2017-11-27 14:23:18 testing model 8/12\n",
      "2017-11-27 14:23:58 testing model 9/12\n",
      "2017-11-27 14:24:44 testing model 10/12\n",
      "2017-11-27 14:25:28 testing model 11/12\n",
      "2017-11-27 14:26:13 testing model 12/12\n",
      "2017-11-27 14:26:58 Done.\n"
     ]
    }
   ],
   "source": [
    "TP_L100_models = load_models(get_model_TP, preprocessing=preprocessing, trade_off=100.0)\n",
    "df_list = test_submission(TP_L100_models, X, y, z_list=z_list)\n",
    "TP_L100_mean_acc, TP_L100_std_acc = get_mean_std(df_list)\n"
   ]
  },
  {
   "cell_type": "code",
   "execution_count": null,
   "metadata": {},
   "outputs": [],
   "source": []
  },
  {
   "cell_type": "markdown",
   "metadata": {},
   "source": [
    "# Plot\n",
    "\n",
    "\n",
    "- What about confusion matrices ???\n"
   ]
  },
  {
   "cell_type": "code",
   "execution_count": 16,
   "metadata": {},
   "outputs": [],
   "source": [
    "sns.set()\n",
    "sns.set_style(\"whitegrid\")\n",
    "sns.set_context(\"paper\")"
   ]
  },
  {
   "cell_type": "code",
   "execution_count": 17,
   "metadata": {},
   "outputs": [
    {
     "data": {
      "image/png": "[encoded data removed]",
      "text/plain": [
       "<matplotlib.figure.Figure at 0x7fcf63e51ba8>"
      ]
     },
     "metadata": {},
     "output_type": "display_data"
    }
   ],
   "source": [
    "z = z_list\n",
    "\n",
    "# plt.figure(figsize=(20,10))\n",
    "\n",
    "plt.plot(z, TP_L01_mean_acc, label='0.1')\n",
    "plt.fill_between(z, TP_L01_mean_acc+TP_L01_std_acc, TP_L01_mean_acc-TP_L01_std_acc, alpha=0.5)\n",
    "\n",
    "plt.plot(z, TP_L1_mean_acc, label='1')\n",
    "plt.fill_between(z, TP_L1_mean_acc+TP_L1_std_acc, TP_L1_mean_acc-TP_L1_std_acc, alpha=0.5)\n",
    "\n",
    "plt.plot(z, TP_L10_mean_acc, label='10')\n",
    "plt.fill_between(z, TP_L10_mean_acc+TP_L10_std_acc, TP_L10_mean_acc-TP_L10_std_acc, alpha=0.5)\n",
    "\n",
    "plt.plot(z, TP_L100_mean_acc, label='100')\n",
    "plt.fill_between(z, TP_L100_mean_acc+TP_L100_std_acc, TP_L100_mean_acc-TP_L100_std_acc, alpha=0.5)\n",
    "\n",
    "\n",
    "plt.xlabel('angle')\n",
    "plt.ylabel('accuracy')\n",
    "plt.legend()\n",
    "plt.show()\n"
   ]
  },
  {
   "cell_type": "markdown",
   "metadata": {},
   "source": [
    "# Playground"
   ]
  },
  {
   "cell_type": "code",
   "execution_count": null,
   "metadata": {},
   "outputs": [],
   "source": [
    "# i = 0\n",
    "# m = models[i]\n",
    "# cv_iter = get_cv_iter(X, y)\n",
    "# idx_dev, idx_valid = cv_iter[i]\n",
    "# X_test = X[idx_valid]\n",
    "# y_test = y[idx_valid]\n",
    "# acc = accuracy_score(y_test, m.predict(X_test))\n",
    "\n",
    "# print(acc)\n"
   ]
  },
  {
   "cell_type": "code",
   "execution_count": null,
   "metadata": {},
   "outputs": [],
   "source": [
    "# XX = skew(X_test, z=80)\n",
    "# y_pred = m.predict(XX)\n",
    "# acc = accuracy_score(y_test, m.predict(XX))\n",
    "# print(acc)\n",
    "\n",
    "# i = np.random.randint(0, XX.shape[0])\n",
    "# plt.imshow(XX[i].reshape(28,28))\n",
    "\n",
    "# plt.title('label = {}<->truth = {}'.format(y_pred[i], y_test[i]))\n",
    "# plt.show()\n",
    "\n",
    "# plt.imshow(X_test[i].reshape(28,28))\n",
    "# plt.show()\n"
   ]
  },
  {
   "cell_type": "code",
   "execution_count": null,
   "metadata": {},
   "outputs": [],
   "source": [
    "# X_test.shape"
   ]
  },
  {
   "cell_type": "code",
   "execution_count": null,
   "metadata": {},
   "outputs": [],
   "source": [
    "# from myNNDA import data_augment"
   ]
  },
  {
   "cell_type": "code",
   "execution_count": null,
   "metadata": {},
   "outputs": [],
   "source": [
    "# XX = X[:200]\n",
    "# yy = y[:200]\n",
    "# XX2, yy, _ = data_augment(XX, yy, None)"
   ]
  },
  {
   "cell_type": "code",
   "execution_count": null,
   "metadata": {},
   "outputs": [],
   "source": [
    "# i = 67\n",
    "# x = XX2[i].reshape(28, 28)\n",
    "# plt.imshow(x, cmap='Greys')\n",
    "# plt.title('skewed')\n",
    "# plt.show()\n",
    "# x = XX[i].reshape(28, 28)\n",
    "# plt.imshow(x, cmap='Greys')\n",
    "# plt.title('original')\n",
    "# plt.show()"
   ]
  },
  {
   "cell_type": "code",
   "execution_count": null,
   "metadata": {},
   "outputs": [],
   "source": []
  }
 ],
 "metadata": {
  "kernelspec": {
   "display_name": "Python 3",
   "language": "python",
   "name": "python3"
  },
  "language_info": {
   "codemirror_mode": {
    "name": "ipython",
    "version": 3
   },
   "file_extension": ".py",
   "mimetype": "text/x-python",
   "name": "python",
   "nbconvert_exporter": "python",
   "pygments_lexer": "ipython3",
   "version": "3.6.1"
  },
  "toc": {
   "nav_menu": {},
   "number_sections": false,
   "sideBar": true,
   "skip_h1_title": false,
   "toc_cell": false,
   "toc_position": {},
   "toc_section_display": "block",
   "toc_window_display": true
  }
 },
 "nbformat": 4,
 "nbformat_minor": 2
}
