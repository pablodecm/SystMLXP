{
 "cells": [
  {
   "cell_type": "code",
   "execution_count": 1,
   "metadata": {},
   "outputs": [
    {
     "ename": "ImportError",
     "evalue": "No module named 'seaborn'",
     "output_type": "error",
     "traceback": [
      "\u001b[0;31m---------------------------------------------------------------------------\u001b[0m",
      "\u001b[0;31mImportError\u001b[0m                               Traceback (most recent call last)",
      "\u001b[0;32m<ipython-input-1-47d5905ae9df>\u001b[0m in \u001b[0;36m<module>\u001b[0;34m()\u001b[0m\n\u001b[1;32m     11\u001b[0m \u001b[0;34m\u001b[0m\u001b[0m\n\u001b[1;32m     12\u001b[0m \u001b[0;32mimport\u001b[0m \u001b[0mmatplotlib\u001b[0m\u001b[0;34m.\u001b[0m\u001b[0mpyplot\u001b[0m \u001b[0;32mas\u001b[0m \u001b[0mplt\u001b[0m\u001b[0;34m\u001b[0m\u001b[0m\n\u001b[0;32m---> 13\u001b[0;31m \u001b[0;32mimport\u001b[0m \u001b[0mseaborn\u001b[0m \u001b[0;32mas\u001b[0m \u001b[0msns\u001b[0m\u001b[0;34m\u001b[0m\u001b[0m\n\u001b[0m\u001b[1;32m     14\u001b[0m \u001b[0;34m\u001b[0m\u001b[0m\n\u001b[1;32m     15\u001b[0m \u001b[0mget_ipython\u001b[0m\u001b[0;34m(\u001b[0m\u001b[0;34m)\u001b[0m\u001b[0;34m.\u001b[0m\u001b[0mrun_line_magic\u001b[0m\u001b[0;34m(\u001b[0m\u001b[0;34m'matplotlib'\u001b[0m\u001b[0;34m,\u001b[0m \u001b[0;34m'inline'\u001b[0m\u001b[0;34m)\u001b[0m\u001b[0;34m\u001b[0m\u001b[0m\n",
      "\u001b[0;31mImportError\u001b[0m: No module named 'seaborn'"
     ]
    }
   ],
   "source": [
    "from __future__ import print_function\n",
    "from __future__ import division\n",
    "from __future__ import absolute_import\n",
    "from __future__ import unicode_literals\n",
    "\n",
    "import os\n",
    "import sys\n",
    "\n",
    "import numpy as np\n",
    "import pandas as pd\n",
    "\n",
    "import matplotlib.pyplot as plt\n",
    "import seaborn as sns\n",
    "\n",
    "%matplotlib inline"
   ]
  },
  {
   "cell_type": "markdown",
   "metadata": {},
   "source": [
    "# Introduction\n",
    "\n",
    "On fait des plots sur les runs"
   ]
  },
  {
   "cell_type": "code",
   "execution_count": 2,
   "metadata": {},
   "outputs": [],
   "source": [
    "from problem.workflow import print"
   ]
  },
  {
   "cell_type": "code",
   "execution_count": null,
   "metadata": {},
   "outputs": [],
   "source": []
  },
  {
   "cell_type": "markdown",
   "metadata": {},
   "source": [
    "# Data"
   ]
  },
  {
   "cell_type": "code",
   "execution_count": 3,
   "metadata": {},
   "outputs": [],
   "source": [
    "from problem.mnist import load_data"
   ]
  },
  {
   "cell_type": "code",
   "execution_count": 4,
   "metadata": {},
   "outputs": [],
   "source": [
    "X, y = load_data()"
   ]
  },
  {
   "cell_type": "code",
   "execution_count": null,
   "metadata": {},
   "outputs": [],
   "source": []
  },
  {
   "cell_type": "markdown",
   "metadata": {},
   "source": [
    "# Load models"
   ]
  },
  {
   "cell_type": "code",
   "execution_count": 5,
   "metadata": {},
   "outputs": [],
   "source": [
    "from problem.mnist import get_save_directory\n",
    "from problem.mnist import preprocessing\n",
    "from problem.mnist import skew\n",
    "from problem.mnist import tangent\n",
    "from main import get_data_shape"
   ]
  },
  {
   "cell_type": "code",
   "execution_count": 6,
   "metadata": {},
   "outputs": [],
   "source": [
    "def load_models(get_model, *args, **kwargs):\n",
    "    models = []\n",
    "    n_features, n_classes = get_data_shape('mnist')\n",
    "    for i in range(12):\n",
    "        model = get_model(*args, n_features=n_features, n_classes=n_classes, **kwargs)\n",
    "        save_directory = get_save_directory()\n",
    "        model_name = '{}-{}'.format(model.get_name(), i)\n",
    "        path = os.path.join(save_directory, model_name)\n",
    "        model.load(path)\n",
    "        models.append(model)\n",
    "    return models"
   ]
  },
  {
   "cell_type": "code",
   "execution_count": 7,
   "metadata": {},
   "outputs": [],
   "source": [
    "from myNN import get_model as get_model_NN\n",
    "from myNNDA import get_model as get_model_NNDA\n",
    "from myTP import get_model as get_model_TP\n",
    "from myPAN import get_model as get_model_PAN\n"
   ]
  },
  {
   "cell_type": "code",
   "execution_count": null,
   "metadata": {},
   "outputs": [],
   "source": []
  },
  {
   "cell_type": "markdown",
   "metadata": {},
   "source": [
    "# Test submission"
   ]
  },
  {
   "cell_type": "code",
   "execution_count": 8,
   "metadata": {},
   "outputs": [],
   "source": [
    "from problem.mnist import test_submission\n"
   ]
  },
  {
   "cell_type": "code",
   "execution_count": 9,
   "metadata": {},
   "outputs": [],
   "source": [
    "def get_mean_std(df_list):\n",
    "    z = df_list[0]['z']\n",
    "    acc = np.concatenate([df['accuracy'].values.reshape(-1, 1) for df in df_list], axis=1)\n",
    "    mean_acc = np.mean(acc, axis=1)\n",
    "    std_acc = np.std(acc, axis=1)\n",
    "    return mean_acc, std_acc"
   ]
  },
  {
   "cell_type": "code",
   "execution_count": 10,
   "metadata": {},
   "outputs": [],
   "source": [
    "# z_list = list(range(-50, 51, 10)) + list(range(-5, 6, 1))\n",
    "# z_list = sorted(z_list)\n",
    "z_list = np.linspace(-10, 10, num=20)\n"
   ]
  },
  {
   "cell_type": "code",
   "execution_count": 11,
   "metadata": {},
   "outputs": [
    {
     "name": "stdout",
     "output_type": "stream",
     "text": [
      "2017-11-27 16:11:54 testing model 1/12\n",
      "2017-11-27 16:12:59 testing model 2/12\n",
      "2017-11-27 16:13:59 testing model 3/12\n",
      "2017-11-27 16:15:02 testing model 4/12\n",
      "2017-11-27 16:16:02 testing model 5/12\n",
      "2017-11-27 16:17:04 testing model 6/12\n",
      "2017-11-27 16:18:08 testing model 7/12\n",
      "2017-11-27 16:19:08 testing model 8/12\n",
      "2017-11-27 16:20:13 testing model 9/12\n",
      "2017-11-27 16:21:12 testing model 10/12\n",
      "2017-11-27 16:22:15 testing model 11/12\n",
      "2017-11-27 16:23:15 testing model 12/12\n",
      "2017-11-27 16:24:19 Done.\n"
     ]
    }
   ],
   "source": [
    "NN_models = load_models(get_model_NN, preprocessing=preprocessing)\n",
    "df_list = test_submission(NN_models, X, y, z_list=z_list)\n",
    "NN_mean_acc, NN_std_acc = get_mean_std(df_list)\n"
   ]
  },
  {
   "cell_type": "code",
   "execution_count": 12,
   "metadata": {},
   "outputs": [
    {
     "name": "stdout",
     "output_type": "stream",
     "text": [
      "2017-11-27 16:24:19 testing model 1/12\n",
      "2017-11-27 16:25:21 testing model 2/12\n",
      "2017-11-27 16:26:28 testing model 3/12\n",
      "2017-11-27 16:27:28 testing model 4/12\n",
      "2017-11-27 16:28:30 testing model 5/12\n",
      "2017-11-27 16:29:30 testing model 6/12\n",
      "2017-11-27 16:30:35 testing model 7/12\n",
      "2017-11-27 16:31:35 testing model 8/12\n",
      "2017-11-27 16:32:34 testing model 9/12\n",
      "2017-11-27 16:33:37 testing model 10/12\n",
      "2017-11-27 16:34:38 testing model 11/12\n",
      "2017-11-27 16:35:41 testing model 12/12\n",
      "2017-11-27 16:36:38 Done.\n"
     ]
    }
   ],
   "source": [
    "NNDA_1_models = load_models(get_model_NNDA, preprocessing=preprocessing, skew=skew, width=1.)\n",
    "df_list = test_submission(NNDA_1_models, X, y, z_list=z_list)\n",
    "NNDA_1_mean_acc, NNDA_1_std_acc = get_mean_std(df_list)\n"
   ]
  },
  {
   "cell_type": "code",
   "execution_count": 13,
   "metadata": {},
   "outputs": [
    {
     "name": "stdout",
     "output_type": "stream",
     "text": [
      "2017-11-27 16:36:38 testing model 1/12\n",
      "2017-11-27 16:37:40 testing model 2/12\n",
      "2017-11-27 16:38:46 testing model 3/12\n",
      "2017-11-27 16:39:49 testing model 4/12\n",
      "2017-11-27 16:40:49 testing model 5/12\n",
      "2017-11-27 16:41:55 testing model 6/12\n",
      "2017-11-27 16:42:56 testing model 7/12\n",
      "2017-11-27 16:44:01 testing model 8/12\n",
      "2017-11-27 16:45:06 testing model 9/12\n",
      "2017-11-27 16:46:09 testing model 10/12\n",
      "2017-11-27 16:47:13 testing model 11/12\n",
      "2017-11-27 16:48:14 testing model 12/12\n",
      "2017-11-27 16:49:17 Done.\n"
     ]
    }
   ],
   "source": [
    "NNDA_3_models = load_models(get_model_NNDA, preprocessing=preprocessing, skew=skew, width=3.)\n",
    "df_list = test_submission(NNDA_3_models, X, y, z_list=z_list)\n",
    "NNDA_3_mean_acc, NNDA_3_std_acc = get_mean_std(df_list)\n"
   ]
  },
  {
   "cell_type": "code",
   "execution_count": 14,
   "metadata": {},
   "outputs": [
    {
     "name": "stdout",
     "output_type": "stream",
     "text": [
      "2017-11-27 16:49:18 testing model 1/12\n",
      "2017-11-27 16:50:18 testing model 2/12\n",
      "2017-11-27 16:51:23 testing model 3/12\n",
      "2017-11-27 16:52:23 testing model 4/12\n",
      "2017-11-27 16:53:24 testing model 5/12\n",
      "2017-11-27 16:54:25 testing model 6/12\n",
      "2017-11-27 16:55:27 testing model 7/12\n",
      "2017-11-27 16:56:29 testing model 8/12\n",
      "2017-11-27 16:57:23 testing model 9/12\n",
      "2017-11-27 16:58:20 testing model 10/12\n",
      "2017-11-27 16:59:20 testing model 11/12\n",
      "2017-11-27 17:00:13 testing model 12/12\n",
      "2017-11-27 17:01:10 Done.\n"
     ]
    }
   ],
   "source": [
    "NNDA_5_models = load_models(get_model_NNDA, preprocessing=preprocessing, skew=skew, width=5.)\n",
    "df_list = test_submission(NNDA_5_models, X, y, z_list=z_list)\n",
    "NNDA_5_mean_acc, NNDA_5_std_acc = get_mean_std(df_list)\n"
   ]
  },
  {
   "cell_type": "code",
   "execution_count": 15,
   "metadata": {},
   "outputs": [
    {
     "name": "stdout",
     "output_type": "stream",
     "text": [
      "2017-11-27 17:01:10 testing model 1/12\n",
      "2017-11-27 17:02:06 testing model 2/12\n",
      "2017-11-27 17:03:00 testing model 3/12\n",
      "2017-11-27 17:03:54 testing model 4/12\n",
      "2017-11-27 17:04:54 testing model 5/12\n",
      "2017-11-27 17:05:52 testing model 6/12\n",
      "2017-11-27 17:06:51 testing model 7/12\n",
      "2017-11-27 17:07:44 testing model 8/12\n",
      "2017-11-27 17:08:44 testing model 9/12\n",
      "2017-11-27 17:09:40 testing model 10/12\n",
      "2017-11-27 17:10:40 testing model 11/12\n",
      "2017-11-27 17:11:32 testing model 12/12\n",
      "2017-11-27 17:12:33 Done.\n"
     ]
    }
   ],
   "source": [
    "NNDA_10_models = load_models(get_model_NNDA, preprocessing=preprocessing, skew=skew, width=10.)\n",
    "df_list = test_submission(NNDA_10_models, X, y, z_list=z_list)\n",
    "NNDA_10_mean_acc, NNDA_10_std_acc = get_mean_std(df_list)\n"
   ]
  },
  {
   "cell_type": "code",
   "execution_count": 16,
   "metadata": {},
   "outputs": [
    {
     "name": "stdout",
     "output_type": "stream",
     "text": [
      "2017-11-27 17:12:33 testing model 1/12\n",
      "2017-11-27 17:13:27 testing model 2/12\n",
      "2017-11-27 17:14:28 testing model 3/12\n",
      "2017-11-27 17:15:24 testing model 4/12\n",
      "2017-11-27 17:16:25 testing model 5/12\n",
      "2017-11-27 17:17:25 testing model 6/12\n",
      "2017-11-27 17:18:27 testing model 7/12\n",
      "2017-11-27 17:19:25 testing model 8/12\n",
      "2017-11-27 17:20:26 testing model 9/12\n",
      "2017-11-27 17:21:13 testing model 10/12\n",
      "2017-11-27 17:22:00 testing model 11/12\n",
      "2017-11-27 17:22:54 testing model 12/12\n",
      "2017-11-27 17:23:54 Done.\n"
     ]
    }
   ],
   "source": [
    "NNDA_15_models = load_models(get_model_NNDA, preprocessing=preprocessing, skew=skew, width=15.)\n",
    "df_list = test_submission(NNDA_15_models, X, y, z_list=z_list)\n",
    "NNDA_15_mean_acc, NNDA_15_std_acc = get_mean_std(df_list)\n"
   ]
  },
  {
   "cell_type": "code",
   "execution_count": null,
   "metadata": {},
   "outputs": [],
   "source": []
  },
  {
   "cell_type": "markdown",
   "metadata": {},
   "source": [
    "# Plot\n",
    "\n",
    "\n",
    "- What about confusion matrices ???\n"
   ]
  },
  {
   "cell_type": "code",
   "execution_count": 17,
   "metadata": {},
   "outputs": [],
   "source": [
    "sns.set()\n",
    "sns.set_style(\"whitegrid\")\n",
    "sns.set_context(\"paper\")"
   ]
  },
  {
   "cell_type": "code",
   "execution_count": 18,
   "metadata": {},
   "outputs": [
    {
     "data": {
      "image/png": "[encoded data removed]",
      "text/plain": [
       "<matplotlib.figure.Figure at 0x7ff995dab5c0>"
      ]
     },
     "metadata": {},
     "output_type": "display_data"
    }
   ],
   "source": [
    "z = z_list\n",
    "\n",
    "# plt.figure(figsize=(20,10))\n",
    "\n",
    "plt.plot(z, NNDA_1_mean_acc, label='1')\n",
    "plt.fill_between(z, NNDA_1_mean_acc+NNDA_1_std_acc, NNDA_1_mean_acc-NNDA_1_std_acc, alpha=0.5)\n",
    "\n",
    "plt.plot(z, NNDA_3_mean_acc, label='3')\n",
    "plt.fill_between(z, NNDA_3_mean_acc+NNDA_3_std_acc, NNDA_3_mean_acc-NNDA_3_std_acc, alpha=0.5)\n",
    "\n",
    "plt.plot(z, NNDA_5_mean_acc, label='5')\n",
    "plt.fill_between(z, NNDA_5_mean_acc+NNDA_5_std_acc, NNDA_5_mean_acc-NNDA_5_std_acc, alpha=0.5)\n",
    "\n",
    "plt.plot(z, NNDA_10_mean_acc, label='10')\n",
    "plt.fill_between(z, NNDA_10_mean_acc+NNDA_10_std_acc, NNDA_10_mean_acc-NNDA_10_std_acc, alpha=0.5)\n",
    "\n",
    "plt.plot(z, NNDA_15_mean_acc, label='15')\n",
    "plt.fill_between(z, NNDA_15_mean_acc+NNDA_15_std_acc, NNDA_15_mean_acc-NNDA_15_std_acc, alpha=0.5)\n",
    "\n",
    "\n",
    "plt.plot(z, NN_mean_acc, label='NN')\n",
    "plt.fill_between(z, NN_mean_acc+NN_std_acc, NN_mean_acc-NN_std_acc, alpha=0.5)\n",
    "\n",
    "\n",
    "plt.xlabel('angle')\n",
    "plt.ylabel('accuracy')\n",
    "plt.legend()\n",
    "plt.show()\n"
   ]
  },
  {
   "cell_type": "code",
   "execution_count": 19,
   "metadata": {},
   "outputs": [
    {
     "data": {
      "image/png": "[encoded data removed]",
      "text/plain": [
       "<matplotlib.figure.Figure at 0x7ff993cdcc88>"
      ]
     },
     "metadata": {},
     "output_type": "display_data"
    }
   ],
   "source": [
    "# plt.figure(figsize=(15,8))\n",
    "\n",
    "zz = np.random.normal( loc=0, scale=1, size=(70000) )\n",
    "sns.distplot(zz, label='1')\n",
    "\n",
    "zz = np.random.normal( loc=0, scale=3, size=(70000) )\n",
    "sns.distplot(zz, label='3')\n",
    "\n",
    "zz = np.random.normal( loc=0, scale=5, size=(70000) )\n",
    "sns.distplot(zz, label='5')\n",
    "\n",
    "zz = np.random.normal( loc=0, scale=10, size=(70000) )\n",
    "sns.distplot(zz, label='10')\n",
    "\n",
    "zz = np.random.normal( loc=0, scale=15, size=(70000) )\n",
    "sns.distplot(zz, label='15')\n",
    "\n",
    "plt.xlabel('angle')\n",
    "plt.legend()\n",
    "plt.show()"
   ]
  },
  {
   "cell_type": "markdown",
   "metadata": {},
   "source": [
    "# Playground"
   ]
  },
  {
   "cell_type": "code",
   "execution_count": 20,
   "metadata": {},
   "outputs": [],
   "source": [
    "# i = 0\n",
    "# m = models[i]\n",
    "# cv_iter = get_cv_iter(X, y)\n",
    "# idx_dev, idx_valid = cv_iter[i]\n",
    "# X_test = X[idx_valid]\n",
    "# y_test = y[idx_valid]\n",
    "# acc = accuracy_score(y_test, m.predict(X_test))\n",
    "\n",
    "# print(acc)\n"
   ]
  },
  {
   "cell_type": "code",
   "execution_count": 21,
   "metadata": {},
   "outputs": [],
   "source": [
    "# XX = skew(X_test, z=80)\n",
    "# y_pred = m.predict(XX)\n",
    "# acc = accuracy_score(y_test, m.predict(XX))\n",
    "# print(acc)\n",
    "\n",
    "# i = np.random.randint(0, XX.shape[0])\n",
    "# plt.imshow(XX[i].reshape(28,28))\n",
    "\n",
    "# plt.title('label = {}<->truth = {}'.format(y_pred[i], y_test[i]))\n",
    "# plt.show()\n",
    "\n",
    "# plt.imshow(X_test[i].reshape(28,28))\n",
    "# plt.show()\n"
   ]
  },
  {
   "cell_type": "code",
   "execution_count": 22,
   "metadata": {},
   "outputs": [],
   "source": [
    "# X_test.shape"
   ]
  },
  {
   "cell_type": "code",
   "execution_count": 23,
   "metadata": {},
   "outputs": [],
   "source": [
    "# from myNNDA import data_augment"
   ]
  },
  {
   "cell_type": "code",
   "execution_count": 24,
   "metadata": {},
   "outputs": [],
   "source": [
    "# XX = X[:200]\n",
    "# yy = y[:200]\n",
    "# XX2, yy, _ = data_augment(XX, yy, None)"
   ]
  },
  {
   "cell_type": "code",
   "execution_count": 25,
   "metadata": {},
   "outputs": [],
   "source": [
    "# i = 67\n",
    "# x = XX2[i].reshape(28, 28)\n",
    "# plt.imshow(x, cmap='Greys')\n",
    "# plt.title('skewed')\n",
    "# plt.show()\n",
    "# x = XX[i].reshape(28, 28)\n",
    "# plt.imshow(x, cmap='Greys')\n",
    "# plt.title('original')\n",
    "# plt.show()"
   ]
  },
  {
   "cell_type": "code",
   "execution_count": null,
   "metadata": {},
   "outputs": [],
   "source": []
  }
 ],
 "metadata": {
  "kernelspec": {
   "display_name": "Python 3",
   "language": "python",
   "name": "python3"
  },
  "toc": {
   "nav_menu": {},
   "number_sections": false,
   "sideBar": true,
   "skip_h1_title": false,
   "toc_cell": false,
   "toc_position": {},
   "toc_section_display": "block",
   "toc_window_display": true
  }
 },
 "nbformat": 4,
 "nbformat_minor": 2
}
