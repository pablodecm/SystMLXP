{
 "cells": [
  {
   "cell_type": "code",
   "execution_count": 1,
   "metadata": {},
   "outputs": [],
   "source": [
    "from __future__ import print_function\n",
    "from __future__ import division\n",
    "from __future__ import absolute_import\n",
    "from __future__ import unicode_literals\n",
    "\n",
    "import os\n",
    "import sys\n",
    "\n",
    "import numpy as np\n",
    "import pandas as pd\n",
    "\n",
    "import matplotlib.pyplot as plt\n",
    "import seaborn as sns\n",
    "\n",
    "%matplotlib inline"
   ]
  },
  {
   "cell_type": "markdown",
   "metadata": {},
   "source": [
    "# Introduction\n",
    "\n",
    "On fait des plots sur les runs"
   ]
  },
  {
   "cell_type": "code",
   "execution_count": 2,
   "metadata": {},
   "outputs": [],
   "source": [
    "from problem.workflow import print"
   ]
  },
  {
   "cell_type": "code",
   "execution_count": null,
   "metadata": {},
   "outputs": [],
   "source": []
  },
  {
   "cell_type": "markdown",
   "metadata": {},
   "source": [
    "# Data"
   ]
  },
  {
   "cell_type": "code",
   "execution_count": 3,
   "metadata": {},
   "outputs": [],
   "source": [
    "from problem.mnist import load_data"
   ]
  },
  {
   "cell_type": "code",
   "execution_count": 4,
   "metadata": {},
   "outputs": [],
   "source": [
    "X, y = load_data()"
   ]
  },
  {
   "cell_type": "code",
   "execution_count": null,
   "metadata": {},
   "outputs": [],
   "source": []
  },
  {
   "cell_type": "markdown",
   "metadata": {},
   "source": [
    "# Load models"
   ]
  },
  {
   "cell_type": "code",
   "execution_count": 5,
   "metadata": {},
   "outputs": [],
   "source": [
    "from problem.mnist import get_save_directory\n",
    "from problem.mnist import preprocessing\n",
    "from problem.mnist import skew\n",
    "from problem.mnist import tangent\n",
    "from main import get_data_shape"
   ]
  },
  {
   "cell_type": "code",
   "execution_count": 6,
   "metadata": {},
   "outputs": [],
   "source": [
    "def load_models(get_model, *args, **kwargs):\n",
    "    models = []\n",
    "    n_features, n_classes = get_data_shape('mnist')\n",
    "    for i in range(12):\n",
    "        model = get_model(*args, n_features=n_features, n_classes=n_classes, **kwargs)\n",
    "        save_directory = get_save_directory()\n",
    "        model_name = '{}-{}'.format(model.get_name(), i)\n",
    "        path = os.path.join(save_directory, model_name)\n",
    "        model.load(path)\n",
    "        models.append(model)\n",
    "    return models"
   ]
  },
  {
   "cell_type": "code",
   "execution_count": 7,
   "metadata": {},
   "outputs": [],
   "source": [
    "from myNN import get_model as get_model_NN\n",
    "from myNNDA import get_model as get_model_NNDA\n",
    "from myNNA import get_model as get_model_NNA\n",
    "from myTP import get_model as get_model_TP\n",
    "from myPAN import get_model as get_model_PAN\n"
   ]
  },
  {
   "cell_type": "code",
   "execution_count": null,
   "metadata": {},
   "outputs": [],
   "source": []
  },
  {
   "cell_type": "markdown",
   "metadata": {},
   "source": [
    "# Test submission"
   ]
  },
  {
   "cell_type": "code",
   "execution_count": 8,
   "metadata": {},
   "outputs": [],
   "source": [
    "from problem.mnist import test_submission\n"
   ]
  },
  {
   "cell_type": "code",
   "execution_count": 9,
   "metadata": {},
   "outputs": [],
   "source": [
    "def get_mean_std(df_list):\n",
    "    z = df_list[0]['z']\n",
    "    acc = np.concatenate([df['accuracy'].values.reshape(-1, 1) for df in df_list], axis=1)\n",
    "    mean_acc = np.mean(acc, axis=1)\n",
    "    std_acc = np.std(acc, axis=1)\n",
    "    return mean_acc, std_acc"
   ]
  },
  {
   "cell_type": "code",
   "execution_count": 12,
   "metadata": {},
   "outputs": [],
   "source": [
    "# z_list = list(range(-50, 51, 10)) + list(range(-5, 6, 1))\n",
    "# z_list = sorted(z_list)\n",
    "z_list = np.linspace(-10, 10, num=21)\n",
    "# z_list = np.linspace(-5, 5, num=10)\n"
   ]
  },
  {
   "cell_type": "code",
   "execution_count": 14,
   "metadata": {},
   "outputs": [
    {
     "name": "stdout",
     "output_type": "stream",
     "text": [
      "2017-12-19 16:59:36 [-10.  -9.  -8.  -7.  -6.  -5.  -4.  -3.  -2.  -1.   0.   1.   2.   3.   4.\n",
      "   5.   6.   7.   8.   9.  10.]\n"
     ]
    }
   ],
   "source": [
    "print(z_list)"
   ]
  },
  {
   "cell_type": "code",
   "execution_count": 15,
   "metadata": {},
   "outputs": [
    {
     "name": "stdout",
     "output_type": "stream",
     "text": [
      "2017-12-19 16:59:50 testing model 1/12\n",
      "2017-12-19 17:00:27 testing model 2/12\n",
      "2017-12-19 17:01:04 testing model 3/12\n",
      "2017-12-19 17:01:41 testing model 4/12\n",
      "2017-12-19 17:02:18 testing model 5/12\n",
      "2017-12-19 17:02:55 testing model 6/12\n",
      "2017-12-19 17:03:32 testing model 7/12\n",
      "2017-12-19 17:04:08 testing model 8/12\n",
      "2017-12-19 17:04:45 testing model 9/12\n",
      "2017-12-19 17:05:22 testing model 10/12\n",
      "2017-12-19 17:05:59 testing model 11/12\n",
      "2017-12-19 17:06:36 testing model 12/12\n",
      "2017-12-19 17:07:12 Done.\n"
     ]
    }
   ],
   "source": [
    "NN_models = load_models(get_model_NN, preprocessing=preprocessing)\n",
    "df_list = test_submission(NN_models, X, y, z_list=z_list)\n",
    "NN_mean_acc, NN_std_acc = get_mean_std(df_list)\n"
   ]
  },
  {
   "cell_type": "code",
   "execution_count": 16,
   "metadata": {},
   "outputs": [
    {
     "name": "stdout",
     "output_type": "stream",
     "text": [
      "2017-12-19 17:07:13 testing model 1/12\n",
      "2017-12-19 17:07:49 testing model 2/12\n",
      "2017-12-19 17:08:26 testing model 3/12\n",
      "2017-12-19 17:09:03 testing model 4/12\n",
      "2017-12-19 17:09:39 testing model 5/12\n",
      "2017-12-19 17:10:17 testing model 6/12\n",
      "2017-12-19 17:10:54 testing model 7/12\n",
      "2017-12-19 17:11:31 testing model 8/12\n",
      "2017-12-19 17:12:08 testing model 9/12\n",
      "2017-12-19 17:12:44 testing model 10/12\n",
      "2017-12-19 17:13:22 testing model 11/12\n",
      "2017-12-19 17:13:59 testing model 12/12\n",
      "2017-12-19 17:14:37 Done.\n"
     ]
    }
   ],
   "source": [
    "NNDA_models = load_models(get_model_NNDA, preprocessing=preprocessing, skew=skew, width=5., )\n",
    "df_list = test_submission(NNDA_models, X, y, z_list=z_list)\n",
    "NNDA_mean_acc, NNDA_std_acc = get_mean_std(df_list)\n"
   ]
  },
  {
   "cell_type": "code",
   "execution_count": 17,
   "metadata": {},
   "outputs": [
    {
     "name": "stdout",
     "output_type": "stream",
     "text": [
      "2017-12-19 17:14:37 testing model 1/12\n",
      "2017-12-19 17:15:14 testing model 2/12\n",
      "2017-12-19 17:15:51 testing model 3/12\n",
      "2017-12-19 17:16:27 testing model 4/12\n",
      "2017-12-19 17:17:03 testing model 5/12\n",
      "2017-12-19 17:17:39 testing model 6/12\n",
      "2017-12-19 17:18:14 testing model 7/12\n",
      "2017-12-19 17:18:49 testing model 8/12\n",
      "2017-12-19 17:19:24 testing model 9/12\n",
      "2017-12-19 17:19:59 testing model 10/12\n",
      "2017-12-19 17:20:35 testing model 11/12\n",
      "2017-12-19 17:21:11 testing model 12/12\n",
      "2017-12-19 17:21:45 Done.\n"
     ]
    }
   ],
   "source": [
    "NNA_models = load_models(get_model_NNA, preprocessing=preprocessing, skew=skew, width=5., )\n",
    "df_list = test_submission(NNA_models, X, y, z_list=z_list)\n",
    "NNA_mean_acc, NNA_std_acc = get_mean_std(df_list)\n"
   ]
  },
  {
   "cell_type": "code",
   "execution_count": 18,
   "metadata": {},
   "outputs": [
    {
     "name": "stdout",
     "output_type": "stream",
     "text": [
      "2017-12-19 17:21:45 testing model 1/12\n",
      "2017-12-19 17:22:19 testing model 2/12\n",
      "2017-12-19 17:22:54 testing model 3/12\n",
      "2017-12-19 17:23:29 testing model 4/12\n",
      "2017-12-19 17:24:04 testing model 5/12\n",
      "2017-12-19 17:24:38 testing model 6/12\n",
      "2017-12-19 17:25:13 testing model 7/12\n",
      "2017-12-19 17:25:47 testing model 8/12\n",
      "2017-12-19 17:26:21 testing model 9/12\n",
      "2017-12-19 17:26:56 testing model 10/12\n",
      "2017-12-19 17:27:30 testing model 11/12\n",
      "2017-12-19 17:28:04 testing model 12/12\n",
      "2017-12-19 17:28:38 Done.\n"
     ]
    }
   ],
   "source": [
    "TP_models = load_models(get_model_TP, preprocessing=preprocessing, tangent=tangent, trade_off=1.0, )\n",
    "df_list = test_submission(TP_models, X, y, z_list=z_list)\n",
    "TP_mean_acc, TP_std_acc = get_mean_std(df_list)\n"
   ]
  },
  {
   "cell_type": "code",
   "execution_count": 19,
   "metadata": {},
   "outputs": [
    {
     "name": "stdout",
     "output_type": "stream",
     "text": [
      "INFO:tensorflow:Restoring parameters from /data/titanic_3/users/vestrade/savings/mnist/PAN_AGNO-3x120-3x120-0.001-1.0-5.0-Adam-SGD-SGD-0/weights.ckpt\n",
      "INFO:tensorflow:Restoring parameters from /data/titanic_3/users/vestrade/savings/mnist/PAN_AGNO-3x120-3x120-0.001-1.0-5.0-Adam-SGD-SGD-1/weights.ckpt\n",
      "INFO:tensorflow:Restoring parameters from /data/titanic_3/users/vestrade/savings/mnist/PAN_AGNO-3x120-3x120-0.001-1.0-5.0-Adam-SGD-SGD-2/weights.ckpt\n",
      "INFO:tensorflow:Restoring parameters from /data/titanic_3/users/vestrade/savings/mnist/PAN_AGNO-3x120-3x120-0.001-1.0-5.0-Adam-SGD-SGD-3/weights.ckpt\n",
      "INFO:tensorflow:Restoring parameters from /data/titanic_3/users/vestrade/savings/mnist/PAN_AGNO-3x120-3x120-0.001-1.0-5.0-Adam-SGD-SGD-4/weights.ckpt\n",
      "INFO:tensorflow:Restoring parameters from /data/titanic_3/users/vestrade/savings/mnist/PAN_AGNO-3x120-3x120-0.001-1.0-5.0-Adam-SGD-SGD-5/weights.ckpt\n",
      "INFO:tensorflow:Restoring parameters from /data/titanic_3/users/vestrade/savings/mnist/PAN_AGNO-3x120-3x120-0.001-1.0-5.0-Adam-SGD-SGD-6/weights.ckpt\n",
      "INFO:tensorflow:Restoring parameters from /data/titanic_3/users/vestrade/savings/mnist/PAN_AGNO-3x120-3x120-0.001-1.0-5.0-Adam-SGD-SGD-7/weights.ckpt\n",
      "INFO:tensorflow:Restoring parameters from /data/titanic_3/users/vestrade/savings/mnist/PAN_AGNO-3x120-3x120-0.001-1.0-5.0-Adam-SGD-SGD-8/weights.ckpt\n",
      "INFO:tensorflow:Restoring parameters from /data/titanic_3/users/vestrade/savings/mnist/PAN_AGNO-3x120-3x120-0.001-1.0-5.0-Adam-SGD-SGD-9/weights.ckpt\n",
      "INFO:tensorflow:Restoring parameters from /data/titanic_3/users/vestrade/savings/mnist/PAN_AGNO-3x120-3x120-0.001-1.0-5.0-Adam-SGD-SGD-10/weights.ckpt\n",
      "INFO:tensorflow:Restoring parameters from /data/titanic_3/users/vestrade/savings/mnist/PAN_AGNO-3x120-3x120-0.001-1.0-5.0-Adam-SGD-SGD-11/weights.ckpt\n",
      "2017-12-19 17:29:03 testing model 1/12\n",
      "2017-12-19 17:29:44 testing model 2/12\n",
      "2017-12-19 17:30:26 testing model 3/12\n",
      "2017-12-19 17:31:09 testing model 4/12\n",
      "2017-12-19 17:31:51 testing model 5/12\n",
      "2017-12-19 17:32:33 testing model 6/12\n",
      "2017-12-19 17:33:15 testing model 7/12\n",
      "2017-12-19 17:33:57 testing model 8/12\n",
      "2017-12-19 17:34:39 testing model 9/12\n",
      "2017-12-19 17:35:21 testing model 10/12\n",
      "2017-12-19 17:36:03 testing model 11/12\n",
      "2017-12-19 17:36:45 testing model 12/12\n",
      "2017-12-19 17:37:25 Done.\n"
     ]
    }
   ],
   "source": [
    "PAN_models = load_models(get_model_PAN, preprocessing=preprocessing, skew=skew, width=5., trade_off=1.0)\n",
    "df_list = test_submission(PAN_models, X, y, z_list=z_list)\n",
    "PAN_mean_acc, PAN_std_acc = get_mean_std(df_list)\n"
   ]
  },
  {
   "cell_type": "code",
   "execution_count": null,
   "metadata": {},
   "outputs": [],
   "source": []
  },
  {
   "cell_type": "markdown",
   "metadata": {},
   "source": [
    "# Plot\n",
    "\n",
    "\n",
    "- What about confusion matrices ???\n"
   ]
  },
  {
   "cell_type": "code",
   "execution_count": 20,
   "metadata": {},
   "outputs": [],
   "source": [
    "sns.set()\n",
    "sns.set_style(\"whitegrid\")\n",
    "sns.set_context(\"poster\")"
   ]
  },
  {
   "cell_type": "code",
   "execution_count": 24,
   "metadata": {},
   "outputs": [
    {
     "data": {
      "image/png": "[encoded data removed]",
      "text/plain": [
       "<matplotlib.figure.Figure at 0x7f21a98af080>"
      ]
     },
     "metadata": {},
     "output_type": "display_data"
    }
   ],
   "source": [
    "z = z_list\n",
    "\n",
    "plt.figure(figsize=(8*2,6*2))\n",
    "\n",
    "plt.plot(z, NN_mean_acc, 'o-', label='NN')\n",
    "# plt.fill_between(z, NN_mean_acc+NN_std_acc, NN_mean_acc-NN_std_acc, alpha=0.5)\n",
    "\n",
    "plt.plot(z, NNDA_mean_acc, 'o-', label='NNP')\n",
    "# plt.fill_between(z, NNDA_mean_acc+NNDA_std_acc, NNDA_mean_acc-NNDA_std_acc, alpha=0.5)\n",
    "\n",
    "plt.plot(z, NNA_mean_acc, 'o-', label='NNA')\n",
    "# plt.fill_between(z, NNA_mean_acc+NNA_std_acc, NNA_mean_acc-NNA_std_acc, alpha=0.5)\n",
    "\n",
    "plt.plot(z, TP_mean_acc, 'o-', label='TP')\n",
    "# plt.fill_between(z, TP_mean_acc+TP_std_acc, TP_mean_acc-TP_std_acc, alpha=0.5)\n",
    "\n",
    "plt.plot(z, PAN_mean_acc, 'o-', label='PAN')\n",
    "# plt.fill_between(z, PAN_mean_acc+PAN_std_acc, PAN_mean_acc-PAN_std_acc, alpha=0.5)\n",
    "\n",
    "plt.title('MNIST accuracy')\n",
    "\n",
    "plt.xlabel('angle', fontsize=30)\n",
    "plt.ylabel('accuracy', fontsize=30)\n",
    "plt.legend(prop={'size': 30})\n",
    "plt.show()\n"
   ]
  },
  {
   "cell_type": "code",
   "execution_count": null,
   "metadata": {},
   "outputs": [],
   "source": []
  },
  {
   "cell_type": "markdown",
   "metadata": {},
   "source": [
    "# Playground"
   ]
  },
  {
   "cell_type": "code",
   "execution_count": 18,
   "metadata": {},
   "outputs": [],
   "source": [
    "# i = 0\n",
    "# m = models[i]\n",
    "# cv_iter = get_cv_iter(X, y)\n",
    "# idx_dev, idx_valid = cv_iter[i]\n",
    "# X_test = X[idx_valid]\n",
    "# y_test = y[idx_valid]\n",
    "# acc = accuracy_score(y_test, m.predict(X_test))\n",
    "\n",
    "# print(acc)\n"
   ]
  },
  {
   "cell_type": "code",
   "execution_count": 19,
   "metadata": {},
   "outputs": [],
   "source": [
    "# XX = skew(X_test, z=80)\n",
    "# y_pred = m.predict(XX)\n",
    "# acc = accuracy_score(y_test, m.predict(XX))\n",
    "# print(acc)\n",
    "\n",
    "# i = np.random.randint(0, XX.shape[0])\n",
    "# plt.imshow(XX[i].reshape(28,28))\n",
    "\n",
    "# plt.title('label = {}<->truth = {}'.format(y_pred[i], y_test[i]))\n",
    "# plt.show()\n",
    "\n",
    "# plt.imshow(X_test[i].reshape(28,28))\n",
    "# plt.show()\n"
   ]
  },
  {
   "cell_type": "code",
   "execution_count": 20,
   "metadata": {},
   "outputs": [],
   "source": [
    "# X_test.shape"
   ]
  },
  {
   "cell_type": "code",
   "execution_count": 21,
   "metadata": {},
   "outputs": [],
   "source": [
    "# from myNNDA import data_augment"
   ]
  },
  {
   "cell_type": "code",
   "execution_count": 22,
   "metadata": {},
   "outputs": [],
   "source": [
    "# XX = X[:200]\n",
    "# yy = y[:200]\n",
    "# XX2, yy, _ = data_augment(XX, yy, None)"
   ]
  },
  {
   "cell_type": "code",
   "execution_count": 23,
   "metadata": {},
   "outputs": [],
   "source": [
    "# i = 67\n",
    "# x = XX2[i].reshape(28, 28)\n",
    "# plt.imshow(x, cmap='Greys')\n",
    "# plt.title('skewed')\n",
    "# plt.show()\n",
    "# x = XX[i].reshape(28, 28)\n",
    "# plt.imshow(x, cmap='Greys')\n",
    "# plt.title('original')\n",
    "# plt.show()"
   ]
  },
  {
   "cell_type": "code",
   "execution_count": 24,
   "metadata": {},
   "outputs": [
    {
     "data": {
      "image/png": "[encoded data removed]",
      "text/plain": [
       "<matplotlib.figure.Figure at 0x7f34e9c648d0>"
      ]
     },
     "metadata": {},
     "output_type": "display_data"
    }
   ],
   "source": [
    "model = TP_models[0]\n",
    "plt.plot(model.losses)\n",
    "plt.show()"
   ]
  },
  {
   "cell_type": "code",
   "execution_count": 25,
   "metadata": {},
   "outputs": [
    {
     "data": {
      "text/html": [
       "<div>\n",
       "<style>\n",
       "    .dataframe thead tr:only-child th {\n",
       "        text-align: right;\n",
       "    }\n",
       "\n",
       "    .dataframe thead th {\n",
       "        text-align: left;\n",
       "    }\n",
       "\n",
       "    .dataframe tbody tr th {\n",
       "        vertical-align: top;\n",
       "    }\n",
       "</style>\n",
       "<table border=\"1\" class=\"dataframe\">\n",
       "  <thead>\n",
       "    <tr style=\"text-align: right;\">\n",
       "      <th></th>\n",
       "      <th>z</th>\n",
       "      <th>accuracy</th>\n",
       "    </tr>\n",
       "  </thead>\n",
       "  <tbody>\n",
       "    <tr>\n",
       "      <th>0</th>\n",
       "      <td>-10.000000</td>\n",
       "      <td>0.960429</td>\n",
       "    </tr>\n",
       "    <tr>\n",
       "      <th>1</th>\n",
       "      <td>-8.947368</td>\n",
       "      <td>0.965000</td>\n",
       "    </tr>\n",
       "    <tr>\n",
       "      <th>2</th>\n",
       "      <td>-7.894737</td>\n",
       "      <td>0.968214</td>\n",
       "    </tr>\n",
       "    <tr>\n",
       "      <th>3</th>\n",
       "      <td>-6.842105</td>\n",
       "      <td>0.969500</td>\n",
       "    </tr>\n",
       "    <tr>\n",
       "      <th>4</th>\n",
       "      <td>-5.789474</td>\n",
       "      <td>0.971786</td>\n",
       "    </tr>\n",
       "    <tr>\n",
       "      <th>5</th>\n",
       "      <td>-4.736842</td>\n",
       "      <td>0.972857</td>\n",
       "    </tr>\n",
       "    <tr>\n",
       "      <th>6</th>\n",
       "      <td>-3.684211</td>\n",
       "      <td>0.973286</td>\n",
       "    </tr>\n",
       "    <tr>\n",
       "      <th>7</th>\n",
       "      <td>-2.631579</td>\n",
       "      <td>0.974000</td>\n",
       "    </tr>\n",
       "    <tr>\n",
       "      <th>8</th>\n",
       "      <td>-1.578947</td>\n",
       "      <td>0.975214</td>\n",
       "    </tr>\n",
       "    <tr>\n",
       "      <th>9</th>\n",
       "      <td>-0.526316</td>\n",
       "      <td>0.975286</td>\n",
       "    </tr>\n",
       "    <tr>\n",
       "      <th>10</th>\n",
       "      <td>0.526316</td>\n",
       "      <td>0.976000</td>\n",
       "    </tr>\n",
       "    <tr>\n",
       "      <th>11</th>\n",
       "      <td>1.578947</td>\n",
       "      <td>0.975643</td>\n",
       "    </tr>\n",
       "    <tr>\n",
       "      <th>12</th>\n",
       "      <td>2.631579</td>\n",
       "      <td>0.975357</td>\n",
       "    </tr>\n",
       "    <tr>\n",
       "      <th>13</th>\n",
       "      <td>3.684211</td>\n",
       "      <td>0.975071</td>\n",
       "    </tr>\n",
       "    <tr>\n",
       "      <th>14</th>\n",
       "      <td>4.736842</td>\n",
       "      <td>0.975000</td>\n",
       "    </tr>\n",
       "    <tr>\n",
       "      <th>15</th>\n",
       "      <td>5.789474</td>\n",
       "      <td>0.974000</td>\n",
       "    </tr>\n",
       "    <tr>\n",
       "      <th>16</th>\n",
       "      <td>6.842105</td>\n",
       "      <td>0.972214</td>\n",
       "    </tr>\n",
       "    <tr>\n",
       "      <th>17</th>\n",
       "      <td>7.894737</td>\n",
       "      <td>0.971000</td>\n",
       "    </tr>\n",
       "    <tr>\n",
       "      <th>18</th>\n",
       "      <td>8.947368</td>\n",
       "      <td>0.969071</td>\n",
       "    </tr>\n",
       "    <tr>\n",
       "      <th>19</th>\n",
       "      <td>10.000000</td>\n",
       "      <td>0.966643</td>\n",
       "    </tr>\n",
       "  </tbody>\n",
       "</table>\n",
       "</div>"
      ],
      "text/plain": [
       "            z  accuracy\n",
       "0  -10.000000  0.960429\n",
       "1   -8.947368  0.965000\n",
       "2   -7.894737  0.968214\n",
       "3   -6.842105  0.969500\n",
       "4   -5.789474  0.971786\n",
       "5   -4.736842  0.972857\n",
       "6   -3.684211  0.973286\n",
       "7   -2.631579  0.974000\n",
       "8   -1.578947  0.975214\n",
       "9   -0.526316  0.975286\n",
       "10   0.526316  0.976000\n",
       "11   1.578947  0.975643\n",
       "12   2.631579  0.975357\n",
       "13   3.684211  0.975071\n",
       "14   4.736842  0.975000\n",
       "15   5.789474  0.974000\n",
       "16   6.842105  0.972214\n",
       "17   7.894737  0.971000\n",
       "18   8.947368  0.969071\n",
       "19  10.000000  0.966643"
      ]
     },
     "execution_count": 25,
     "metadata": {},
     "output_type": "execute_result"
    }
   ],
   "source": [
    "df_list[0]"
   ]
  },
  {
   "cell_type": "code",
   "execution_count": 26,
   "metadata": {},
   "outputs": [
    {
     "data": {
      "text/html": [
       "<div>\n",
       "<style>\n",
       "    .dataframe thead tr:only-child th {\n",
       "        text-align: right;\n",
       "    }\n",
       "\n",
       "    .dataframe thead th {\n",
       "        text-align: left;\n",
       "    }\n",
       "\n",
       "    .dataframe tbody tr th {\n",
       "        vertical-align: top;\n",
       "    }\n",
       "</style>\n",
       "<table border=\"1\" class=\"dataframe\">\n",
       "  <thead>\n",
       "    <tr style=\"text-align: right;\">\n",
       "      <th></th>\n",
       "      <th>z</th>\n",
       "      <th>accuracy</th>\n",
       "    </tr>\n",
       "  </thead>\n",
       "  <tbody>\n",
       "    <tr>\n",
       "      <th>0</th>\n",
       "      <td>-10.000000</td>\n",
       "      <td>0.960429</td>\n",
       "    </tr>\n",
       "    <tr>\n",
       "      <th>1</th>\n",
       "      <td>-8.947368</td>\n",
       "      <td>0.965000</td>\n",
       "    </tr>\n",
       "    <tr>\n",
       "      <th>2</th>\n",
       "      <td>-7.894737</td>\n",
       "      <td>0.968214</td>\n",
       "    </tr>\n",
       "    <tr>\n",
       "      <th>3</th>\n",
       "      <td>-6.842105</td>\n",
       "      <td>0.969500</td>\n",
       "    </tr>\n",
       "    <tr>\n",
       "      <th>4</th>\n",
       "      <td>-5.789474</td>\n",
       "      <td>0.971786</td>\n",
       "    </tr>\n",
       "    <tr>\n",
       "      <th>5</th>\n",
       "      <td>-4.736842</td>\n",
       "      <td>0.972857</td>\n",
       "    </tr>\n",
       "    <tr>\n",
       "      <th>6</th>\n",
       "      <td>-3.684211</td>\n",
       "      <td>0.973286</td>\n",
       "    </tr>\n",
       "    <tr>\n",
       "      <th>7</th>\n",
       "      <td>-2.631579</td>\n",
       "      <td>0.974000</td>\n",
       "    </tr>\n",
       "    <tr>\n",
       "      <th>8</th>\n",
       "      <td>-1.578947</td>\n",
       "      <td>0.975214</td>\n",
       "    </tr>\n",
       "    <tr>\n",
       "      <th>9</th>\n",
       "      <td>-0.526316</td>\n",
       "      <td>0.975286</td>\n",
       "    </tr>\n",
       "    <tr>\n",
       "      <th>10</th>\n",
       "      <td>0.526316</td>\n",
       "      <td>0.976000</td>\n",
       "    </tr>\n",
       "    <tr>\n",
       "      <th>11</th>\n",
       "      <td>1.578947</td>\n",
       "      <td>0.975643</td>\n",
       "    </tr>\n",
       "    <tr>\n",
       "      <th>12</th>\n",
       "      <td>2.631579</td>\n",
       "      <td>0.975357</td>\n",
       "    </tr>\n",
       "    <tr>\n",
       "      <th>13</th>\n",
       "      <td>3.684211</td>\n",
       "      <td>0.975071</td>\n",
       "    </tr>\n",
       "    <tr>\n",
       "      <th>14</th>\n",
       "      <td>4.736842</td>\n",
       "      <td>0.975000</td>\n",
       "    </tr>\n",
       "    <tr>\n",
       "      <th>15</th>\n",
       "      <td>5.789474</td>\n",
       "      <td>0.974000</td>\n",
       "    </tr>\n",
       "    <tr>\n",
       "      <th>16</th>\n",
       "      <td>6.842105</td>\n",
       "      <td>0.972214</td>\n",
       "    </tr>\n",
       "    <tr>\n",
       "      <th>17</th>\n",
       "      <td>7.894737</td>\n",
       "      <td>0.971000</td>\n",
       "    </tr>\n",
       "    <tr>\n",
       "      <th>18</th>\n",
       "      <td>8.947368</td>\n",
       "      <td>0.969071</td>\n",
       "    </tr>\n",
       "    <tr>\n",
       "      <th>19</th>\n",
       "      <td>10.000000</td>\n",
       "      <td>0.966643</td>\n",
       "    </tr>\n",
       "  </tbody>\n",
       "</table>\n",
       "</div>"
      ],
      "text/plain": [
       "            z  accuracy\n",
       "0  -10.000000  0.960429\n",
       "1   -8.947368  0.965000\n",
       "2   -7.894737  0.968214\n",
       "3   -6.842105  0.969500\n",
       "4   -5.789474  0.971786\n",
       "5   -4.736842  0.972857\n",
       "6   -3.684211  0.973286\n",
       "7   -2.631579  0.974000\n",
       "8   -1.578947  0.975214\n",
       "9   -0.526316  0.975286\n",
       "10   0.526316  0.976000\n",
       "11   1.578947  0.975643\n",
       "12   2.631579  0.975357\n",
       "13   3.684211  0.975071\n",
       "14   4.736842  0.975000\n",
       "15   5.789474  0.974000\n",
       "16   6.842105  0.972214\n",
       "17   7.894737  0.971000\n",
       "18   8.947368  0.969071\n",
       "19  10.000000  0.966643"
      ]
     },
     "execution_count": 26,
     "metadata": {},
     "output_type": "execute_result"
    }
   ],
   "source": [
    "df_list[0]"
   ]
  },
  {
   "cell_type": "code",
   "execution_count": 27,
   "metadata": {},
   "outputs": [
    {
     "name": "stdout",
     "output_type": "stream",
     "text": [
      "2017-12-08 17:27:01 z           0.526316\n",
      "accuracy    0.976000\n",
      "Name: 10, dtype: float64\n",
      "2017-12-08 17:27:01 z           0.526316\n",
      "accuracy    0.975214\n",
      "Name: 10, dtype: float64\n",
      "2017-12-08 17:27:01 z           0.526316\n",
      "accuracy    0.975143\n",
      "Name: 10, dtype: float64\n",
      "2017-12-08 17:27:01 z           0.526316\n",
      "accuracy    0.977286\n",
      "Name: 10, dtype: float64\n",
      "2017-12-08 17:27:01 z           0.526316\n",
      "accuracy    0.978571\n",
      "Name: 10, dtype: float64\n",
      "2017-12-08 17:27:01 z           0.526316\n",
      "accuracy    0.973786\n",
      "Name: 10, dtype: float64\n",
      "2017-12-08 17:27:01 z           0.526316\n",
      "accuracy    0.977357\n",
      "Name: 10, dtype: float64\n",
      "2017-12-08 17:27:01 z           0.526316\n",
      "accuracy    0.978214\n",
      "Name: 10, dtype: float64\n",
      "2017-12-08 17:27:01 z           0.526316\n",
      "accuracy    0.976786\n",
      "Name: 10, dtype: float64\n",
      "2017-12-08 17:27:01 z           0.526316\n",
      "accuracy    0.978429\n",
      "Name: 10, dtype: float64\n",
      "2017-12-08 17:27:01 z           0.526316\n",
      "accuracy    0.974357\n",
      "Name: 10, dtype: float64\n",
      "2017-12-08 17:27:01 z           0.526316\n",
      "accuracy    0.978357\n",
      "Name: 10, dtype: float64\n"
     ]
    }
   ],
   "source": [
    "for df in df_list:\n",
    "    print(df.iloc[10])"
   ]
  },
  {
   "cell_type": "code",
   "execution_count": null,
   "metadata": {},
   "outputs": [],
   "source": []
  }
 ],
 "metadata": {
  "kernelspec": {
   "display_name": "Python 3",
   "language": "python",
   "name": "python3"
  },
  "language_info": {
   "codemirror_mode": {
    "name": "ipython",
    "version": 3
   },
   "file_extension": ".py",
   "mimetype": "text/x-python",
   "name": "python",
   "nbconvert_exporter": "python",
   "pygments_lexer": "ipython3",
   "version": "3.6.1"
  },
  "toc": {
   "nav_menu": {},
   "number_sections": false,
   "sideBar": true,
   "skip_h1_title": false,
   "toc_cell": false,
   "toc_position": {},
   "toc_section_display": "block",
   "toc_window_display": true
  }
 },
 "nbformat": 4,
 "nbformat_minor": 2
}
