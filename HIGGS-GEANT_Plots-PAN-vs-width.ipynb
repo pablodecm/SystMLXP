{
 "cells": [
  {
   "cell_type": "code",
   "execution_count": 1,
   "metadata": {},
   "outputs": [],
   "source": [
    "from __future__ import print_function\n",
    "from __future__ import division\n",
    "from __future__ import absolute_import\n",
    "from __future__ import unicode_literals\n",
    "\n",
    "import os\n",
    "import sys\n",
    "\n",
    "import numpy as np\n",
    "import pandas as pd\n",
    "\n",
    "import matplotlib.pyplot as plt\n",
    "import seaborn as sns\n",
    "\n",
    "%matplotlib inline"
   ]
  },
  {
   "cell_type": "markdown",
   "metadata": {},
   "source": [
    "# Introduction\n",
    "\n",
    "On fait des plots sur les runs"
   ]
  },
  {
   "cell_type": "code",
   "execution_count": 2,
   "metadata": {},
   "outputs": [],
   "source": [
    "from problem.workflow import print"
   ]
  },
  {
   "cell_type": "code",
   "execution_count": null,
   "metadata": {},
   "outputs": [],
   "source": []
  },
  {
   "cell_type": "markdown",
   "metadata": {},
   "source": [
    "# Data"
   ]
  },
  {
   "cell_type": "code",
   "execution_count": 3,
   "metadata": {},
   "outputs": [],
   "source": [
    "from problem.higgs_geant import load_data"
   ]
  },
  {
   "cell_type": "code",
   "execution_count": 4,
   "metadata": {},
   "outputs": [],
   "source": [
    "data, _ = load_data()"
   ]
  },
  {
   "cell_type": "code",
   "execution_count": 5,
   "metadata": {},
   "outputs": [
    {
     "data": {
      "text/html": [
       "<div>\n",
       "<style>\n",
       "    .dataframe thead tr:only-child th {\n",
       "        text-align: right;\n",
       "    }\n",
       "\n",
       "    .dataframe thead th {\n",
       "        text-align: left;\n",
       "    }\n",
       "\n",
       "    .dataframe tbody tr th {\n",
       "        vertical-align: top;\n",
       "    }\n",
       "</style>\n",
       "<table border=\"1\" class=\"dataframe\">\n",
       "  <thead>\n",
       "    <tr style=\"text-align: right;\">\n",
       "      <th></th>\n",
       "      <th>DER_mass_MMC</th>\n",
       "      <th>DER_mass_transverse_met_lep</th>\n",
       "      <th>DER_mass_vis</th>\n",
       "      <th>DER_pt_h</th>\n",
       "      <th>DER_deltaeta_jet_jet</th>\n",
       "      <th>DER_mass_jet_jet</th>\n",
       "      <th>DER_prodeta_jet_jet</th>\n",
       "      <th>DER_deltar_tau_lep</th>\n",
       "      <th>DER_pt_tot</th>\n",
       "      <th>DER_sum_pt</th>\n",
       "      <th>...</th>\n",
       "      <th>PRI_jet_num</th>\n",
       "      <th>PRI_jet_leading_pt</th>\n",
       "      <th>PRI_jet_leading_eta</th>\n",
       "      <th>PRI_jet_leading_phi</th>\n",
       "      <th>PRI_jet_subleading_pt</th>\n",
       "      <th>PRI_jet_subleading_eta</th>\n",
       "      <th>PRI_jet_subleading_phi</th>\n",
       "      <th>PRI_jet_all_pt</th>\n",
       "      <th>Weight</th>\n",
       "      <th>Label</th>\n",
       "    </tr>\n",
       "  </thead>\n",
       "  <tbody>\n",
       "    <tr>\n",
       "      <th>0</th>\n",
       "      <td>138.470</td>\n",
       "      <td>51.655</td>\n",
       "      <td>97.827</td>\n",
       "      <td>27.980</td>\n",
       "      <td>0.91</td>\n",
       "      <td>124.711</td>\n",
       "      <td>2.666</td>\n",
       "      <td>3.064</td>\n",
       "      <td>41.928</td>\n",
       "      <td>197.760</td>\n",
       "      <td>...</td>\n",
       "      <td>2</td>\n",
       "      <td>67.435</td>\n",
       "      <td>2.150</td>\n",
       "      <td>0.444</td>\n",
       "      <td>46.062</td>\n",
       "      <td>1.24</td>\n",
       "      <td>-2.475</td>\n",
       "      <td>113.497</td>\n",
       "      <td>0.000814</td>\n",
       "      <td>1.0</td>\n",
       "    </tr>\n",
       "    <tr>\n",
       "      <th>1</th>\n",
       "      <td>160.937</td>\n",
       "      <td>68.768</td>\n",
       "      <td>103.235</td>\n",
       "      <td>48.146</td>\n",
       "      <td>0.00</td>\n",
       "      <td>0.000</td>\n",
       "      <td>0.000</td>\n",
       "      <td>3.473</td>\n",
       "      <td>2.078</td>\n",
       "      <td>125.157</td>\n",
       "      <td>...</td>\n",
       "      <td>1</td>\n",
       "      <td>46.226</td>\n",
       "      <td>0.725</td>\n",
       "      <td>1.158</td>\n",
       "      <td>0.000</td>\n",
       "      <td>0.00</td>\n",
       "      <td>0.000</td>\n",
       "      <td>46.226</td>\n",
       "      <td>0.681042</td>\n",
       "      <td>0.0</td>\n",
       "    </tr>\n",
       "    <tr>\n",
       "      <th>2</th>\n",
       "      <td>0.000</td>\n",
       "      <td>162.172</td>\n",
       "      <td>125.953</td>\n",
       "      <td>35.635</td>\n",
       "      <td>0.00</td>\n",
       "      <td>0.000</td>\n",
       "      <td>0.000</td>\n",
       "      <td>3.148</td>\n",
       "      <td>9.336</td>\n",
       "      <td>197.814</td>\n",
       "      <td>...</td>\n",
       "      <td>1</td>\n",
       "      <td>44.251</td>\n",
       "      <td>2.053</td>\n",
       "      <td>-2.028</td>\n",
       "      <td>0.000</td>\n",
       "      <td>0.00</td>\n",
       "      <td>0.000</td>\n",
       "      <td>44.251</td>\n",
       "      <td>0.715742</td>\n",
       "      <td>0.0</td>\n",
       "    </tr>\n",
       "    <tr>\n",
       "      <th>3</th>\n",
       "      <td>143.905</td>\n",
       "      <td>81.417</td>\n",
       "      <td>80.943</td>\n",
       "      <td>0.414</td>\n",
       "      <td>0.00</td>\n",
       "      <td>0.000</td>\n",
       "      <td>0.000</td>\n",
       "      <td>3.310</td>\n",
       "      <td>0.414</td>\n",
       "      <td>75.968</td>\n",
       "      <td>...</td>\n",
       "      <td>0</td>\n",
       "      <td>0.000</td>\n",
       "      <td>0.000</td>\n",
       "      <td>0.000</td>\n",
       "      <td>0.000</td>\n",
       "      <td>0.00</td>\n",
       "      <td>0.000</td>\n",
       "      <td>-0.000</td>\n",
       "      <td>1.660654</td>\n",
       "      <td>0.0</td>\n",
       "    </tr>\n",
       "    <tr>\n",
       "      <th>4</th>\n",
       "      <td>175.864</td>\n",
       "      <td>16.915</td>\n",
       "      <td>134.805</td>\n",
       "      <td>16.405</td>\n",
       "      <td>0.00</td>\n",
       "      <td>0.000</td>\n",
       "      <td>0.000</td>\n",
       "      <td>3.891</td>\n",
       "      <td>16.405</td>\n",
       "      <td>57.983</td>\n",
       "      <td>...</td>\n",
       "      <td>0</td>\n",
       "      <td>0.000</td>\n",
       "      <td>0.000</td>\n",
       "      <td>0.000</td>\n",
       "      <td>0.000</td>\n",
       "      <td>0.00</td>\n",
       "      <td>0.000</td>\n",
       "      <td>0.000</td>\n",
       "      <td>1.904263</td>\n",
       "      <td>0.0</td>\n",
       "    </tr>\n",
       "  </tbody>\n",
       "</table>\n",
       "<p>5 rows × 32 columns</p>\n",
       "</div>"
      ],
      "text/plain": [
       "   DER_mass_MMC  DER_mass_transverse_met_lep  DER_mass_vis  DER_pt_h  \\\n",
       "0       138.470                       51.655        97.827    27.980   \n",
       "1       160.937                       68.768       103.235    48.146   \n",
       "2         0.000                      162.172       125.953    35.635   \n",
       "3       143.905                       81.417        80.943     0.414   \n",
       "4       175.864                       16.915       134.805    16.405   \n",
       "\n",
       "   DER_deltaeta_jet_jet  DER_mass_jet_jet  DER_prodeta_jet_jet  \\\n",
       "0                  0.91           124.711                2.666   \n",
       "1                  0.00             0.000                0.000   \n",
       "2                  0.00             0.000                0.000   \n",
       "3                  0.00             0.000                0.000   \n",
       "4                  0.00             0.000                0.000   \n",
       "\n",
       "   DER_deltar_tau_lep  DER_pt_tot  DER_sum_pt  ...    PRI_jet_num  \\\n",
       "0               3.064      41.928     197.760  ...              2   \n",
       "1               3.473       2.078     125.157  ...              1   \n",
       "2               3.148       9.336     197.814  ...              1   \n",
       "3               3.310       0.414      75.968  ...              0   \n",
       "4               3.891      16.405      57.983  ...              0   \n",
       "\n",
       "   PRI_jet_leading_pt  PRI_jet_leading_eta  PRI_jet_leading_phi  \\\n",
       "0              67.435                2.150                0.444   \n",
       "1              46.226                0.725                1.158   \n",
       "2              44.251                2.053               -2.028   \n",
       "3               0.000                0.000                0.000   \n",
       "4               0.000                0.000                0.000   \n",
       "\n",
       "   PRI_jet_subleading_pt  PRI_jet_subleading_eta  PRI_jet_subleading_phi  \\\n",
       "0                 46.062                    1.24                  -2.475   \n",
       "1                  0.000                    0.00                   0.000   \n",
       "2                  0.000                    0.00                   0.000   \n",
       "3                  0.000                    0.00                   0.000   \n",
       "4                  0.000                    0.00                   0.000   \n",
       "\n",
       "   PRI_jet_all_pt    Weight  Label  \n",
       "0         113.497  0.000814    1.0  \n",
       "1          46.226  0.681042    0.0  \n",
       "2          44.251  0.715742    0.0  \n",
       "3          -0.000  1.660654    0.0  \n",
       "4           0.000  1.904263    0.0  \n",
       "\n",
       "[5 rows x 32 columns]"
      ]
     },
     "execution_count": 5,
     "metadata": {},
     "output_type": "execute_result"
    }
   ],
   "source": [
    "data.head()"
   ]
  },
  {
   "cell_type": "markdown",
   "metadata": {},
   "source": [
    "# Load models"
   ]
  },
  {
   "cell_type": "code",
   "execution_count": 6,
   "metadata": {},
   "outputs": [],
   "source": [
    "from problem.higgs_geant import get_save_directory\n",
    "from problem.higgs_geant import skew\n",
    "from problem.higgs_geant import tangent\n",
    "from main import get_data_shape"
   ]
  },
  {
   "cell_type": "code",
   "execution_count": 7,
   "metadata": {},
   "outputs": [],
   "source": [
    "def load_models(get_model, *args, **kwargs):\n",
    "    models = []\n",
    "    n_features, n_classes = get_data_shape('higgs-geant')\n",
    "    for i in range(12):\n",
    "        model = get_model(*args, n_features=n_features, n_classes=n_classes, **kwargs)\n",
    "        save_directory = get_save_directory()\n",
    "        model_name = '{}-{}'.format(model.get_name(), i)\n",
    "        path = os.path.join(save_directory, model_name)\n",
    "        model.load(path)\n",
    "        models.append(model)\n",
    "    return models"
   ]
  },
  {
   "cell_type": "code",
   "execution_count": 8,
   "metadata": {},
   "outputs": [],
   "source": [
    "from myNN import get_model as get_model_NN\n",
    "from myNNDA import get_model as get_model_NNDA\n",
    "from myTP import get_model as get_model_TP\n",
    "from myPAN import get_model as get_model_PAN\n"
   ]
  },
  {
   "cell_type": "code",
   "execution_count": null,
   "metadata": {},
   "outputs": [],
   "source": []
  },
  {
   "cell_type": "markdown",
   "metadata": {},
   "source": [
    "# Test submission"
   ]
  },
  {
   "cell_type": "code",
   "execution_count": 9,
   "metadata": {},
   "outputs": [],
   "source": [
    "from problem.higgs_geant import test_submission\n"
   ]
  },
  {
   "cell_type": "code",
   "execution_count": 10,
   "metadata": {},
   "outputs": [],
   "source": [
    "from experiment import basic_metrics_xp\n",
    "from experiment import merge_decision_xp\n",
    "from experiment import complete_metrics_xp\n",
    "from experiment import systematic_xp\n",
    "from experiment import reduce_mean_xp\n",
    "from experiment import reduce_std_xp\n",
    "\n",
    "def get_syst_xp(xp, training_TES=1.0, n_bin=5000):\n",
    "    xp = basic_metrics_xp(xp, n_bin=n_bin)\n",
    "    xp = merge_decision_xp(xp)\n",
    "    xp = complete_metrics_xp(xp)\n",
    "    syst_xp = systematic_xp(xp, training_TES)\n",
    "    return syst_xp\n",
    "\n",
    "def get_mean_std_xp(xp, training_TES=1.0, n_bin=5000):\n",
    "    syst_xp = get_syst_xp(xp, training_TES, n_bin=n_bin)\n",
    "    xp_mean = reduce_mean_xp(syst_xp)\n",
    "    xp_std = reduce_std_xp(syst_xp)\n",
    "    return xp_mean, xp_std"
   ]
  },
  {
   "cell_type": "code",
   "execution_count": 11,
   "metadata": {},
   "outputs": [],
   "source": [
    "# z_list = list(range(-50, 51, 10)) + list(range(-5, 6, 1))\n",
    "# z_list = sorted(z_list)\n",
    "# z_list = np.linspace(-10, 10, num=20)\n",
    "z_list = (0.97, 1.0, 1.03)\n"
   ]
  },
  {
   "cell_type": "code",
   "execution_count": 12,
   "metadata": {
    "scrolled": false
   },
   "outputs": [
    {
     "name": "stdout",
     "output_type": "stream",
     "text": [
      "INFO:tensorflow:Restoring parameters from /data/titanic_3/users/vestrade/savings/higgs_geant/PAN_AGNO-3x120-3x120-0.001-1.0-0.01-Adam-SGD-SGD-0/weights.ckpt\n",
      "INFO:tensorflow:Restoring parameters from /data/titanic_3/users/vestrade/savings/higgs_geant/PAN_AGNO-3x120-3x120-0.001-1.0-0.01-Adam-SGD-SGD-1/weights.ckpt\n",
      "INFO:tensorflow:Restoring parameters from /data/titanic_3/users/vestrade/savings/higgs_geant/PAN_AGNO-3x120-3x120-0.001-1.0-0.01-Adam-SGD-SGD-2/weights.ckpt\n",
      "INFO:tensorflow:Restoring parameters from /data/titanic_3/users/vestrade/savings/higgs_geant/PAN_AGNO-3x120-3x120-0.001-1.0-0.01-Adam-SGD-SGD-3/weights.ckpt\n",
      "INFO:tensorflow:Restoring parameters from /data/titanic_3/users/vestrade/savings/higgs_geant/PAN_AGNO-3x120-3x120-0.001-1.0-0.01-Adam-SGD-SGD-4/weights.ckpt\n",
      "INFO:tensorflow:Restoring parameters from /data/titanic_3/users/vestrade/savings/higgs_geant/PAN_AGNO-3x120-3x120-0.001-1.0-0.01-Adam-SGD-SGD-5/weights.ckpt\n",
      "INFO:tensorflow:Restoring parameters from /data/titanic_3/users/vestrade/savings/higgs_geant/PAN_AGNO-3x120-3x120-0.001-1.0-0.01-Adam-SGD-SGD-6/weights.ckpt\n",
      "INFO:tensorflow:Restoring parameters from /data/titanic_3/users/vestrade/savings/higgs_geant/PAN_AGNO-3x120-3x120-0.001-1.0-0.01-Adam-SGD-SGD-7/weights.ckpt\n",
      "INFO:tensorflow:Restoring parameters from /data/titanic_3/users/vestrade/savings/higgs_geant/PAN_AGNO-3x120-3x120-0.001-1.0-0.01-Adam-SGD-SGD-8/weights.ckpt\n",
      "INFO:tensorflow:Restoring parameters from /data/titanic_3/users/vestrade/savings/higgs_geant/PAN_AGNO-3x120-3x120-0.001-1.0-0.01-Adam-SGD-SGD-9/weights.ckpt\n",
      "INFO:tensorflow:Restoring parameters from /data/titanic_3/users/vestrade/savings/higgs_geant/PAN_AGNO-3x120-3x120-0.001-1.0-0.01-Adam-SGD-SGD-10/weights.ckpt\n",
      "INFO:tensorflow:Restoring parameters from /data/titanic_3/users/vestrade/savings/higgs_geant/PAN_AGNO-3x120-3x120-0.001-1.0-0.01-Adam-SGD-SGD-11/weights.ckpt\n",
      "2017-11-23 10:18:43 testing model 1/12\n",
      "2017-11-23 10:18:47 testing model 2/12\n",
      "2017-11-23 10:18:50 testing model 3/12\n",
      "2017-11-23 10:18:54 testing model 4/12\n",
      "2017-11-23 10:18:57 testing model 5/12\n",
      "2017-11-23 10:19:01 testing model 6/12\n",
      "2017-11-23 10:19:05 testing model 7/12\n",
      "2017-11-23 10:19:08 testing model 8/12\n",
      "2017-11-23 10:19:12 testing model 9/12\n",
      "2017-11-23 10:19:15 testing model 10/12\n",
      "2017-11-23 10:19:19 testing model 11/12\n",
      "2017-11-23 10:19:23 testing model 12/12\n"
     ]
    }
   ],
   "source": [
    "PAN_1_models = load_models(get_model_PAN, skew=skew, trade_off=1.0, width=0.01)\n",
    "PAN_1_xp = test_submission(data, PAN_1_models, all_sysTES=z_list)\n",
    "PAN_1_mean, PAN_1_std = get_mean_std_xp( PAN_1_xp )\n"
   ]
  },
  {
   "cell_type": "code",
   "execution_count": 13,
   "metadata": {},
   "outputs": [
    {
     "name": "stdout",
     "output_type": "stream",
     "text": [
      "INFO:tensorflow:Restoring parameters from /data/titanic_3/users/vestrade/savings/higgs_geant/PAN_AGNO-3x120-3x120-0.001-1.0-0.03-Adam-SGD-SGD-0/weights.ckpt\n",
      "INFO:tensorflow:Restoring parameters from /data/titanic_3/users/vestrade/savings/higgs_geant/PAN_AGNO-3x120-3x120-0.001-1.0-0.03-Adam-SGD-SGD-1/weights.ckpt\n",
      "INFO:tensorflow:Restoring parameters from /data/titanic_3/users/vestrade/savings/higgs_geant/PAN_AGNO-3x120-3x120-0.001-1.0-0.03-Adam-SGD-SGD-2/weights.ckpt\n",
      "INFO:tensorflow:Restoring parameters from /data/titanic_3/users/vestrade/savings/higgs_geant/PAN_AGNO-3x120-3x120-0.001-1.0-0.03-Adam-SGD-SGD-3/weights.ckpt\n",
      "INFO:tensorflow:Restoring parameters from /data/titanic_3/users/vestrade/savings/higgs_geant/PAN_AGNO-3x120-3x120-0.001-1.0-0.03-Adam-SGD-SGD-4/weights.ckpt\n",
      "INFO:tensorflow:Restoring parameters from /data/titanic_3/users/vestrade/savings/higgs_geant/PAN_AGNO-3x120-3x120-0.001-1.0-0.03-Adam-SGD-SGD-5/weights.ckpt\n",
      "INFO:tensorflow:Restoring parameters from /data/titanic_3/users/vestrade/savings/higgs_geant/PAN_AGNO-3x120-3x120-0.001-1.0-0.03-Adam-SGD-SGD-6/weights.ckpt\n",
      "INFO:tensorflow:Restoring parameters from /data/titanic_3/users/vestrade/savings/higgs_geant/PAN_AGNO-3x120-3x120-0.001-1.0-0.03-Adam-SGD-SGD-7/weights.ckpt\n",
      "INFO:tensorflow:Restoring parameters from /data/titanic_3/users/vestrade/savings/higgs_geant/PAN_AGNO-3x120-3x120-0.001-1.0-0.03-Adam-SGD-SGD-8/weights.ckpt\n",
      "INFO:tensorflow:Restoring parameters from /data/titanic_3/users/vestrade/savings/higgs_geant/PAN_AGNO-3x120-3x120-0.001-1.0-0.03-Adam-SGD-SGD-9/weights.ckpt\n",
      "INFO:tensorflow:Restoring parameters from /data/titanic_3/users/vestrade/savings/higgs_geant/PAN_AGNO-3x120-3x120-0.001-1.0-0.03-Adam-SGD-SGD-10/weights.ckpt\n",
      "INFO:tensorflow:Restoring parameters from /data/titanic_3/users/vestrade/savings/higgs_geant/PAN_AGNO-3x120-3x120-0.001-1.0-0.03-Adam-SGD-SGD-11/weights.ckpt\n",
      "2017-11-23 10:19:45 testing model 1/12\n",
      "2017-11-23 10:19:49 testing model 2/12\n",
      "2017-11-23 10:19:53 testing model 3/12\n",
      "2017-11-23 10:19:58 testing model 4/12\n",
      "2017-11-23 10:20:02 testing model 5/12\n",
      "2017-11-23 10:20:06 testing model 6/12\n",
      "2017-11-23 10:20:10 testing model 7/12\n",
      "2017-11-23 10:20:15 testing model 8/12\n",
      "2017-11-23 10:20:19 testing model 9/12\n",
      "2017-11-23 10:20:23 testing model 10/12\n",
      "2017-11-23 10:20:27 testing model 11/12\n",
      "2017-11-23 10:20:31 testing model 12/12\n"
     ]
    }
   ],
   "source": [
    "PAN_3_models = load_models(get_model_PAN, skew=skew, trade_off=1.0, width=0.03)\n",
    "PAN_3_xp = test_submission(data, PAN_3_models, all_sysTES=z_list)\n",
    "PAN_3_mean, PAN_3_std = get_mean_std_xp( PAN_3_xp )\n"
   ]
  },
  {
   "cell_type": "code",
   "execution_count": 14,
   "metadata": {},
   "outputs": [
    {
     "name": "stdout",
     "output_type": "stream",
     "text": [
      "INFO:tensorflow:Restoring parameters from /data/titanic_3/users/vestrade/savings/higgs_geant/PAN_AGNO-3x120-3x120-0.001-1.0-0.05-Adam-SGD-SGD-0/weights.ckpt\n",
      "INFO:tensorflow:Restoring parameters from /data/titanic_3/users/vestrade/savings/higgs_geant/PAN_AGNO-3x120-3x120-0.001-1.0-0.05-Adam-SGD-SGD-1/weights.ckpt\n",
      "INFO:tensorflow:Restoring parameters from /data/titanic_3/users/vestrade/savings/higgs_geant/PAN_AGNO-3x120-3x120-0.001-1.0-0.05-Adam-SGD-SGD-2/weights.ckpt\n",
      "INFO:tensorflow:Restoring parameters from /data/titanic_3/users/vestrade/savings/higgs_geant/PAN_AGNO-3x120-3x120-0.001-1.0-0.05-Adam-SGD-SGD-3/weights.ckpt\n",
      "INFO:tensorflow:Restoring parameters from /data/titanic_3/users/vestrade/savings/higgs_geant/PAN_AGNO-3x120-3x120-0.001-1.0-0.05-Adam-SGD-SGD-4/weights.ckpt\n",
      "INFO:tensorflow:Restoring parameters from /data/titanic_3/users/vestrade/savings/higgs_geant/PAN_AGNO-3x120-3x120-0.001-1.0-0.05-Adam-SGD-SGD-5/weights.ckpt\n",
      "INFO:tensorflow:Restoring parameters from /data/titanic_3/users/vestrade/savings/higgs_geant/PAN_AGNO-3x120-3x120-0.001-1.0-0.05-Adam-SGD-SGD-6/weights.ckpt\n",
      "INFO:tensorflow:Restoring parameters from /data/titanic_3/users/vestrade/savings/higgs_geant/PAN_AGNO-3x120-3x120-0.001-1.0-0.05-Adam-SGD-SGD-7/weights.ckpt\n",
      "INFO:tensorflow:Restoring parameters from /data/titanic_3/users/vestrade/savings/higgs_geant/PAN_AGNO-3x120-3x120-0.001-1.0-0.05-Adam-SGD-SGD-8/weights.ckpt\n",
      "INFO:tensorflow:Restoring parameters from /data/titanic_3/users/vestrade/savings/higgs_geant/PAN_AGNO-3x120-3x120-0.001-1.0-0.05-Adam-SGD-SGD-9/weights.ckpt\n",
      "INFO:tensorflow:Restoring parameters from /data/titanic_3/users/vestrade/savings/higgs_geant/PAN_AGNO-3x120-3x120-0.001-1.0-0.05-Adam-SGD-SGD-10/weights.ckpt\n",
      "INFO:tensorflow:Restoring parameters from /data/titanic_3/users/vestrade/savings/higgs_geant/PAN_AGNO-3x120-3x120-0.001-1.0-0.05-Adam-SGD-SGD-11/weights.ckpt\n",
      "2017-11-23 10:20:55 testing model 1/12\n",
      "2017-11-23 10:20:59 testing model 2/12\n",
      "2017-11-23 10:21:03 testing model 3/12\n",
      "2017-11-23 10:21:07 testing model 4/12\n",
      "2017-11-23 10:21:11 testing model 5/12\n",
      "2017-11-23 10:21:15 testing model 6/12\n",
      "2017-11-23 10:21:19 testing model 7/12\n",
      "2017-11-23 10:21:23 testing model 8/12\n",
      "2017-11-23 10:21:27 testing model 9/12\n",
      "2017-11-23 10:21:31 testing model 10/12\n",
      "2017-11-23 10:21:35 testing model 11/12\n",
      "2017-11-23 10:21:40 testing model 12/12\n"
     ]
    }
   ],
   "source": [
    "PAN_5_models = load_models(get_model_PAN, skew=skew, trade_off=1.0, width=0.05)\n",
    "PAN_5_xp = test_submission(data, PAN_5_models, all_sysTES=z_list)\n",
    "PAN_5_mean, PAN_5_std = get_mean_std_xp( PAN_5_xp )\n"
   ]
  },
  {
   "cell_type": "code",
   "execution_count": null,
   "metadata": {},
   "outputs": [],
   "source": []
  },
  {
   "cell_type": "code",
   "execution_count": null,
   "metadata": {},
   "outputs": [],
   "source": []
  },
  {
   "cell_type": "markdown",
   "metadata": {},
   "source": [
    "# Plot\n",
    "\n",
    "\n",
    "- What about confusion matrices ???\n"
   ]
  },
  {
   "cell_type": "markdown",
   "metadata": {},
   "source": [
    "## Utils"
   ]
  },
  {
   "cell_type": "code",
   "execution_count": 15,
   "metadata": {},
   "outputs": [],
   "source": [
    "def savitzky_golay(y, window_size, order, deriv=0, rate=1):\n",
    "    r\"\"\"Smooth (and optionally differentiate) data with a Savitzky-Golay filter.\n",
    "    The Savitzky-Golay filter removes high frequency noise from data.\n",
    "    It has the advantage of preserving the original shape and\n",
    "    features of the signal better than other types of filtering\n",
    "    approaches, such as moving averages techniques.\n",
    "    Parameters\n",
    "    ----------\n",
    "    y : array_like, shape (N,)\n",
    "        the values of the time history of the signal.\n",
    "    window_size : int\n",
    "        the length of the window. Must be an odd integer number.\n",
    "    order : int\n",
    "        the order of the polynomial used in the filtering.\n",
    "        Must be less then `window_size` - 1.\n",
    "    deriv: int\n",
    "        the order of the derivative to compute (default = 0 means only smoothing)\n",
    "    Returns\n",
    "    -------\n",
    "    ys : ndarray, shape (N)\n",
    "        the smoothed signal (or it's n-th derivative).\n",
    "    Notes\n",
    "    -----\n",
    "    The Savitzky-Golay is a type of low-pass filter, particularly\n",
    "    suited for smoothing noisy data. The main idea behind this\n",
    "    approach is to make for each point a least-square fit with a\n",
    "    polynomial of high order over a odd-sized window centered at\n",
    "    the point.\n",
    "    Examples\n",
    "    --------\n",
    "    t = np.linspace(-4, 4, 500)\n",
    "    y = np.exp( -t**2 ) + np.random.normal(0, 0.05, t.shape)\n",
    "    ysg = savitzky_golay(y, window_size=31, order=4)\n",
    "    import matplotlib.pyplot as plt\n",
    "    plt.plot(t, y, label='Noisy signal')\n",
    "    plt.plot(t, np.exp(-t**2), 'k', lw=1.5, label='Original signal')\n",
    "    plt.plot(t, ysg, 'r', label='Filtered signal')\n",
    "    plt.legend()\n",
    "    plt.show()\n",
    "    References\n",
    "    ----------\n",
    "    .. [1] A. Savitzky, M. J. E. Golay, Smoothing and Differentiation of\n",
    "       Data by Simplified Least Squares Procedures. Analytical\n",
    "       Chemistry, 1964, 36 (8), pp 1627-1639.\n",
    "    .. [2] Numerical Recipes 3rd Edition: The Art of Scientific Computing\n",
    "       W.H. Press, S.A. Teukolsky, W.T. Vetterling, B.P. Flannery\n",
    "       Cambridge University Press ISBN-13: 9780521880688\n",
    "    \"\"\"\n",
    "    import numpy as np\n",
    "    from math import factorial\n",
    "    \n",
    "    try:\n",
    "        window_size = np.abs(np.int(window_size))\n",
    "        order = np.abs(np.int(order))\n",
    "    except ValueError as msg:\n",
    "        raise ValueError(\"window_size and order have to be of type int\")\n",
    "    if window_size % 2 != 1 or window_size < 1:\n",
    "        raise TypeError(\"window_size size must be a positive odd number\")\n",
    "    if window_size < order + 2:\n",
    "        raise TypeError(\"window_size is too small for the polynomials order\")\n",
    "    order_range = range(order+1)\n",
    "    half_window = (window_size -1) // 2\n",
    "    # precompute coefficients\n",
    "    b = np.mat([[k**i for i in order_range] for k in range(-half_window, half_window+1)])\n",
    "    m = np.linalg.pinv(b).A[deriv] * rate**deriv * factorial(deriv)\n",
    "    # pad the signal at the extremes with\n",
    "    # values taken from the signal itself\n",
    "    firstvals = y[0] - np.abs( y[1:half_window+1][::-1] - y[0] )\n",
    "    lastvals = y[-1] + np.abs(y[-half_window-1:-1][::-1] - y[-1])\n",
    "    y = np.concatenate((firstvals, y, lastvals))\n",
    "    return np.convolve( m[::-1], y, mode='valid')"
   ]
  },
  {
   "cell_type": "code",
   "execution_count": 16,
   "metadata": {},
   "outputs": [],
   "source": [
    "sns.set()\n",
    "sns.set_style(\"whitegrid\")\n",
    "sns.set_context(\"paper\")"
   ]
  },
  {
   "cell_type": "code",
   "execution_count": 17,
   "metadata": {},
   "outputs": [],
   "source": [
    "def tes_to_str(TES):\n",
    "    return '{:+d}%'.format( int(np.round((TES-1)*100)) )"
   ]
  },
  {
   "cell_type": "markdown",
   "metadata": {},
   "source": [
    "## Graphics\n"
   ]
  },
  {
   "cell_type": "code",
   "execution_count": 18,
   "metadata": {},
   "outputs": [],
   "source": [
    "CHOSEN_TES = 1.03"
   ]
  },
  {
   "cell_type": "code",
   "execution_count": 19,
   "metadata": {},
   "outputs": [],
   "source": [
    "means = [PAN_1_mean, PAN_3_mean, PAN_5_mean, ]\n",
    "stds = [PAN_1_std, PAN_3_std, PAN_5_std, ]\n",
    "names = ['1e-2', '3e-2', '5e-2', ]\n"
   ]
  },
  {
   "cell_type": "markdown",
   "metadata": {},
   "source": [
    "## Sigma mu"
   ]
  },
  {
   "cell_type": "code",
   "execution_count": 20,
   "metadata": {},
   "outputs": [
    {
     "data": {
      "image/png": "[encoded data removed]",
      "text/plain": [
       "<matplotlib.figure.Figure at 0x7f507a335860>"
      ]
     },
     "metadata": {},
     "output_type": "display_data"
    }
   ],
   "source": [
    "START = 0.8\n",
    "STOP = 0.995\n",
    "\n",
    "for xp_mean, xp_std, name in zip(means, stds, names):\n",
    "\n",
    "    rank = pd.Series(np.linspace(0, 1, num=xp_mean[CHOSEN_TES]['decision'].shape[0]))\n",
    "    index = rank.loc[ (rank > START) & (rank < STOP)].index\n",
    "    xx = rank[index] * 100\n",
    "\n",
    "    mean = xp_mean[CHOSEN_TES]['sigma_mu'][index]\n",
    "    std = xp_std[CHOSEN_TES]['sigma_mu'][index]\n",
    "    \n",
    "    # Smoothing\n",
    "    mean = savitzky_golay(mean.values, 1001, 3)\n",
    "    std = savitzky_golay(std.values, 1001, 3)\n",
    "    \n",
    "    plt.plot(xx, mean, label=name)\n",
    "    plt.fill_between(xx, mean+std, mean-std, alpha=0.5)\n",
    "    plt.title('combined error (TES = {})'.format(tes_to_str(CHOSEN_TES)))\n",
    "    \n",
    "plt.legend()\n",
    "plt.xlabel('% rejected event')\n",
    "plt.ylabel('$\\sigma_\\mu/\\mu$')\n",
    "plt.show()"
   ]
  },
  {
   "cell_type": "markdown",
   "metadata": {},
   "source": [
    "## Syst error"
   ]
  },
  {
   "cell_type": "code",
   "execution_count": 22,
   "metadata": {},
   "outputs": [
    {
     "data": {
      "image/png": "[encoded data removed]",
      "text/plain": [
       "<matplotlib.figure.Figure at 0x7f50700bb160>"
      ]
     },
     "metadata": {},
     "output_type": "display_data"
    }
   ],
   "source": [
    "START = 0.8\n",
    "STOP = 0.995\n",
    "\n",
    "for xp_mean, xp_std, name in zip(means, stds, names):\n",
    "\n",
    "    rank = pd.Series(np.linspace(0, 1, num=xp_mean[CHOSEN_TES]['decision'].shape[0]))\n",
    "    index = rank.loc[ (rank > START) & (rank < STOP)].index\n",
    "    xx = rank[index] * 100\n",
    "\n",
    "    mean = xp_mean[CHOSEN_TES]['error_syst'][index]\n",
    "    std = xp_std[CHOSEN_TES]['error_syst'][index]\n",
    "    \n",
    "    # Smoothing\n",
    "    mean = savitzky_golay(mean.values, 1001, 3)\n",
    "    std = savitzky_golay(std.values, 1001, 3)\n",
    "    \n",
    "    plt.plot(xx, mean, label=name)\n",
    "    plt.fill_between(xx, mean+std, mean-std, alpha=0.5)\n",
    "    plt.title('syst error (TES = {})'.format(tes_to_str(CHOSEN_TES)))\n",
    "    \n",
    "plt.legend()\n",
    "plt.xlabel('% rejected event')\n",
    "plt.ylabel('error_syst')\n",
    "plt.show()"
   ]
  },
  {
   "cell_type": "markdown",
   "metadata": {},
   "source": [
    "## Stat error"
   ]
  },
  {
   "cell_type": "code",
   "execution_count": 23,
   "metadata": {},
   "outputs": [
    {
     "data": {
      "image/png": "[encoded data removed]",
      "text/plain": [
       "<matplotlib.figure.Figure at 0x7f50700479b0>"
      ]
     },
     "metadata": {},
     "output_type": "display_data"
    }
   ],
   "source": [
    "START = 0.8\n",
    "STOP = 0.995\n",
    "\n",
    "for xp_mean, xp_std, name in zip(means, stds, names):\n",
    "\n",
    "    rank = pd.Series(np.linspace(0, 1, num=xp_mean[CHOSEN_TES]['decision'].shape[0]))\n",
    "    index = rank.loc[ (rank > START) & (rank < STOP)].index\n",
    "    xx = rank[index] * 100\n",
    "\n",
    "    mean = xp_mean[CHOSEN_TES]['error_stat'][index]\n",
    "    std = xp_std[CHOSEN_TES]['error_stat'][index]\n",
    "    \n",
    "    # Smoothing\n",
    "    mean = savitzky_golay(mean.values, 1001, 3)\n",
    "    std = savitzky_golay(std.values, 1001, 3)\n",
    "    \n",
    "    plt.plot(xx, mean, label=name)\n",
    "    plt.fill_between(xx, mean+std, mean-std, alpha=0.5)\n",
    "    plt.title('stat error (TES = {})'.format(tes_to_str(CHOSEN_TES)))\n",
    "    \n",
    "plt.legend()\n",
    "plt.xlabel('% rejected event')\n",
    "plt.ylabel('error_stat')\n",
    "plt.show()"
   ]
  },
  {
   "cell_type": "code",
   "execution_count": null,
   "metadata": {},
   "outputs": [],
   "source": []
  },
  {
   "cell_type": "markdown",
   "metadata": {},
   "source": [
    "# Playground"
   ]
  },
  {
   "cell_type": "code",
   "execution_count": null,
   "metadata": {},
   "outputs": [],
   "source": []
  },
  {
   "cell_type": "code",
   "execution_count": null,
   "metadata": {},
   "outputs": [],
   "source": []
  },
  {
   "cell_type": "code",
   "execution_count": null,
   "metadata": {},
   "outputs": [],
   "source": []
  },
  {
   "cell_type": "code",
   "execution_count": null,
   "metadata": {},
   "outputs": [],
   "source": []
  }
 ],
 "metadata": {
  "kernelspec": {
   "display_name": "Python 3",
   "language": "python",
   "name": "python3"
  },
  "language_info": {
   "codemirror_mode": {
    "name": "ipython",
    "version": 3
   },
   "file_extension": ".py",
   "mimetype": "text/x-python",
   "name": "python",
   "nbconvert_exporter": "python",
   "pygments_lexer": "ipython3",
   "version": "3.6.1"
  },
  "toc": {
   "nav_menu": {},
   "number_sections": false,
   "sideBar": true,
   "skip_h1_title": false,
   "toc_cell": false,
   "toc_position": {},
   "toc_section_display": "block",
   "toc_window_display": true
  }
 },
 "nbformat": 4,
 "nbformat_minor": 2
}
