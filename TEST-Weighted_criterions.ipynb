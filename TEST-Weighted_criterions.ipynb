{
 "cells": [
  {
   "cell_type": "code",
   "execution_count": 1,
   "metadata": {
    "collapsed": true
   },
   "outputs": [],
   "source": [
    "from __future__ import print_function\n",
    "from __future__ import division\n",
    "from __future__ import absolute_import\n",
    "\n",
    "import numpy as np\n",
    "import pandas as pd\n",
    "import matplotlib.pyplot as plt\n",
    "import seaborn as sns\n",
    "\n",
    "%matplotlib inline\n",
    "\n",
    "import torch\n",
    "import torch.nn as nn\n",
    "import torch.nn.functional as F\n",
    "from torch.autograd import Variable\n"
   ]
  },
  {
   "cell_type": "markdown",
   "metadata": {},
   "source": [
    "# Test weighted criterions"
   ]
  },
  {
   "cell_type": "markdown",
   "metadata": {},
   "source": [
    "## Cross-entropy"
   ]
  },
  {
   "cell_type": "code",
   "execution_count": 2,
   "metadata": {
    "collapsed": true
   },
   "outputs": [],
   "source": [
    "def to_one_hot(y, n_class=2):\n",
    "    oh = np.zeros((y.shape[0], n_class), np.float32)\n",
    "    oh[np.arange(y.shape[0]), y] = 1\n",
    "    return oh\n"
   ]
  },
  {
   "cell_type": "code",
   "execution_count": 3,
   "metadata": {
    "collapsed": true
   },
   "outputs": [],
   "source": [
    "class WeightedCrossEntropyLoss(nn.Module):\n",
    "    def forward(self, input, one_hot, weight):\n",
    "        log_soft = - F.log_softmax(input, dim=1)\n",
    "        element_loss = torch.sum(log_soft * one_hot, 1) * weight\n",
    "        loss = torch.mean(element_loss)\n",
    "        return loss\n"
   ]
  },
  {
   "cell_type": "code",
   "execution_count": 4,
   "metadata": {
    "collapsed": true
   },
   "outputs": [],
   "source": [
    "class WeightedCrossEntropyLoss2(nn.Module):\n",
    "    def forward(self, input, target, weight):\n",
    "        element_loss = F.cross_entropy(input, target, reduce=False)\n",
    "        loss = torch.mean(element_loss * weight)\n",
    "        return loss\n"
   ]
  },
  {
   "cell_type": "code",
   "execution_count": 5,
   "metadata": {
    "collapsed": true
   },
   "outputs": [],
   "source": [
    "n_samples = 4096\n",
    "n_class = 5\n",
    "inpt = Variable(torch.randn(n_samples, n_class), requires_grad=True)\n",
    "target = Variable(torch.LongTensor(n_samples).random_(n_class))\n",
    "one_hot = Variable( torch.from_numpy( to_one_hot(target.data.numpy(), n_class=n_class) ) )\n",
    "W = Variable(torch.ones(n_samples))"
   ]
  },
  {
   "cell_type": "code",
   "execution_count": 6,
   "metadata": {
    "collapsed": true
   },
   "outputs": [],
   "source": [
    "loss_0 = nn.CrossEntropyLoss(reduce=True)\n",
    "loss_1 = WeightedCrossEntropyLoss()\n",
    "loss_2 = WeightedCrossEntropyLoss2()\n"
   ]
  },
  {
   "cell_type": "code",
   "execution_count": 7,
   "metadata": {
    "collapsed": true
   },
   "outputs": [],
   "source": [
    "output_0 = loss_0(inpt, target)\n",
    "output_1 = loss_1(inpt, one_hot, W)\n",
    "output_2 = loss_2(inpt, target, W)\n"
   ]
  },
  {
   "cell_type": "code",
   "execution_count": 8,
   "metadata": {},
   "outputs": [
    {
     "name": "stdout",
     "output_type": "stream",
     "text": [
      "Variable containing:\n",
      " 1.9797\n",
      "[torch.FloatTensor of size 1]\n",
      "\n",
      "Variable containing:\n",
      " 1.9797\n",
      "[torch.FloatTensor of size 1]\n",
      "\n",
      "Variable containing:\n",
      " 1.9797\n",
      "[torch.FloatTensor of size 1]\n",
      "\n"
     ]
    }
   ],
   "source": [
    "print(output_0)\n",
    "print(output_1)\n",
    "print(output_2)\n"
   ]
  },
  {
   "cell_type": "code",
   "execution_count": 9,
   "metadata": {},
   "outputs": [
    {
     "name": "stdout",
     "output_type": "stream",
     "text": [
      "436 µs ± 55.4 µs per loop (mean ± std. dev. of 7 runs, 1000 loops each)\n",
      "460 µs ± 31.2 µs per loop (mean ± std. dev. of 7 runs, 1000 loops each)\n",
      "394 µs ± 25 µs per loop (mean ± std. dev. of 7 runs, 1000 loops each)\n"
     ]
    }
   ],
   "source": [
    "%timeit loss_0(inpt, target)\n",
    "\n",
    "%timeit loss_1(inpt, one_hot, W)\n",
    "\n",
    "%timeit loss_2(inpt, target, W)"
   ]
  },
  {
   "cell_type": "markdown",
   "metadata": {},
   "source": [
    "## Binary Cross-entropy"
   ]
  },
  {
   "cell_type": "code",
   "execution_count": 10,
   "metadata": {
    "collapsed": true
   },
   "outputs": [],
   "source": [
    "class WeightedBCEWithLogitsLoss(nn.Module):\n",
    "    def forward(self, input, target, weight):\n",
    "        input = input.view(target.size())\n",
    "        log_sigm = F.logsigmoid(input) * target + (1-target) * (-input - F.softplus(-input))\n",
    "        element_loss = -log_sigm * weight\n",
    "        loss = torch.mean(element_loss)\n",
    "        return loss\n"
   ]
  },
  {
   "cell_type": "code",
   "execution_count": 11,
   "metadata": {
    "collapsed": true
   },
   "outputs": [],
   "source": [
    "class WeightedBCEWithLogitsLoss2(nn.Module):\n",
    "    def forward(self, input, target, weight):\n",
    "        element_loss = F.binary_cross_entropy(F.sigmoid(input), target, reduce=False)\n",
    "        loss = torch.mean(element_loss * weight)\n",
    "        return loss\n"
   ]
  },
  {
   "cell_type": "code",
   "execution_count": 36,
   "metadata": {},
   "outputs": [],
   "source": [
    "n_samples = 4096\n",
    "n_class = 1\n",
    "inpt = Variable(torch.randn(n_samples, n_class), requires_grad=True)\n",
    "target = Variable(torch.LongTensor(n_samples).random_(n_class))\n",
    "one_hot = Variable( torch.from_numpy( to_one_hot(target.data.numpy(), n_class=n_class) ) )\n",
    "W = Variable(torch.ones(n_samples))/2"
   ]
  },
  {
   "cell_type": "code",
   "execution_count": 37,
   "metadata": {},
   "outputs": [],
   "source": [
    "loss_0 = nn.BCEWithLogitsLoss()\n",
    "loss_1 = WeightedBCEWithLogitsLoss()\n",
    "loss_2 = WeightedBCEWithLogitsLoss2()\n"
   ]
  },
  {
   "cell_type": "code",
   "execution_count": 38,
   "metadata": {},
   "outputs": [],
   "source": [
    "output_0 = loss_0(inpt, one_hot)\n",
    "output_1 = loss_1(inpt, one_hot, W)\n"
   ]
  },
  {
   "cell_type": "code",
   "execution_count": 39,
   "metadata": {},
   "outputs": [
    {
     "name": "stdout",
     "output_type": "stream",
     "text": [
      "Variable containing:\n",
      " 0.7967\n",
      "[torch.FloatTensor of size 1]\n",
      "\n",
      "Variable containing:\n",
      " 0.3983\n",
      "[torch.FloatTensor of size 1]\n",
      "\n"
     ]
    }
   ],
   "source": [
    "print(output_0)\n",
    "print(output_1)\n"
   ]
  },
  {
   "cell_type": "code",
   "execution_count": 40,
   "metadata": {},
   "outputs": [
    {
     "name": "stdout",
     "output_type": "stream",
     "text": [
      "213 µs ± 5.89 µs per loop (mean ± std. dev. of 7 runs, 1000 loops each)\n",
      "71.3 ms ± 6.13 ms per loop (mean ± std. dev. of 7 runs, 10 loops each)\n"
     ]
    }
   ],
   "source": [
    "%timeit loss_0(inpt, one_hot)\n",
    "\n",
    "%timeit loss_1(inpt, one_hot, W)\n",
    "\n",
    "# %timeit loss_2(inpt, target, W)"
   ]
  },
  {
   "cell_type": "markdown",
   "metadata": {},
   "source": [
    "## MSE"
   ]
  },
  {
   "cell_type": "code",
   "execution_count": 41,
   "metadata": {
    "collapsed": true
   },
   "outputs": [],
   "source": [
    "class WeightedMSELoss(nn.Module):\n",
    "    def forward(self, input, target, weight):\n",
    "        weight = weight.view( (-1,) + (1,) * (target.dim() - weight.dim() ) )\n",
    "        loss = (input - target)**2\n",
    "        element_loss = loss * weight\n",
    "        loss = torch.mean(element_loss)\n",
    "        return loss"
   ]
  },
  {
   "cell_type": "code",
   "execution_count": 42,
   "metadata": {
    "collapsed": true
   },
   "outputs": [],
   "source": [
    "class WeightedMSELoss2(nn.Module):\n",
    "    def forward(self, input, target, weight):\n",
    "        weight = weight.view( (-1,) + (1,) * (target.dim() - weight.dim() ) )\n",
    "        element_loss = F.mse_loss(input, target, reduce=False)\n",
    "        loss = torch.mean(element_loss * weight)\n",
    "        return loss\n"
   ]
  },
  {
   "cell_type": "code",
   "execution_count": 43,
   "metadata": {
    "collapsed": true
   },
   "outputs": [],
   "source": [
    "n_samples = 4096\n",
    "n_dim = 5\n",
    "inpt = Variable(torch.randn(n_samples, n_dim), requires_grad=True)\n",
    "target = Variable(torch.randn(n_samples, n_dim))\n",
    "W = Variable(torch.ones(n_samples))/2"
   ]
  },
  {
   "cell_type": "code",
   "execution_count": 44,
   "metadata": {
    "collapsed": true
   },
   "outputs": [],
   "source": [
    "loss_0 = nn.MSELoss(reduce=True)\n",
    "loss_1 = WeightedMSELoss()\n",
    "loss_2 = WeightedMSELoss2()\n"
   ]
  },
  {
   "cell_type": "code",
   "execution_count": 45,
   "metadata": {
    "collapsed": true
   },
   "outputs": [],
   "source": [
    "output_0 = loss_0(inpt, target)\n",
    "output_1 = loss_1(inpt, target, W)\n",
    "output_2 = loss_2(inpt, target, W)\n"
   ]
  },
  {
   "cell_type": "code",
   "execution_count": 46,
   "metadata": {},
   "outputs": [
    {
     "name": "stdout",
     "output_type": "stream",
     "text": [
      "Variable containing:\n",
      " 2.0083\n",
      "[torch.FloatTensor of size 1]\n",
      "\n",
      "Variable containing:\n",
      " 1.0041\n",
      "[torch.FloatTensor of size 1]\n",
      "\n",
      "Variable containing:\n",
      " 1.0041\n",
      "[torch.FloatTensor of size 1]\n",
      "\n"
     ]
    }
   ],
   "source": [
    "print(output_0)\n",
    "print(output_1)\n",
    "print(output_2)\n"
   ]
  },
  {
   "cell_type": "code",
   "execution_count": 49,
   "metadata": {},
   "outputs": [
    {
     "name": "stdout",
     "output_type": "stream",
     "text": [
      "37.3 µs ± 4.26 µs per loop (mean ± std. dev. of 7 runs, 10000 loops each)\n",
      "115 µs ± 9.35 µs per loop (mean ± std. dev. of 7 runs, 10000 loops each)\n",
      "125 µs ± 4.58 µs per loop (mean ± std. dev. of 7 runs, 10000 loops each)\n"
     ]
    }
   ],
   "source": [
    "%timeit loss_0(inpt, target)\n",
    "\n",
    "%timeit loss_1(inpt, target, W)\n",
    "\n",
    "%timeit loss_2(inpt, target, W)"
   ]
  },
  {
   "cell_type": "code",
   "execution_count": null,
   "metadata": {
    "collapsed": true
   },
   "outputs": [],
   "source": []
  },
  {
   "cell_type": "code",
   "execution_count": null,
   "metadata": {
    "collapsed": true
   },
   "outputs": [],
   "source": []
  }
 ],
 "metadata": {
  "kernelspec": {
   "display_name": "Python 3",
   "language": "python",
   "name": "python3"
  },
  "language_info": {
   "codemirror_mode": {
    "name": "ipython",
    "version": 3
   },
   "file_extension": ".py",
   "mimetype": "text/x-python",
   "name": "python",
   "nbconvert_exporter": "python",
   "pygments_lexer": "ipython3",
   "version": "3.6.3"
  },
  "toc": {
   "nav_menu": {},
   "number_sections": false,
   "sideBar": true,
   "skip_h1_title": false,
   "toc_cell": false,
   "toc_position": {},
   "toc_section_display": "block",
   "toc_window_display": false
  }
 },
 "nbformat": 4,
 "nbformat_minor": 2
}
