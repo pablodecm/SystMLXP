{
 "cells": [
  {
   "cell_type": "code",
   "execution_count": 1,
   "metadata": {},
   "outputs": [],
   "source": [
    "from __future__ import print_function\n",
    "from __future__ import division\n",
    "from __future__ import absolute_import\n",
    "from __future__ import unicode_literals\n",
    "\n",
    "import os\n",
    "import sys\n",
    "\n",
    "import numpy as np\n",
    "import pandas as pd\n",
    "\n",
    "import matplotlib as mpl\n",
    "import matplotlib.pyplot as plt\n",
    "import seaborn as sns\n",
    "\n",
    "%matplotlib inline"
   ]
  },
  {
   "cell_type": "code",
   "execution_count": 2,
   "metadata": {},
   "outputs": [],
   "source": [
    "sns.set()\n",
    "sns.set_style(\"whitegrid\")\n",
    "sns.set_context(\"poster\")\n",
    "\n",
    "mpl.rcParams['figure.figsize'] = [8.0*2, 6.0*2]\n",
    "mpl.rcParams['figure.dpi'] = 80\n",
    "mpl.rcParams['savefig.dpi'] = 100\n",
    "\n",
    "mpl.rcParams['font.size'] = 30\n",
    "mpl.rcParams['axes.labelsize'] = 30\n",
    "mpl.rcParams['ytick.labelsize'] = 30\n",
    "mpl.rcParams['xtick.labelsize'] = 30\n",
    "mpl.rcParams['legend.fontsize'] = 'large'\n",
    "mpl.rcParams['figure.titlesize'] = 'medium'\n"
   ]
  },
  {
   "cell_type": "markdown",
   "metadata": {},
   "source": [
    "# Introduction\n",
    "\n",
    "On fait des plots sur les runs"
   ]
  },
  {
   "cell_type": "code",
   "execution_count": 3,
   "metadata": {},
   "outputs": [],
   "source": [
    "from problem.workflow import pprint"
   ]
  },
  {
   "cell_type": "code",
   "execution_count": null,
   "metadata": {},
   "outputs": [],
   "source": []
  },
  {
   "cell_type": "markdown",
   "metadata": {},
   "source": [
    "# Data"
   ]
  },
  {
   "cell_type": "code",
   "execution_count": 4,
   "metadata": {},
   "outputs": [],
   "source": [
    "from problem.mnist import load_data"
   ]
  },
  {
   "cell_type": "code",
   "execution_count": 5,
   "metadata": {},
   "outputs": [],
   "source": [
    "X, y = load_data()"
   ]
  },
  {
   "cell_type": "code",
   "execution_count": null,
   "metadata": {},
   "outputs": [],
   "source": []
  },
  {
   "cell_type": "markdown",
   "metadata": {},
   "source": [
    "# Load models"
   ]
  },
  {
   "cell_type": "code",
   "execution_count": 6,
   "metadata": {},
   "outputs": [],
   "source": [
    "from problem.mnist import get_save_directory\n",
    "from problem.mnist import preprocessing\n",
    "from problem.mnist import skew\n",
    "from problem.mnist import tangent\n",
    "from problem.mnist import get_cv_iter\n",
    "\n",
    "# from main import get_data_shape"
   ]
  },
  {
   "cell_type": "code",
   "execution_count": 7,
   "metadata": {},
   "outputs": [],
   "source": [
    "def load_models(model_class, *args, **kwargs):\n",
    "    models = []\n",
    "    cv_iter = get_cv_iter(X, y)\n",
    "    n_cv = len(cv_iter)\n",
    "    pprint('Loading', n_cv, model_class.__name__)\n",
    "    for i in range(n_cv):\n",
    "        model = model_class(*args, **kwargs)\n",
    "        save_directory = get_save_directory()\n",
    "        model_name = '{}-{}'.format(model.get_name(), i)\n",
    "        path = os.path.join(save_directory, model_name)\n",
    "        model.load(path)\n",
    "        models.append(model)\n",
    "    return models"
   ]
  },
  {
   "cell_type": "code",
   "execution_count": 8,
   "metadata": {},
   "outputs": [],
   "source": [
    "from models.mnist import NeuralNetModel\n",
    "from models.mnist import AugmentedNeuralNetModel\n",
    "from models.mnist import TangentPropModel\n",
    "from models.mnist import AugmentedTangentPropModel\n",
    "from models.mnist import PivotModel\n"
   ]
  },
  {
   "cell_type": "code",
   "execution_count": null,
   "metadata": {},
   "outputs": [],
   "source": []
  },
  {
   "cell_type": "markdown",
   "metadata": {},
   "source": [
    "# Test submission"
   ]
  },
  {
   "cell_type": "code",
   "execution_count": 9,
   "metadata": {},
   "outputs": [],
   "source": [
    "from problem.mnist import test_submission\n"
   ]
  },
  {
   "cell_type": "code",
   "execution_count": 10,
   "metadata": {},
   "outputs": [],
   "source": [
    "def get_mean_std(df_list):\n",
    "    z = df_list[0]['z']\n",
    "    acc = np.concatenate([df['error'].values.reshape(-1, 1) for df in df_list], axis=1)\n",
    "    mean_acc = np.mean(acc, axis=1)\n",
    "    std_acc = np.std(acc, axis=1)\n",
    "    return mean_acc, std_acc"
   ]
  },
  {
   "cell_type": "code",
   "execution_count": 11,
   "metadata": {},
   "outputs": [
    {
     "name": "stdout",
     "output_type": "stream",
     "text": [
      "[-10.  -9.  -8.  -7.  -6.  -5.  -4.  -3.  -2.  -1.   0.   1.   2.   3.\n",
      "   4.   5.   6.   7.   8.   9.  10.]\n"
     ]
    }
   ],
   "source": [
    "# z_list = list(range(-50, 51, 10)) + list(range(-5, 6, 1))\n",
    "# z_list = sorted(z_list)\n",
    "z_list = np.linspace(-10, 10, num=21)\n",
    "\n",
    "print(z_list)"
   ]
  },
  {
   "cell_type": "code",
   "execution_count": 12,
   "metadata": {},
   "outputs": [
    {
     "name": "stdout",
     "output_type": "stream",
     "text": [
      "2018-02-23 15:50:37 Loading 12 NeuralNetModel\n",
      "2018-02-23 15:50:44 testing model 1/12\n",
      "2018-02-23 15:51:20 testing model 2/12\n",
      "2018-02-23 15:51:53 testing model 3/12\n",
      "2018-02-23 15:52:27 testing model 4/12\n",
      "2018-02-23 15:53:01 testing model 5/12\n",
      "2018-02-23 15:53:36 testing model 6/12\n",
      "2018-02-23 15:54:10 testing model 7/12\n",
      "2018-02-23 15:54:45 testing model 8/12\n",
      "2018-02-23 15:55:19 testing model 9/12\n",
      "2018-02-23 15:55:50 testing model 10/12\n",
      "2018-02-23 15:56:24 testing model 11/12\n",
      "2018-02-23 15:56:58 testing model 12/12\n",
      "2018-02-23 15:57:32 Done.\n"
     ]
    }
   ],
   "source": [
    "NN_models = load_models(NeuralNetModel, n_steps=10000, batch_size=128, cuda=True)\n",
    "df_list = test_submission(NN_models, X, y, z_list=z_list)\n",
    "NN_mean_acc, NN_std_acc = get_mean_std(df_list)\n"
   ]
  },
  {
   "cell_type": "code",
   "execution_count": 13,
   "metadata": {},
   "outputs": [
    {
     "name": "stdout",
     "output_type": "stream",
     "text": [
      "2018-02-23 15:57:32 Loading 12 AugmentedNeuralNetModel\n",
      "2018-02-23 15:57:33 testing model 1/12\n",
      "2018-02-23 15:58:07 testing model 2/12\n",
      "2018-02-23 15:58:40 testing model 3/12\n",
      "2018-02-23 15:59:14 testing model 4/12\n",
      "2018-02-23 15:59:48 testing model 5/12\n",
      "2018-02-23 16:00:21 testing model 6/12\n",
      "2018-02-23 16:00:55 testing model 7/12\n",
      "2018-02-23 16:01:29 testing model 8/12\n",
      "2018-02-23 16:02:02 testing model 9/12\n",
      "2018-02-23 16:02:36 testing model 10/12\n",
      "2018-02-23 16:03:10 testing model 11/12\n",
      "2018-02-23 16:03:44 testing model 12/12\n",
      "2018-02-23 16:04:18 Done.\n"
     ]
    }
   ],
   "source": [
    "ANN_models = load_models(AugmentedNeuralNetModel, skewing_function=skew, n_augment=5,\n",
    "                         batch_size=128, n_steps=10000, width=5., cuda=True)\n",
    "df_list = test_submission(ANN_models, X, y, z_list=z_list)\n",
    "ANN_mean_acc, ANN_std_acc = get_mean_std(df_list)\n"
   ]
  },
  {
   "cell_type": "code",
   "execution_count": 14,
   "metadata": {},
   "outputs": [
    {
     "name": "stdout",
     "output_type": "stream",
     "text": [
      "2018-02-23 16:04:18 Loading 12 PivotModel\n",
      "2018-02-23 16:04:18 testing model 1/12\n",
      "2018-02-23 16:04:52 testing model 2/12\n",
      "2018-02-23 16:05:26 testing model 3/12\n",
      "2018-02-23 16:05:57 testing model 4/12\n",
      "2018-02-23 16:06:30 testing model 5/12\n",
      "2018-02-23 16:07:02 testing model 6/12\n",
      "2018-02-23 16:07:35 testing model 7/12\n",
      "2018-02-23 16:08:09 testing model 8/12\n",
      "2018-02-23 16:08:43 testing model 9/12\n",
      "2018-02-23 16:09:18 testing model 10/12\n",
      "2018-02-23 16:09:52 testing model 11/12\n",
      "2018-02-23 16:10:26 testing model 12/12\n",
      "2018-02-23 16:10:59 Done.\n"
     ]
    }
   ],
   "source": [
    "PAN_L0_models = load_models(PivotModel, skewing_function=skew, batch_size=128, n_recovery_steps=5,\n",
    "                         n_clf_pre_training_steps=3000, n_adv_pre_training_steps=3000, n_steps=10000,\n",
    "                         width=5., trade_off=0.0, cuda=True)\n",
    "df_list = test_submission(PAN_L0_models, X, y, z_list=z_list)\n",
    "PAN_L0_mean_acc, PAN_L0_std_acc = get_mean_std(df_list)\n"
   ]
  },
  {
   "cell_type": "code",
   "execution_count": 15,
   "metadata": {},
   "outputs": [
    {
     "name": "stdout",
     "output_type": "stream",
     "text": [
      "2018-02-23 16:10:59 Loading 12 PivotModel\n",
      "2018-02-23 16:11:00 testing model 1/12\n",
      "2018-02-23 16:11:34 testing model 2/12\n",
      "2018-02-23 16:12:08 testing model 3/12\n",
      "2018-02-23 16:12:42 testing model 4/12\n",
      "2018-02-23 16:13:17 testing model 5/12\n",
      "2018-02-23 16:13:51 testing model 6/12\n",
      "2018-02-23 16:14:24 testing model 7/12\n",
      "2018-02-23 16:14:58 testing model 8/12\n",
      "2018-02-23 16:15:31 testing model 9/12\n",
      "2018-02-23 16:16:03 testing model 10/12\n",
      "2018-02-23 16:16:37 testing model 11/12\n",
      "2018-02-23 16:17:11 testing model 12/12\n",
      "2018-02-23 16:17:45 Done.\n"
     ]
    }
   ],
   "source": [
    "PAN_L01_models = load_models(PivotModel, skewing_function=skew, batch_size=128, n_recovery_steps=5,\n",
    "                         n_clf_pre_training_steps=3000, n_adv_pre_training_steps=3000, n_steps=10000,\n",
    "                         width=5., trade_off=0.1, cuda=True)\n",
    "df_list = test_submission(PAN_L01_models, X, y, z_list=z_list)\n",
    "PAN_L01_mean_acc, PAN_L01_std_acc = get_mean_std(df_list)\n"
   ]
  },
  {
   "cell_type": "code",
   "execution_count": null,
   "metadata": {},
   "outputs": [
    {
     "name": "stdout",
     "output_type": "stream",
     "text": [
      "2018-02-23 16:17:45 Loading 12 PivotModel\n",
      "2018-02-23 16:17:46 testing model 1/12\n",
      "2018-02-23 16:18:20 testing model 2/12\n",
      "2018-02-23 16:18:56 testing model 3/12\n",
      "2018-02-23 16:19:29 testing model 4/12\n",
      "2018-02-23 16:20:02 testing model 5/12\n",
      "2018-02-23 16:20:36 testing model 6/12\n",
      "2018-02-23 16:21:09 testing model 7/12\n",
      "2018-02-23 16:21:41 testing model 8/12\n",
      "2018-02-23 16:22:13 testing model 9/12\n",
      "2018-02-23 16:22:46 testing model 10/12\n",
      "2018-02-23 16:23:21 testing model 11/12\n",
      "2018-02-23 16:23:54 testing model 12/12\n",
      "2018-02-23 16:24:29 Done.\n"
     ]
    }
   ],
   "source": [
    "PAN_L1_models = load_models(PivotModel, skewing_function=skew, batch_size=128, n_recovery_steps=5,\n",
    "                         n_clf_pre_training_steps=3000, n_adv_pre_training_steps=3000, n_steps=10000,\n",
    "                         width=5., trade_off=1.0, cuda=True)\n",
    "df_list = test_submission(PAN_L1_models, X, y, z_list=z_list)\n",
    "PAN_L1_mean_acc, PAN_L1_std_acc = get_mean_std(df_list)\n"
   ]
  },
  {
   "cell_type": "code",
   "execution_count": null,
   "metadata": {},
   "outputs": [
    {
     "name": "stdout",
     "output_type": "stream",
     "text": [
      "2018-02-23 16:24:29 Loading 12 PivotModel\n",
      "2018-02-23 16:24:29 testing model 1/12\n"
     ]
    }
   ],
   "source": [
    "PAN_L10_models = load_models(PivotModel, skewing_function=skew, batch_size=128, n_recovery_steps=5,\n",
    "                         n_clf_pre_training_steps=3000, n_adv_pre_training_steps=3000, n_steps=10000,\n",
    "                         width=5., trade_off=10.0, cuda=True)\n",
    "df_list = test_submission(PAN_L10_models, X, y, z_list=z_list)\n",
    "PAN_L10_mean_acc, PAN_L10_std_acc = get_mean_std(df_list)\n"
   ]
  },
  {
   "cell_type": "code",
   "execution_count": null,
   "metadata": {},
   "outputs": [],
   "source": [
    "PAN_L100_models = load_models(PivotModel, skewing_function=skew, batch_size=128, n_recovery_steps=5,\n",
    "                         n_clf_pre_training_steps=3000, n_adv_pre_training_steps=3000, n_steps=10000,\n",
    "                         width=5., trade_off=100.0, cuda=True)\n",
    "df_list = test_submission(PAN_L100_models, X, y, z_list=z_list)\n",
    "PAN_L100_mean_acc, PAN_L100_std_acc = get_mean_std(df_list)\n"
   ]
  },
  {
   "cell_type": "code",
   "execution_count": null,
   "metadata": {},
   "outputs": [],
   "source": []
  },
  {
   "cell_type": "markdown",
   "metadata": {},
   "source": [
    "# Plot\n",
    "\n",
    "\n",
    "- What about confusion matrices ???\n"
   ]
  },
  {
   "cell_type": "code",
   "execution_count": null,
   "metadata": {},
   "outputs": [],
   "source": [
    "z = z_list\n",
    "\n",
    "plt.figure(figsize=(8*2,6*2))\n",
    "\n",
    "plt.plot(z, ANN_mean_acc, 'o-', label='NNP')\n",
    "# plt.fill_between(z, NNDA_mean_acc+NNDA_std_acc, NNDA_mean_acc-NNDA_std_acc, alpha=0.5)\n",
    "\n",
    "plt.plot(z, NN_mean_acc, 'o-', label='NN')\n",
    "# plt.fill_between(z, NN_mean_acc+NN_std_acc, NN_mean_acc-NN_std_acc, alpha=0.5)\n",
    "\n",
    "plt.plot(z, PAN_L0_mean_acc, 'o-', label='0.0')\n",
    "# plt.fill_between(z, PAN_L0_mean_acc+PAN_L0_std_acc, PAN_L0_mean_acc-PAN_L0_std_acc, alpha=0.5)\n",
    "\n",
    "plt.plot(z, PAN_L01_mean_acc, 'o-', label='0.1')\n",
    "# plt.fill_between(z, PAN_L01_mean_acc+PAN_L01_std_acc, PAN_L01_mean_acc-PAN_L01_std_acc, alpha=0.5)\n",
    "\n",
    "plt.plot(z, PAN_L1_mean_acc, 'o-', label='1')\n",
    "# plt.fill_between(z, PAN_L1_mean_acc+PAN_L1_std_acc, PAN_L1_mean_acc-PAN_L1_std_acc, alpha=0.5)\n",
    "\n",
    "plt.plot(z, PAN_L10_mean_acc, 'o-', label='10')\n",
    "# plt.fill_between(z, PAN_L10_mean_acc+PAN_L10_std_acc, PAN_L10_mean_acc-PAN_L10_std_acc, alpha=0.5)\n",
    "\n",
    "# plt.plot(z, PAN_L100_mean_acc, 'o-', label='100')\n",
    "# plt.fill_between(z, PAN_L100_mean_acc+PAN_L100_std_acc, PAN_L100_mean_acc-PAN_L100_std_acc, alpha=0.5)\n",
    "\n",
    "\n",
    "plt.xlabel('angle')\n",
    "plt.ylabel('accuracy')\n",
    "plt.legend()\n",
    "plt.show()\n"
   ]
  },
  {
   "cell_type": "code",
   "execution_count": null,
   "metadata": {},
   "outputs": [],
   "source": [
    "# plt.figure(figsize=(15,8))\n",
    "\n",
    "zz = np.random.normal( loc=0, scale=5, size=(X.shape[0]) )\n",
    "sns.distplot(zz, label='5')\n",
    "\n",
    "zz = np.random.normal( loc=0, scale=10, size=(X.shape[0]) )\n",
    "sns.distplot(zz, label='10')\n",
    "\n",
    "zz = np.random.normal( loc=0, scale=15, size=(X.shape[0]) )\n",
    "sns.distplot(zz, label='15')\n",
    "\n",
    "plt.xlabel('angle')\n",
    "plt.legend()\n",
    "plt.show()"
   ]
  },
  {
   "cell_type": "markdown",
   "metadata": {},
   "source": [
    "## Losses"
   ]
  },
  {
   "cell_type": "code",
   "execution_count": null,
   "metadata": {},
   "outputs": [],
   "source": [
    "i = 0\n",
    "\n",
    "plt.plot(NN_models[i].loss_hook.losses[::50], label='NN')\n",
    "plt.plot(ANN_models[i].loss_hook.losses[::50], label='ANN')\n",
    "plt.plot(PAN_0_models[i].dloss_hook.losses[::50], label='0.0')\n",
    "plt.plot(PAN_01_models[i].dloss_hook.losses[::50], label='0.1')\n",
    "plt.plot(PAN_1_models[i].dloss_hook.losses[::50], label='1')\n",
    "plt.plot(PAN_10_models[i].dloss_hook.losses[::50], label='10')\n",
    "\n",
    "plt.title('Cross entropy')\n",
    "plt.legend()\n",
    "plt.show()"
   ]
  },
  {
   "cell_type": "code",
   "execution_count": null,
   "metadata": {},
   "outputs": [],
   "source": []
  },
  {
   "cell_type": "code",
   "execution_count": null,
   "metadata": {},
   "outputs": [],
   "source": []
  },
  {
   "cell_type": "markdown",
   "metadata": {},
   "source": [
    "# Playground"
   ]
  },
  {
   "cell_type": "code",
   "execution_count": null,
   "metadata": {},
   "outputs": [],
   "source": [
    "# i = 0\n",
    "# m = models[i]\n",
    "# cv_iter = get_cv_iter(X, y)\n",
    "# idx_dev, idx_valid = cv_iter[i]\n",
    "# X_test = X[idx_valid]\n",
    "# y_test = y[idx_valid]\n",
    "# acc = accuracy_score(y_test, m.predict(X_test))\n",
    "\n",
    "# print(acc)\n"
   ]
  },
  {
   "cell_type": "code",
   "execution_count": null,
   "metadata": {},
   "outputs": [],
   "source": [
    "# XX = skew(X_test, z=80)\n",
    "# y_pred = m.predict(XX)\n",
    "# acc = accuracy_score(y_test, m.predict(XX))\n",
    "# print(acc)\n",
    "\n",
    "# i = np.random.randint(0, XX.shape[0])\n",
    "# plt.imshow(XX[i].reshape(28,28))\n",
    "\n",
    "# plt.title('label = {}<->truth = {}'.format(y_pred[i], y_test[i]))\n",
    "# plt.show()\n",
    "\n",
    "# plt.imshow(X_test[i].reshape(28,28))\n",
    "# plt.show()\n"
   ]
  },
  {
   "cell_type": "code",
   "execution_count": null,
   "metadata": {},
   "outputs": [],
   "source": [
    "# X_test.shape"
   ]
  },
  {
   "cell_type": "code",
   "execution_count": null,
   "metadata": {},
   "outputs": [],
   "source": [
    "# from myNNDA import data_augment"
   ]
  },
  {
   "cell_type": "code",
   "execution_count": null,
   "metadata": {},
   "outputs": [],
   "source": [
    "# XX = X[:200]\n",
    "# yy = y[:200]\n",
    "# XX2, yy, _ = data_augment(XX, yy, None)"
   ]
  },
  {
   "cell_type": "code",
   "execution_count": null,
   "metadata": {},
   "outputs": [],
   "source": [
    "# i = 67\n",
    "# x = XX2[i].reshape(28, 28)\n",
    "# plt.imshow(x, cmap='Greys')\n",
    "# plt.title('skewed')\n",
    "# plt.show()\n",
    "# x = XX[i].reshape(28, 28)\n",
    "# plt.imshow(x, cmap='Greys')\n",
    "# plt.title('original')\n",
    "# plt.show()"
   ]
  },
  {
   "cell_type": "code",
   "execution_count": null,
   "metadata": {},
   "outputs": [],
   "source": []
  }
 ],
 "metadata": {
  "kernelspec": {
   "display_name": "Python 3",
   "language": "python",
   "name": "python3"
  },
  "language_info": {
   "codemirror_mode": {
    "name": "ipython",
    "version": 3
   },
   "file_extension": ".py",
   "mimetype": "text/x-python",
   "name": "python",
   "nbconvert_exporter": "python",
   "pygments_lexer": "ipython3",
   "version": "3.5.4"
  },
  "toc": {
   "nav_menu": {},
   "number_sections": false,
   "sideBar": true,
   "skip_h1_title": false,
   "toc_cell": false,
   "toc_position": {},
   "toc_section_display": "block",
   "toc_window_display": true
  }
 },
 "nbformat": 4,
 "nbformat_minor": 2
}
