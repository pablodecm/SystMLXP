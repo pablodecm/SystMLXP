{
 "cells": [
  {
   "cell_type": "code",
   "execution_count": 2,
   "metadata": {},
   "outputs": [],
   "source": [
    "from __future__ import print_function\n",
    "from __future__ import division\n",
    "from __future__ import absolute_import\n",
    "from __future__ import unicode_literals\n",
    "\n",
    "import numpy as np\n",
    "import pandas as pd\n",
    "\n",
    "import matplotlib.pyplot as plt\n",
    "import seaborn\n",
    "\n",
    "%matplotlib inline"
   ]
  },
  {
   "cell_type": "markdown",
   "metadata": {},
   "source": [
    "# Data"
   ]
  },
  {
   "cell_type": "code",
   "execution_count": 3,
   "metadata": {
    "cell_style": "center"
   },
   "outputs": [],
   "source": [
    "from data import load_data"
   ]
  },
  {
   "cell_type": "code",
   "execution_count": 4,
   "metadata": {},
   "outputs": [],
   "source": [
    "X, y = load_data()"
   ]
  },
  {
   "cell_type": "code",
   "execution_count": 5,
   "metadata": {},
   "outputs": [
    {
     "data": {
      "image/png": "[encoded data removed]",
      "text/plain": [
       "<matplotlib.figure.Figure at 0x7fd6e31f4eb8>"
      ]
     },
     "metadata": {},
     "output_type": "display_data"
    }
   ],
   "source": [
    "plt.imshow(X[0].reshape(28,28), cmap='Greys')\n",
    "plt.show()"
   ]
  },
  {
   "cell_type": "code",
   "execution_count": 6,
   "metadata": {},
   "outputs": [],
   "source": [
    "from PIL import Image"
   ]
  },
  {
   "cell_type": "code",
   "execution_count": 7,
   "metadata": {},
   "outputs": [],
   "source": [
    "def skew(X, z):\n",
    "    X_rotated = np.empty_like(X)\n",
    "    for i in range(X.shape[0]):\n",
    "        x = X[i].reshape(28,28)\n",
    "        img = Image.fromarray(x)\n",
    "        img = img.rotate(z, resample=Image.BICUBIC)\n",
    "        x = np.array(img)\n",
    "        X_rotated[i] = x.reshape(28,28,1)\n",
    "    return X_rotated"
   ]
  },
  {
   "cell_type": "code",
   "execution_count": 8,
   "metadata": {},
   "outputs": [],
   "source": [
    "X_rot = skew(X, 50)"
   ]
  },
  {
   "cell_type": "code",
   "execution_count": 50,
   "metadata": {},
   "outputs": [
    {
     "data": {
      "image/png": "[encoded data removed]",
      "text/plain": [
       "<matplotlib.figure.Figure at 0x7fd6d1f1d160>"
      ]
     },
     "metadata": {},
     "output_type": "display_data"
    },
    {
     "data": {
      "image/png": "[encoded data removed]",
      "text/plain": [
       "<matplotlib.figure.Figure at 0x7fd6d1ea54e0>"
      ]
     },
     "metadata": {},
     "output_type": "display_data"
    }
   ],
   "source": [
    "i = 378\n",
    "plt.imshow(X[i].reshape(28,28), cmap='Greys')\n",
    "plt.show()\n",
    "plt.imshow(X_rot[i].reshape(28,28), cmap='Greys')\n",
    "plt.show()\n"
   ]
  },
  {
   "cell_type": "markdown",
   "metadata": {},
   "source": [
    "# Workflow"
   ]
  },
  {
   "cell_type": "code",
   "execution_count": 10,
   "metadata": {},
   "outputs": [],
   "source": [
    "from sklearn.metrics import accuracy_score"
   ]
  },
  {
   "cell_type": "code",
   "execution_count": 11,
   "metadata": {},
   "outputs": [],
   "source": [
    "import datetime\n",
    "import sys\n",
    "\n",
    "def print(*args, sep=' ', flush=False, end='\\n', file=sys.stdout):\n",
    "    now = datetime.datetime.now().strftime('%Y-%m-%d %H:%M:%S')\n",
    "    __builtin__.print(now, *args, sep=sep, flush=flush, end=end, file=file)"
   ]
  },
  {
   "cell_type": "code",
   "execution_count": 17,
   "metadata": {},
   "outputs": [],
   "source": [
    "def test_model(model, X, y):\n",
    "    print('testing ...')\n",
    "    pred = model.predict(X)\n",
    "    acc = accuracy_score(y, pred)\n",
    "    print('accuracy :', acc)\n",
    "    print('finished testing')\n",
    "    return acc\n",
    "    "
   ]
  },
  {
   "cell_type": "code",
   "execution_count": 36,
   "metadata": {},
   "outputs": [],
   "source": [
    "from sklearn.model_selection import ShuffleSplit\n",
    "\n",
    "RANDOM_STATE = 42\n",
    "def get_cv_iter(X, y):\n",
    "    cv = ShuffleSplit(n_splits=5, test_size=0.2, random_state=RANDOM_STATE)\n",
    "    cv_iter = list(cv.split(X, y))\n",
    "    return cv_iter"
   ]
  },
  {
   "cell_type": "code",
   "execution_count": 37,
   "metadata": {},
   "outputs": [],
   "source": [
    "def train_submission(model, X, y):\n",
    "    cv_iter = get_cv_iter(X, y)\n",
    "    n_cv = len(cv_iter)\n",
    "    for i, (idx_dev, idx_valid) in enumerate(cv_iter):\n",
    "        X_train = X[idx_dev]\n",
    "        y_train = y[idx_dev]\n",
    "        \n",
    "        print('training {}/{}...'.format(i+1, n_cv))\n",
    "        model.fit(X, y)\n",
    "        print('saving model {}/{}...'.format(i+1, n_cv))\n",
    "        model.save('lin-{}.pkl'.format(i))\n",
    "    return None"
   ]
  },
  {
   "cell_type": "code",
   "execution_count": 45,
   "metadata": {},
   "outputs": [],
   "source": [
    "def test_submission(models, X, y, z_list=(-45, 0, +45)):\n",
    "    cv_iter = get_cv_iter(X, y)\n",
    "    n_cv = len(cv_iter)\n",
    "    df_list = []\n",
    "    for i, (idx_dev, idx_valid) in enumerate(cv_iter):\n",
    "        X_test = X[idx_valid]\n",
    "        y_test = y[idx_valid]\n",
    "        res = []\n",
    "        model = models[i]\n",
    "        print('testing model {}/{}'.format(i+1, n_cv))\n",
    "        for z in z_list:\n",
    "            X_t = skew(X_test, z=z)\n",
    "            pred = model.predict(X_test)\n",
    "            acc = accuracy_score(y_test, pred)\n",
    "            res.append((z, acc))\n",
    "        df = pd.DataFrame(res, columns=['z', 'accuracy'])\n",
    "        df_list.append(df)\n",
    "    return df_list"
   ]
  },
  {
   "cell_type": "code",
   "execution_count": null,
   "metadata": {},
   "outputs": [],
   "source": []
  },
  {
   "cell_type": "code",
   "execution_count": null,
   "metadata": {},
   "outputs": [],
   "source": []
  },
  {
   "cell_type": "markdown",
   "metadata": {},
   "source": [
    "# Model"
   ]
  },
  {
   "cell_type": "code",
   "execution_count": 39,
   "metadata": {},
   "outputs": [],
   "source": [
    "from sklearn.linear_model import LogisticRegression"
   ]
  },
  {
   "cell_type": "code",
   "execution_count": 40,
   "metadata": {},
   "outputs": [],
   "source": [
    "from sklearn.base import BaseEstimator, ClassifierMixin\n",
    "from sklearn.externals import joblib\n",
    "\n",
    "class LinReg(BaseEstimator, ClassifierMixin):\n",
    "    def __init__(self):\n",
    "        super().__init__()\n",
    "        self.model = LogisticRegression()\n",
    "    \n",
    "    def get_name(self):\n",
    "        return 'LinReg'\n",
    "    \n",
    "    def fit(self, X, y):\n",
    "        X = X.reshape(-1, 28*28)\n",
    "        X = X[:5000]\n",
    "        y = y[:5000]\n",
    "        X = X / 255\n",
    "        self.model.fit(X, y)\n",
    "        return self\n",
    "    \n",
    "    def predict_proba(self, X):\n",
    "        X = X.reshape(-1, 28*28)\n",
    "        X = X / 255\n",
    "        pred = self.model.predict_proba(X)\n",
    "        return pred\n",
    "    \n",
    "    def predict(self, X):\n",
    "        X = X.reshape(-1, 28*28)\n",
    "        X = X / 255\n",
    "        pred = self.model.predict(X)\n",
    "        return pred\n",
    "    \n",
    "    def save(self, dir_path):\n",
    "        path = os.path.join(dir_path, 'LogisticRegression.pkl')\n",
    "        joblib.dump(self.model, path)\n",
    "        return self\n",
    "    \n",
    "    def load(self, dir_path):\n",
    "        path = os.path.join(dir_path, 'LogisticRegression.pkl')\n",
    "        self.model = joblib.load(path)\n",
    "        return self\n",
    "\n"
   ]
  },
  {
   "cell_type": "markdown",
   "metadata": {},
   "source": [
    "# Let's try it out"
   ]
  },
  {
   "cell_type": "code",
   "execution_count": 41,
   "metadata": {},
   "outputs": [],
   "source": [
    "from sklearn.model_selection import train_test_split\n",
    "\n",
    "model = LinReg()"
   ]
  },
  {
   "cell_type": "code",
   "execution_count": 42,
   "metadata": {},
   "outputs": [
    {
     "name": "stdout",
     "output_type": "stream",
     "text": [
      "2017-11-14 20:49:13 training 0/5...\n",
      "2017-11-14 20:49:14 saving model 0/5...\n",
      "2017-11-14 20:49:14 training 1/5...\n",
      "2017-11-14 20:49:15 saving model 1/5...\n",
      "2017-11-14 20:49:15 training 2/5...\n",
      "2017-11-14 20:49:16 saving model 2/5...\n",
      "2017-11-14 20:49:16 training 3/5...\n",
      "2017-11-14 20:49:17 saving model 3/5...\n",
      "2017-11-14 20:49:17 training 4/5...\n",
      "2017-11-14 20:49:18 saving model 4/5...\n"
     ]
    }
   ],
   "source": [
    "train_submission(model, X, y)"
   ]
  },
  {
   "cell_type": "code",
   "execution_count": 43,
   "metadata": {},
   "outputs": [],
   "source": [
    "models = [LinReg().load('lin-{}.pkl'.format(i)) for i in range(5)]"
   ]
  },
  {
   "cell_type": "code",
   "execution_count": 46,
   "metadata": {},
   "outputs": [
    {
     "name": "stdout",
     "output_type": "stream",
     "text": [
      "2017-11-14 20:51:50 testing model 1/5\n",
      "2017-11-14 20:52:01 testing model 2/5\n",
      "2017-11-14 20:52:11 testing model 3/5\n",
      "2017-11-14 20:52:22 testing model 4/5\n",
      "2017-11-14 20:52:32 testing model 5/5\n"
     ]
    }
   ],
   "source": [
    "df_list = test_submission(models, X, y, z_list=list(range(-80, 81, 15)))"
   ]
  },
  {
   "cell_type": "code",
   "execution_count": 47,
   "metadata": {},
   "outputs": [
    {
     "data": {
      "text/html": [
       "<div>\n",
       "<style scoped>\n",
       "    .dataframe tbody tr th:only-of-type {\n",
       "        vertical-align: middle;\n",
       "    }\n",
       "\n",
       "    .dataframe tbody tr th {\n",
       "        vertical-align: top;\n",
       "    }\n",
       "\n",
       "    .dataframe thead th {\n",
       "        text-align: right;\n",
       "    }\n",
       "</style>\n",
       "<table border=\"1\" class=\"dataframe\">\n",
       "  <thead>\n",
       "    <tr style=\"text-align: right;\">\n",
       "      <th></th>\n",
       "      <th>z</th>\n",
       "      <th>accuracy</th>\n",
       "    </tr>\n",
       "  </thead>\n",
       "  <tbody>\n",
       "    <tr>\n",
       "      <th>0</th>\n",
       "      <td>-80</td>\n",
       "      <td>0.829643</td>\n",
       "    </tr>\n",
       "    <tr>\n",
       "      <th>1</th>\n",
       "      <td>-65</td>\n",
       "      <td>0.829643</td>\n",
       "    </tr>\n",
       "    <tr>\n",
       "      <th>2</th>\n",
       "      <td>-50</td>\n",
       "      <td>0.829643</td>\n",
       "    </tr>\n",
       "    <tr>\n",
       "      <th>3</th>\n",
       "      <td>-35</td>\n",
       "      <td>0.829643</td>\n",
       "    </tr>\n",
       "    <tr>\n",
       "      <th>4</th>\n",
       "      <td>-20</td>\n",
       "      <td>0.829643</td>\n",
       "    </tr>\n",
       "    <tr>\n",
       "      <th>5</th>\n",
       "      <td>-5</td>\n",
       "      <td>0.829643</td>\n",
       "    </tr>\n",
       "    <tr>\n",
       "      <th>6</th>\n",
       "      <td>10</td>\n",
       "      <td>0.829643</td>\n",
       "    </tr>\n",
       "    <tr>\n",
       "      <th>7</th>\n",
       "      <td>25</td>\n",
       "      <td>0.829643</td>\n",
       "    </tr>\n",
       "    <tr>\n",
       "      <th>8</th>\n",
       "      <td>40</td>\n",
       "      <td>0.829643</td>\n",
       "    </tr>\n",
       "    <tr>\n",
       "      <th>9</th>\n",
       "      <td>55</td>\n",
       "      <td>0.829643</td>\n",
       "    </tr>\n",
       "    <tr>\n",
       "      <th>10</th>\n",
       "      <td>70</td>\n",
       "      <td>0.829643</td>\n",
       "    </tr>\n",
       "  </tbody>\n",
       "</table>\n",
       "</div>"
      ],
      "text/plain": [
       "     z  accuracy\n",
       "0  -80  0.829643\n",
       "1  -65  0.829643\n",
       "2  -50  0.829643\n",
       "3  -35  0.829643\n",
       "4  -20  0.829643\n",
       "5   -5  0.829643\n",
       "6   10  0.829643\n",
       "7   25  0.829643\n",
       "8   40  0.829643\n",
       "9   55  0.829643\n",
       "10  70  0.829643"
      ]
     },
     "execution_count": 47,
     "metadata": {},
     "output_type": "execute_result"
    }
   ],
   "source": [
    "df_list[1]"
   ]
  },
  {
   "cell_type": "code",
   "execution_count": null,
   "metadata": {},
   "outputs": [],
   "source": []
  },
  {
   "cell_type": "code",
   "execution_count": 48,
   "metadata": {},
   "outputs": [],
   "source": [
    "df = df_list[2]"
   ]
  },
  {
   "cell_type": "code",
   "execution_count": 49,
   "metadata": {},
   "outputs": [
    {
     "data": {
      "image/png": "[encoded data removed]",
      "text/plain": [
       "<matplotlib.figure.Figure at 0x7fd6d1f79ef0>"
      ]
     },
     "metadata": {},
     "output_type": "display_data"
    }
   ],
   "source": [
    "plt.plot(df['z'], df['accuracy'], label='linear')\n",
    "plt.xlabel('angle')\n",
    "plt.ylabel('accuracy')\n",
    "plt.legend()\n",
    "plt.show()"
   ]
  },
  {
   "cell_type": "code",
   "execution_count": 59,
   "metadata": {},
   "outputs": [],
   "source": [
    "z = 1"
   ]
  },
  {
   "cell_type": "code",
   "execution_count": 60,
   "metadata": {},
   "outputs": [],
   "source": [
    "a = np.array(z)"
   ]
  },
  {
   "cell_type": "code",
   "execution_count": 62,
   "metadata": {},
   "outputs": [],
   "source": [
    "def skew(X, z):\n",
    "    if not hasattr(z, \"__len__\"):\n",
    "        z = np.ones(X.shape[0]) * z\n",
    "    X_rotated = np.empty_like(X)\n",
    "    for i in range(X.shape[0]):\n",
    "        x = X[i].reshape(28,28)\n",
    "        img = Image.fromarray(x)\n",
    "        img = img.rotate(z[i], resample=Image.BICUBIC)\n",
    "        x = np.array(img)\n",
    "        X_rotated[i] = x.reshape(28,28,1)\n",
    "    return X_rotated"
   ]
  },
  {
   "cell_type": "code",
   "execution_count": 66,
   "metadata": {},
   "outputs": [],
   "source": [
    "z = np.random.normal( loc=0, scale=15, size=(X.shape[0]) )\n",
    "baba = skew(X, z)"
   ]
  },
  {
   "cell_type": "code",
   "execution_count": 69,
   "metadata": {},
   "outputs": [
    {
     "data": {
      "image/png": "[encoded data removed]",
      "text/plain": [
       "<matplotlib.figure.Figure at 0x7fd6d1ad2278>"
      ]
     },
     "metadata": {},
     "output_type": "display_data"
    },
    {
     "data": {
      "image/png": "[encoded data removed]",
      "text/plain": [
       "<matplotlib.figure.Figure at 0x7fd6d1a6df60>"
      ]
     },
     "metadata": {},
     "output_type": "display_data"
    }
   ],
   "source": [
    "i = np.random.randint(0, X.shape[0])\n",
    "plt.imshow(X[i].reshape(28,28), cmap='Greys')\n",
    "plt.show()\n",
    "plt.imshow(baba[i].reshape(28,28), cmap='Greys')\n",
    "plt.show()\n"
   ]
  },
  {
   "cell_type": "code",
   "execution_count": null,
   "metadata": {},
   "outputs": [],
   "source": []
  }
 ],
 "metadata": {
  "kernelspec": {
   "display_name": "Python 3",
   "language": "python",
   "name": "python3"
  },
  "language_info": {
   "codemirror_mode": {
    "name": "ipython",
    "version": 3
   },
   "file_extension": ".py",
   "mimetype": "text/x-python",
   "name": "python",
   "nbconvert_exporter": "python",
   "pygments_lexer": "ipython3",
   "version": "3.6.3"
  },
  "toc": {
   "nav_menu": {},
   "number_sections": false,
   "sideBar": true,
   "skip_h1_title": false,
   "toc_cell": false,
   "toc_position": {},
   "toc_section_display": "block",
   "toc_window_display": true
  }
 },
 "nbformat": 4,
 "nbformat_minor": 2
}
