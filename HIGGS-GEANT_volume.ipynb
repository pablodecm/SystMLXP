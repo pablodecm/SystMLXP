{
 "cells": [
  {
   "cell_type": "code",
   "execution_count": 1,
   "metadata": {},
   "outputs": [],
   "source": [
    "from __future__ import print_function\n",
    "from __future__ import division\n",
    "from __future__ import absolute_import\n",
    "from __future__ import unicode_literals\n",
    "\n",
    "import os\n",
    "import sys\n",
    "\n",
    "import numpy as np\n",
    "import pandas as pd\n",
    "\n",
    "import matplotlib.pyplot as plt\n",
    "import matplotlib as mpl\n",
    "import seaborn as sns\n",
    "\n",
    "%matplotlib inline"
   ]
  },
  {
   "cell_type": "code",
   "execution_count": null,
   "metadata": {},
   "outputs": [],
   "source": [
    "sns.set()\n",
    "sns.set_style(\"whitegrid\")\n",
    "sns.set_context(\"poster\")\n",
    "\n",
    "mpl.rcParams['figure.figsize'] = [8.0*2, 6.0*2]\n",
    "mpl.rcParams['figure.dpi'] = 80\n",
    "mpl.rcParams['savefig.dpi'] = 100\n",
    "\n",
    "mpl.rcParams['font.size'] = 30\n",
    "mpl.rcParams['axes.labelsize'] = 30\n",
    "mpl.rcParams['ytick.labelsize'] = 30\n",
    "mpl.rcParams['xtick.labelsize'] = 30\n",
    "mpl.rcParams['legend.fontsize'] = 'large'\n",
    "mpl.rcParams['figure.titlesize'] = 'medium'\n"
   ]
  },
  {
   "cell_type": "markdown",
   "metadata": {},
   "source": [
    "# Introduction\n",
    "\n",
    "Here I look at the volume of the sub-space in which the signal/background is high enough to minimize the statistics + systematics errors.\n",
    "\n",
    "Hypothesis : \n",
    "- Data augmentation (& other methods) fails because it increase the selected volume. At test time this increase too much the number of selected background events. \n",
    "\n",
    "\n",
    "**Remaining work**:\n",
    "- FIX the NaN issue\n",
    "- Test the code. Write something to prove that it is correct\n",
    "- Correlation between sigma mu and volume ?\n",
    "- Redaction de tout ça au propre."
   ]
  },
  {
   "cell_type": "code",
   "execution_count": 1,
   "metadata": {},
   "outputs": [],
   "source": [
    "from problem.workflow import pprint"
   ]
  },
  {
   "cell_type": "code",
   "execution_count": null,
   "metadata": {},
   "outputs": [],
   "source": []
  },
  {
   "cell_type": "markdown",
   "metadata": {},
   "source": [
    "# Data"
   ]
  },
  {
   "cell_type": "code",
   "execution_count": 2,
   "metadata": {},
   "outputs": [],
   "source": [
    "from problem.higgs_geant import load_data"
   ]
  },
  {
   "cell_type": "code",
   "execution_count": 3,
   "metadata": {},
   "outputs": [],
   "source": [
    "print('Loading data ...')\n",
    "data, _ = load_data()\n",
    "print('Done !')"
   ]
  },
  {
   "cell_type": "code",
   "execution_count": 4,
   "metadata": {},
   "outputs": [
    {
     "data": {
      "text/html": [
       "<div>\n",
       "<style scoped>\n",
       "    .dataframe tbody tr th:only-of-type {\n",
       "        vertical-align: middle;\n",
       "    }\n",
       "\n",
       "    .dataframe tbody tr th {\n",
       "        vertical-align: top;\n",
       "    }\n",
       "\n",
       "    .dataframe thead th {\n",
       "        text-align: right;\n",
       "    }\n",
       "</style>\n",
       "<table border=\"1\" class=\"dataframe\">\n",
       "  <thead>\n",
       "    <tr style=\"text-align: right;\">\n",
       "      <th></th>\n",
       "      <th>DER_mass_MMC</th>\n",
       "      <th>DER_mass_transverse_met_lep</th>\n",
       "      <th>DER_mass_vis</th>\n",
       "      <th>DER_pt_h</th>\n",
       "      <th>DER_deltaeta_jet_jet</th>\n",
       "      <th>DER_mass_jet_jet</th>\n",
       "      <th>DER_prodeta_jet_jet</th>\n",
       "      <th>DER_deltar_tau_lep</th>\n",
       "      <th>DER_pt_tot</th>\n",
       "      <th>DER_sum_pt</th>\n",
       "      <th>...</th>\n",
       "      <th>PRI_jet_num</th>\n",
       "      <th>PRI_jet_leading_pt</th>\n",
       "      <th>PRI_jet_leading_eta</th>\n",
       "      <th>PRI_jet_leading_phi</th>\n",
       "      <th>PRI_jet_subleading_pt</th>\n",
       "      <th>PRI_jet_subleading_eta</th>\n",
       "      <th>PRI_jet_subleading_phi</th>\n",
       "      <th>PRI_jet_all_pt</th>\n",
       "      <th>Weight</th>\n",
       "      <th>Label</th>\n",
       "    </tr>\n",
       "  </thead>\n",
       "  <tbody>\n",
       "    <tr>\n",
       "      <th>0</th>\n",
       "      <td>138.470</td>\n",
       "      <td>51.655</td>\n",
       "      <td>97.827</td>\n",
       "      <td>27.980</td>\n",
       "      <td>0.91</td>\n",
       "      <td>124.711</td>\n",
       "      <td>2.666</td>\n",
       "      <td>3.064</td>\n",
       "      <td>41.928</td>\n",
       "      <td>197.760</td>\n",
       "      <td>...</td>\n",
       "      <td>2</td>\n",
       "      <td>67.435</td>\n",
       "      <td>2.150</td>\n",
       "      <td>0.444</td>\n",
       "      <td>46.062</td>\n",
       "      <td>1.24</td>\n",
       "      <td>-2.475</td>\n",
       "      <td>113.497</td>\n",
       "      <td>0.000814</td>\n",
       "      <td>1.0</td>\n",
       "    </tr>\n",
       "    <tr>\n",
       "      <th>1</th>\n",
       "      <td>160.937</td>\n",
       "      <td>68.768</td>\n",
       "      <td>103.235</td>\n",
       "      <td>48.146</td>\n",
       "      <td>0.00</td>\n",
       "      <td>0.000</td>\n",
       "      <td>0.000</td>\n",
       "      <td>3.473</td>\n",
       "      <td>2.078</td>\n",
       "      <td>125.157</td>\n",
       "      <td>...</td>\n",
       "      <td>1</td>\n",
       "      <td>46.226</td>\n",
       "      <td>0.725</td>\n",
       "      <td>1.158</td>\n",
       "      <td>0.000</td>\n",
       "      <td>0.00</td>\n",
       "      <td>0.000</td>\n",
       "      <td>46.226</td>\n",
       "      <td>0.681042</td>\n",
       "      <td>0.0</td>\n",
       "    </tr>\n",
       "    <tr>\n",
       "      <th>2</th>\n",
       "      <td>0.000</td>\n",
       "      <td>162.172</td>\n",
       "      <td>125.953</td>\n",
       "      <td>35.635</td>\n",
       "      <td>0.00</td>\n",
       "      <td>0.000</td>\n",
       "      <td>0.000</td>\n",
       "      <td>3.148</td>\n",
       "      <td>9.336</td>\n",
       "      <td>197.814</td>\n",
       "      <td>...</td>\n",
       "      <td>1</td>\n",
       "      <td>44.251</td>\n",
       "      <td>2.053</td>\n",
       "      <td>-2.028</td>\n",
       "      <td>0.000</td>\n",
       "      <td>0.00</td>\n",
       "      <td>0.000</td>\n",
       "      <td>44.251</td>\n",
       "      <td>0.715742</td>\n",
       "      <td>0.0</td>\n",
       "    </tr>\n",
       "    <tr>\n",
       "      <th>3</th>\n",
       "      <td>143.905</td>\n",
       "      <td>81.417</td>\n",
       "      <td>80.943</td>\n",
       "      <td>0.414</td>\n",
       "      <td>0.00</td>\n",
       "      <td>0.000</td>\n",
       "      <td>0.000</td>\n",
       "      <td>3.310</td>\n",
       "      <td>0.414</td>\n",
       "      <td>75.968</td>\n",
       "      <td>...</td>\n",
       "      <td>0</td>\n",
       "      <td>0.000</td>\n",
       "      <td>0.000</td>\n",
       "      <td>0.000</td>\n",
       "      <td>0.000</td>\n",
       "      <td>0.00</td>\n",
       "      <td>0.000</td>\n",
       "      <td>-0.000</td>\n",
       "      <td>1.660654</td>\n",
       "      <td>0.0</td>\n",
       "    </tr>\n",
       "    <tr>\n",
       "      <th>4</th>\n",
       "      <td>175.864</td>\n",
       "      <td>16.915</td>\n",
       "      <td>134.805</td>\n",
       "      <td>16.405</td>\n",
       "      <td>0.00</td>\n",
       "      <td>0.000</td>\n",
       "      <td>0.000</td>\n",
       "      <td>3.891</td>\n",
       "      <td>16.405</td>\n",
       "      <td>57.983</td>\n",
       "      <td>...</td>\n",
       "      <td>0</td>\n",
       "      <td>0.000</td>\n",
       "      <td>0.000</td>\n",
       "      <td>0.000</td>\n",
       "      <td>0.000</td>\n",
       "      <td>0.00</td>\n",
       "      <td>0.000</td>\n",
       "      <td>0.000</td>\n",
       "      <td>1.904263</td>\n",
       "      <td>0.0</td>\n",
       "    </tr>\n",
       "  </tbody>\n",
       "</table>\n",
       "<p>5 rows × 32 columns</p>\n",
       "</div>"
      ],
      "text/plain": [
       "   DER_mass_MMC  DER_mass_transverse_met_lep  DER_mass_vis  DER_pt_h  \\\n",
       "0       138.470                       51.655        97.827    27.980   \n",
       "1       160.937                       68.768       103.235    48.146   \n",
       "2         0.000                      162.172       125.953    35.635   \n",
       "3       143.905                       81.417        80.943     0.414   \n",
       "4       175.864                       16.915       134.805    16.405   \n",
       "\n",
       "   DER_deltaeta_jet_jet  DER_mass_jet_jet  DER_prodeta_jet_jet  \\\n",
       "0                  0.91           124.711                2.666   \n",
       "1                  0.00             0.000                0.000   \n",
       "2                  0.00             0.000                0.000   \n",
       "3                  0.00             0.000                0.000   \n",
       "4                  0.00             0.000                0.000   \n",
       "\n",
       "   DER_deltar_tau_lep  DER_pt_tot  DER_sum_pt  ...    PRI_jet_num  \\\n",
       "0               3.064      41.928     197.760  ...              2   \n",
       "1               3.473       2.078     125.157  ...              1   \n",
       "2               3.148       9.336     197.814  ...              1   \n",
       "3               3.310       0.414      75.968  ...              0   \n",
       "4               3.891      16.405      57.983  ...              0   \n",
       "\n",
       "   PRI_jet_leading_pt  PRI_jet_leading_eta  PRI_jet_leading_phi  \\\n",
       "0              67.435                2.150                0.444   \n",
       "1              46.226                0.725                1.158   \n",
       "2              44.251                2.053               -2.028   \n",
       "3               0.000                0.000                0.000   \n",
       "4               0.000                0.000                0.000   \n",
       "\n",
       "   PRI_jet_subleading_pt  PRI_jet_subleading_eta  PRI_jet_subleading_phi  \\\n",
       "0                 46.062                    1.24                  -2.475   \n",
       "1                  0.000                    0.00                   0.000   \n",
       "2                  0.000                    0.00                   0.000   \n",
       "3                  0.000                    0.00                   0.000   \n",
       "4                  0.000                    0.00                   0.000   \n",
       "\n",
       "   PRI_jet_all_pt    Weight  Label  \n",
       "0         113.497  0.000814    1.0  \n",
       "1          46.226  0.681042    0.0  \n",
       "2          44.251  0.715742    0.0  \n",
       "3          -0.000  1.660654    0.0  \n",
       "4           0.000  1.904263    0.0  \n",
       "\n",
       "[5 rows x 32 columns]"
      ]
     },
     "execution_count": 4,
     "metadata": {},
     "output_type": "execute_result"
    }
   ],
   "source": [
    "data.head()"
   ]
  },
  {
   "cell_type": "markdown",
   "metadata": {},
   "source": [
    "# Load models"
   ]
  },
  {
   "cell_type": "code",
   "execution_count": 5,
   "metadata": {},
   "outputs": [],
   "source": [
    "from problem.higgs_geant import get_save_directory\n",
    "from problem.higgs_geant import skew\n",
    "from problem.higgs_geant import tangent\n",
    "from problem.higgs_geant import get_cv_iter\n"
   ]
  },
  {
   "cell_type": "code",
   "execution_count": 6,
   "metadata": {},
   "outputs": [],
   "source": [
    "def load_models(model_class, *args, **kwargs):\n",
    "    models = []\n",
    "    cv_iter = get_cv_iter(data, data['Label'])\n",
    "    n_cv = len(cv_iter)\n",
    "    pprint('Loading', n_cv, model_class.__name__)\n",
    "    for i in range(n_cv):\n",
    "        model = model_class(*args, **kwargs)\n",
    "        save_directory = get_save_directory()\n",
    "        model_name = '{}-{}'.format(model.get_name(), i)\n",
    "        path = os.path.join(save_directory, model_name)\n",
    "        model.load(path)\n",
    "        models.append(model)\n",
    "    return models"
   ]
  },
  {
   "cell_type": "code",
   "execution_count": 7,
   "metadata": {},
   "outputs": [],
   "source": [
    "from models.higgsml import NeuralNetModel\n",
    "from models.higgsml import AugmentedNeuralNetModel\n",
    "from models.higgsml import TangentPropModel\n",
    "from models.higgsml import AugmentedTangentPropModel\n",
    "from models.higgsml import PivotModel\n"
   ]
  },
  {
   "cell_type": "code",
   "execution_count": null,
   "metadata": {},
   "outputs": [],
   "source": [
    "NN_models = load_models(NeuralNetModel, n_steps=10000, batch_size=1024, cuda=True)\n"
   ]
  },
  {
   "cell_type": "code",
   "execution_count": null,
   "metadata": {},
   "outputs": [],
   "source": [
    "ANN_models = load_models(AugmentedNeuralNetModel, skewing_function=skew, n_augment=5,\n",
    "                         batch_size=1024, n_steps=10000, width=0.03, cuda=True)\n"
   ]
  },
  {
   "cell_type": "code",
   "execution_count": null,
   "metadata": {},
   "outputs": [],
   "source": [
    "TP_models = load_models(TangentPropModel, skewing_function=skew, trade_off=0.01, \n",
    "                        batch_size=1024, n_steps=10000, cuda=True )\n"
   ]
  },
  {
   "cell_type": "code",
   "execution_count": null,
   "metadata": {},
   "outputs": [],
   "source": [
    "PAN_models = load_models(PivotModel, skewing_function=skew, batch_size=1024, n_recovery_steps=5,\n",
    "                         n_clf_pre_training_steps=3000, n_adv_pre_training_steps=3000, n_steps=10000,\n",
    "                         width=0.01, trade_off=1.0, cuda=True)\n"
   ]
  },
  {
   "cell_type": "markdown",
   "metadata": {},
   "source": [
    "# I need the model's prediction\n",
    "\n",
    "- Do I need the data for each TES ?\n",
    "- I need the decision function & a n-D box\n",
    "- Where does the n-D box comes from ?\n",
    "    - min and max on the combined dataset at -5% and +5%\n",
    "    - yep. It seems to be large enough to avoid missing sub-spaces.\n",
    "    - But I think it is too pessimistic. I can probably do better. But let's leave that for later.\n",
    "    \n",
    "- Train--Test split : Do I need it ?\n",
    "    - It seems useless. I need a box. I don't care if it comes from training or testing data the box is not part of the learning process.\n",
    "    - Let's take it all to make sure the box is large enough."
   ]
  },
  {
   "cell_type": "code",
   "execution_count": null,
   "metadata": {},
   "outputs": [],
   "source": [
    "def generate_uniform_samples(n_dim, n_samples, min_array, max_array):\n",
    "    import ghalton\n",
    "    gen = ghalton.Halton(n_dim)\n",
    "    points = np.array( gen.get(int(n_samples)) )\n",
    "    points = points * ( max_array - min_array ) + min_array\n",
    "    return points\n"
   ]
  },
  {
   "cell_type": "code",
   "execution_count": null,
   "metadata": {},
   "outputs": [],
   "source": [
    "def test_submission(data, models, threshold, max_TES=1.05, min_TES=0.95, n_samples=10000):\n",
    "    volumes = []\n",
    "    data_max = skewing_function(data, sysTauEnergyScale=max_TES)\n",
    "    data_min = skewing_function(data, sysTauEnergyScale=min_TES)\n",
    "    data_mix = pd.concat([data_max, data_min])\n",
    "    \n",
    "    X_mix, y_mix, W_mix = split_data_label_weights(data_mix)\n",
    "    n_dim = X_mix.shape[1]\n",
    "    for model in models:\n",
    "        proba = model.predict_proba(X_mix)\n",
    "        idx = np.where(proba[:, 1] > threshold)\n",
    "        X_selected = X_mix.iloc[idx]\n",
    "#        min_array = X_selected.min(axis=0).values.reshape(1, -1)\n",
    "#        max_array = X_selected.max(axis=0).values.reshape(1, -1)\n",
    "        # FIXME : max_array can be NaN with Tangent Prop : What The FUCK ?\n",
    "        min_array = np.nanmin(X_selected.values, axis=0).reshape(1, -1)\n",
    "        max_array = np.nanmax(X_selected.values, axis=0).reshape(1, -1)\n",
    "        \n",
    "        samples = generate_uniform_samples(n_dim, n_samples, min_array, max_array)\n",
    "        count = np.sum( model.predict_proba(samples)[:, 1] > threshold )\n",
    "        \n",
    "        vol = np.prod(max_array - min_array)\n",
    "        vol = ( vol * count ) / n_samples\n",
    "        volumes.append(vol)\n",
    "    return volumes\n"
   ]
  },
  {
   "cell_type": "code",
   "execution_count": null,
   "metadata": {},
   "outputs": [],
   "source": [
    "NN_volumes = test_submission(data, NN_models, 0.9)"
   ]
  },
  {
   "cell_type": "code",
   "execution_count": null,
   "metadata": {},
   "outputs": [],
   "source": [
    "ANN_volumes = test_submission(data, ANN_models, 0.9)"
   ]
  },
  {
   "cell_type": "code",
   "execution_count": null,
   "metadata": {},
   "outputs": [],
   "source": [
    "TP_volumes = test_submission(data, TP_models, 0.9)"
   ]
  },
  {
   "cell_type": "code",
   "execution_count": null,
   "metadata": {},
   "outputs": [],
   "source": [
    "PAN_volumes = test_submission(data, PAN_models, 0.9)"
   ]
  },
  {
   "cell_type": "code",
   "execution_count": null,
   "metadata": {},
   "outputs": [],
   "source": []
  },
  {
   "cell_type": "markdown",
   "metadata": {},
   "source": [
    "# Compare volumes\n",
    "\n",
    "\n",
    "What I need to do is to compare the volume and the score and see if there is a correlation between them.\n",
    "\n",
    "Hypothesis :\n",
    "- There should be a negative correlation. The more volume the more background are selected which decrease the performances."
   ]
  },
  {
   "cell_type": "code",
   "execution_count": 64,
   "metadata": {},
   "outputs": [
    {
     "data": {
      "image/png": "[encoded data removed]",
      "text/plain": [
       "<matplotlib.figure.Figure at 0x7fa83b7a5b70>"
      ]
     },
     "metadata": {},
     "output_type": "display_data"
    }
   ],
   "source": [
    "plt.plot(NN_volumes, label='NN')\n",
    "plt.plot(NNA_volumes, label='NNA')\n",
    "plt.plot(NNDA_volumes, label='NNP')\n",
    "#plt.plot(TP_volumes, label='TP')\n",
    "#plt.plot(PAN_volumes, label='PAN')\n",
    "plt.yscale('log')\n",
    "plt.legend()\n",
    "plt.show()"
   ]
  },
  {
   "cell_type": "code",
   "execution_count": null,
   "metadata": {},
   "outputs": [],
   "source": []
  },
  {
   "cell_type": "code",
   "execution_count": null,
   "metadata": {},
   "outputs": [],
   "source": []
  },
  {
   "cell_type": "markdown",
   "metadata": {},
   "source": [
    "# Quasi-Monte Carlo"
   ]
  },
  {
   "cell_type": "code",
   "execution_count": null,
   "metadata": {},
   "outputs": [],
   "source": [
    "def generate_uniform_samples(n_dim, n_samples, min_array, max_array):\n",
    "    import ghalton\n",
    "    gen = ghalton.Halton(n_dim)\n",
    "    points = np.array( gen.get(int(n_samples)) )\n",
    "    points = points * ( max_array - min_array ) + min_array\n",
    "    return points\n",
    "    \n",
    "def quasi_monte_carlo_volume(n_dim, n_samples, min_array, max_array, question_fun):\n",
    "    samples = generate_uniform_samples(n_dim, n_samples, min_array, max_array)\n",
    "    count = np.sum( question_fun(samples) )\n",
    "    volume = np.prod(max_array - min_array)\n",
    "    volume = ( volume * count ) / n_samples\n",
    "    return volume, count\n"
   ]
  }
 ],
 "metadata": {
  "kernelspec": {
   "display_name": "Python 3",
   "language": "python",
   "name": "python3"
  },
  "language_info": {
   "codemirror_mode": {
    "name": "ipython",
    "version": 3
   },
   "file_extension": ".py",
   "mimetype": "text/x-python",
   "name": "python",
   "nbconvert_exporter": "python",
   "pygments_lexer": "ipython3",
   "version": "3.5.4"
  },
  "toc": {
   "nav_menu": {},
   "number_sections": false,
   "sideBar": true,
   "skip_h1_title": false,
   "toc_cell": false,
   "toc_position": {},
   "toc_section_display": "block",
   "toc_window_display": true
  }
 },
 "nbformat": 4,
 "nbformat_minor": 2
}
