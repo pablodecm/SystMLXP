{
 "cells": [
  {
   "cell_type": "code",
   "execution_count": 1,
   "metadata": {},
   "outputs": [],
   "source": [
    "from __future__ import print_function\n",
    "from __future__ import division\n",
    "from __future__ import absolute_import\n",
    "from __future__ import unicode_literals\n",
    "\n",
    "import os\n",
    "import sys\n",
    "\n",
    "import numpy as np\n",
    "import pandas as pd\n",
    "\n",
    "import matplotlib.pyplot as plt\n",
    "import seaborn as sns\n",
    "\n",
    "%matplotlib inline"
   ]
  },
  {
   "cell_type": "markdown",
   "metadata": {},
   "source": [
    "# Introduction\n",
    "\n",
    "On fait des plots sur les runs"
   ]
  },
  {
   "cell_type": "code",
   "execution_count": 2,
   "metadata": {},
   "outputs": [],
   "source": [
    "from workflow import print"
   ]
  },
  {
   "cell_type": "code",
   "execution_count": null,
   "metadata": {},
   "outputs": [],
   "source": []
  },
  {
   "cell_type": "markdown",
   "metadata": {},
   "source": [
    "# Data"
   ]
  },
  {
   "cell_type": "code",
   "execution_count": 3,
   "metadata": {},
   "outputs": [],
   "source": [
    "from data import load_data"
   ]
  },
  {
   "cell_type": "code",
   "execution_count": 4,
   "metadata": {},
   "outputs": [],
   "source": [
    "X, y = load_data()"
   ]
  },
  {
   "cell_type": "code",
   "execution_count": null,
   "metadata": {},
   "outputs": [],
   "source": []
  },
  {
   "cell_type": "markdown",
   "metadata": {},
   "source": [
    "# Load models"
   ]
  },
  {
   "cell_type": "code",
   "execution_count": 5,
   "metadata": {},
   "outputs": [],
   "source": [
    "from workflow import get_save_directory"
   ]
  },
  {
   "cell_type": "code",
   "execution_count": 6,
   "metadata": {},
   "outputs": [],
   "source": [
    "def load_models(get_model, *args, **kwargs):\n",
    "    models = []\n",
    "    for i in range(5):\n",
    "        model = get_model(*args, **kwargs)\n",
    "        save_directory = get_save_directory()\n",
    "        model_name = '{}-{}'.format(model.get_name(), i)\n",
    "        path = os.path.join(save_directory, model_name)\n",
    "        model.load(path)\n",
    "        models.append(model)\n",
    "    return models"
   ]
  },
  {
   "cell_type": "code",
   "execution_count": 7,
   "metadata": {},
   "outputs": [],
   "source": [
    "from myNN import get_model as get_model_NN\n",
    "from myNNDA import get_model as get_model_NNDA\n",
    "from myTP import get_model as get_model_TP\n",
    "# from myPAN import get_model as get_model_PAN\n"
   ]
  },
  {
   "cell_type": "code",
   "execution_count": null,
   "metadata": {},
   "outputs": [],
   "source": []
  },
  {
   "cell_type": "markdown",
   "metadata": {},
   "source": [
    "# Test submission"
   ]
  },
  {
   "cell_type": "code",
   "execution_count": 8,
   "metadata": {},
   "outputs": [],
   "source": [
    "from workflow import get_cv_iter\n",
    "from preprocessing import skew\n",
    "from sklearn.metrics import accuracy_score\n",
    "\n",
    "def test_submission(models, X, y, z_list=(-45, 0, +45)):\n",
    "    cv_iter = get_cv_iter(X, y)\n",
    "    n_cv = len(cv_iter)\n",
    "    df_list = []\n",
    "    for i, (idx_dev, idx_valid) in enumerate(cv_iter):\n",
    "        X_test = X[idx_valid]\n",
    "        y_test = y[idx_valid]\n",
    "        res = []\n",
    "        model = models[i]\n",
    "        print('testing model {}/{}'.format(i+1, n_cv))\n",
    "        for z in z_list:\n",
    "            X_t = skew(X_test, z=z)\n",
    "            pred = model.predict(X_t)\n",
    "            acc = accuracy_score(y_test, pred)\n",
    "            res.append((z, acc))\n",
    "        df = pd.DataFrame(res, columns=['z', 'accuracy'])\n",
    "        df_list.append(df)\n",
    "    print('Done.')\n",
    "    return df_list\n",
    "\n"
   ]
  },
  {
   "cell_type": "code",
   "execution_count": 9,
   "metadata": {},
   "outputs": [],
   "source": [
    "def get_mean_std(df_list):\n",
    "    z = df_list[0]['z']\n",
    "    acc = np.concatenate([df['accuracy'].values.reshape(-1, 1) for df in df_list], axis=1)\n",
    "    mean_acc = np.mean(acc, axis=1)\n",
    "    std_acc = np.std(acc, axis=1)\n",
    "    return mean_acc, std_acc"
   ]
  },
  {
   "cell_type": "code",
   "execution_count": 21,
   "metadata": {},
   "outputs": [
    {
     "name": "stdout",
     "output_type": "stream",
     "text": [
      "2017-11-16 15:24:50 testing model 1/5\n"
     ]
    },
    {
     "name": "stderr",
     "output_type": "stream",
     "text": [
      "/home/estrade/anaconda3/lib/python3.6/site-packages/sklearn/base.py:311: UserWarning: Trying to unpickle estimator StandardScaler from version 0.19.0 when using version 0.19.1. This might lead to breaking code or invalid results. Use at your own risk.\n",
      "  UserWarning)\n"
     ]
    },
    {
     "name": "stdout",
     "output_type": "stream",
     "text": [
      "2017-11-16 15:25:05 testing model 2/5\n",
      "2017-11-16 15:25:19 testing model 3/5\n",
      "2017-11-16 15:25:34 testing model 4/5\n",
      "2017-11-16 15:25:49 testing model 5/5\n",
      "2017-11-16 15:26:02 Done.\n"
     ]
    }
   ],
   "source": [
    "NN_models = load_models(get_model_NN, cuda=False)\n",
    "z_list = list(range(-5, 5, 1))\n",
    "df_list = test_submission(NN_models, X, y, z_list=z_list)\n",
    "NN_mean_acc, NN_std_acc = get_mean_std(df_list)\n"
   ]
  },
  {
   "cell_type": "code",
   "execution_count": 22,
   "metadata": {},
   "outputs": [
    {
     "name": "stdout",
     "output_type": "stream",
     "text": [
      "2017-11-16 15:26:02 testing model 1/5\n"
     ]
    },
    {
     "name": "stderr",
     "output_type": "stream",
     "text": [
      "/home/estrade/anaconda3/lib/python3.6/site-packages/sklearn/base.py:311: UserWarning: Trying to unpickle estimator StandardScaler from version 0.19.0 when using version 0.19.1. This might lead to breaking code or invalid results. Use at your own risk.\n",
      "  UserWarning)\n"
     ]
    },
    {
     "name": "stdout",
     "output_type": "stream",
     "text": [
      "2017-11-16 15:26:16 testing model 2/5\n",
      "2017-11-16 15:26:31 testing model 3/5\n",
      "2017-11-16 15:26:46 testing model 4/5\n",
      "2017-11-16 15:27:01 testing model 5/5\n",
      "2017-11-16 15:27:16 Done.\n"
     ]
    }
   ],
   "source": [
    "NNDA_models = load_models(get_model_NNDA, width=None, cuda=False)\n",
    "z_list = list(range(-5, 5, 1))\n",
    "# z_list = list(range(-50, 51, 10))\n",
    "df_list = test_submission(NNDA_models, X, y, z_list=z_list)\n",
    "NNDA_mean_acc, NNDA_std_acc = get_mean_std(df_list)\n"
   ]
  },
  {
   "cell_type": "code",
   "execution_count": 23,
   "metadata": {},
   "outputs": [
    {
     "name": "stdout",
     "output_type": "stream",
     "text": [
      "2017-11-16 15:27:16 testing model 1/5\n"
     ]
    },
    {
     "name": "stderr",
     "output_type": "stream",
     "text": [
      "/home/estrade/anaconda3/lib/python3.6/site-packages/sklearn/base.py:311: UserWarning: Trying to unpickle estimator StandardScaler from version 0.19.0 when using version 0.19.1. This might lead to breaking code or invalid results. Use at your own risk.\n",
      "  UserWarning)\n"
     ]
    },
    {
     "name": "stdout",
     "output_type": "stream",
     "text": [
      "2017-11-16 15:27:33 testing model 2/5\n",
      "2017-11-16 15:27:48 testing model 3/5\n",
      "2017-11-16 15:28:04 testing model 4/5\n",
      "2017-11-16 15:28:20 testing model 5/5\n",
      "2017-11-16 15:28:37 Done.\n"
     ]
    }
   ],
   "source": [
    "TP_models = load_models(get_model_TP, trade_of=10.0, cuda=False)\n",
    "z_list = list(range(-5, 5, 1))\n",
    "# z_list = list(range(-50, 51, 10))\n",
    "df_list = test_submission(TP_models, X, y, z_list=z_list)\n",
    "TP_mean_acc, TP_std_acc = get_mean_std(df_list)\n"
   ]
  },
  {
   "cell_type": "code",
   "execution_count": 24,
   "metadata": {},
   "outputs": [],
   "source": [
    "# PAN_models = load_models(get_model_PAN)\n",
    "# z_list = list(range(-50, 51, 10))\n",
    "# df_list = test_submission(PAN_models, X, y, z_list=z_list)\n",
    "# PAN_mean_acc, PAN_std_acc = get_mean_std(df_list)\n"
   ]
  },
  {
   "cell_type": "code",
   "execution_count": 25,
   "metadata": {},
   "outputs": [
    {
     "data": {
      "image/png": "[encoded data removed]",
      "text/plain": [
       "<matplotlib.figure.Figure at 0x7f9157a6db38>"
      ]
     },
     "metadata": {},
     "output_type": "display_data"
    }
   ],
   "source": [
    "z = z_list\n",
    "\n",
    "plt.plot(z, NN_mean_acc, label=NN_models[0].get_name())\n",
    "plt.fill_between(z, NN_mean_acc+NN_std_acc, NN_mean_acc-NN_std_acc, alpha=0.5)\n",
    "\n",
    "plt.plot(z, NNDA_mean_acc, label=NNDA_models[0].get_name())\n",
    "plt.fill_between(z, NNDA_mean_acc+NNDA_std_acc, NNDA_mean_acc-NNDA_std_acc, alpha=0.5)\n",
    "\n",
    "plt.plot(z, TP_mean_acc, label=TP_models[0].get_name())\n",
    "plt.fill_between(z, TP_mean_acc+TP_std_acc, TP_mean_acc-TP_std_acc, alpha=0.5)\n",
    "\n",
    "# plt.plot(z, PAN_mean_acc, label=PAN_models[0].get_name())\n",
    "# plt.fill_between(z, PAN_mean_acc+PAN_std_acc, PAN_mean_acc-PAN_std_acc, alpha=0.5)\n",
    "\n",
    "plt.xlabel('angle')\n",
    "plt.ylabel('accuracy')\n",
    "plt.legend()\n",
    "plt.show()\n"
   ]
  },
  {
   "cell_type": "code",
   "execution_count": 20,
   "metadata": {},
   "outputs": [
    {
     "data": {
      "image/png": "[encoded data removed]",
      "text/plain": [
       "<matplotlib.figure.Figure at 0x7f9157818518>"
      ]
     },
     "metadata": {},
     "output_type": "display_data"
    }
   ],
   "source": [
    "z = z_list\n",
    "sli = slice(4,7)\n",
    "\n",
    "plt.plot(z[sli], NN_mean_acc[sli], label=NN_models[0].get_name())\n",
    "plt.fill_between(z[sli], NN_mean_acc[sli]+NN_std_acc[sli], NN_mean_acc[sli]-NN_std_acc[sli], alpha=0.5)\n",
    "\n",
    "plt.plot(z[sli], NNDA_mean_acc[sli], label=NNDA_models[0].get_name())\n",
    "plt.fill_between(z[sli], NNDA_mean_acc[sli]+NNDA_std_acc[sli], NNDA_mean_acc[sli]-NNDA_std_acc[sli], alpha=0.5)\n",
    "\n",
    "plt.plot(z[sli], TP_mean_acc[sli], label=TP_models[0].get_name())\n",
    "plt.fill_between(z[sli], TP_mean_acc[sli]+TP_std_acc[sli], TP_mean_acc[sli]-TP_std_acc[sli], alpha=0.5)\n",
    "\n",
    "# plt.plot(z, PAN_mean_acc, label=PAN_models[0].get_name())\n",
    "# plt.fill_between(z, PAN_mean_acc+PAN_std_acc, PAN_mean_acc-PAN_std_acc, alpha=0.5)\n",
    "\n",
    "plt.xlabel('angle')\n",
    "plt.ylabel('accuracy')\n",
    "plt.legend()\n",
    "plt.show()\n"
   ]
  },
  {
   "cell_type": "code",
   "execution_count": null,
   "metadata": {},
   "outputs": [],
   "source": []
  },
  {
   "cell_type": "markdown",
   "metadata": {},
   "source": [
    "## Playground"
   ]
  },
  {
   "cell_type": "code",
   "execution_count": null,
   "metadata": {},
   "outputs": [],
   "source": [
    "# i = 0\n",
    "# m = models[i]\n",
    "# cv_iter = get_cv_iter(X, y)\n",
    "# idx_dev, idx_valid = cv_iter[i]\n",
    "# X_test = X[idx_valid]\n",
    "# y_test = y[idx_valid]\n",
    "# acc = accuracy_score(y_test, m.predict(X_test))\n",
    "\n",
    "# print(acc)\n"
   ]
  },
  {
   "cell_type": "code",
   "execution_count": null,
   "metadata": {},
   "outputs": [],
   "source": [
    "# XX = skew(X_test, z=80)\n",
    "# y_pred = m.predict(XX)\n",
    "# acc = accuracy_score(y_test, m.predict(XX))\n",
    "# print(acc)\n",
    "\n",
    "# i = np.random.randint(0, XX.shape[0])\n",
    "# plt.imshow(XX[i].reshape(28,28))\n",
    "\n",
    "# plt.title('label = {}<->truth = {}'.format(y_pred[i], y_test[i]))\n",
    "# plt.show()\n",
    "\n",
    "# plt.imshow(X_test[i].reshape(28,28))\n",
    "# plt.show()\n"
   ]
  },
  {
   "cell_type": "code",
   "execution_count": null,
   "metadata": {},
   "outputs": [],
   "source": [
    "# X_test.shape"
   ]
  },
  {
   "cell_type": "code",
   "execution_count": null,
   "metadata": {},
   "outputs": [],
   "source": [
    "from myNNDA import data_augment"
   ]
  },
  {
   "cell_type": "code",
   "execution_count": null,
   "metadata": {},
   "outputs": [],
   "source": [
    "XX = X[:200]\n",
    "yy = y[:200]\n",
    "XX2, yy, _ = data_augment(XX, yy, None)"
   ]
  },
  {
   "cell_type": "code",
   "execution_count": null,
   "metadata": {},
   "outputs": [],
   "source": [
    "i = 67\n",
    "x = XX2[i].reshape(28, 28)\n",
    "plt.imshow(x, cmap='Greys')\n",
    "plt.title('skewed')\n",
    "plt.show()\n",
    "x = XX[i].reshape(28, 28)\n",
    "plt.imshow(x, cmap='Greys')\n",
    "plt.title('original')\n",
    "plt.show()"
   ]
  },
  {
   "cell_type": "code",
   "execution_count": null,
   "metadata": {},
   "outputs": [],
   "source": []
  }
 ],
 "metadata": {
  "kernelspec": {
   "display_name": "Python 3",
   "language": "python",
   "name": "python3"
  },
  "language_info": {
   "codemirror_mode": {
    "name": "ipython",
    "version": 3
   },
   "file_extension": ".py",
   "mimetype": "text/x-python",
   "name": "python",
   "nbconvert_exporter": "python",
   "pygments_lexer": "ipython3",
   "version": "3.6.3"
  },
  "toc": {
   "nav_menu": {},
   "number_sections": false,
   "sideBar": true,
   "skip_h1_title": false,
   "toc_cell": false,
   "toc_position": {},
   "toc_section_display": "block",
   "toc_window_display": true
  }
 },
 "nbformat": 4,
 "nbformat_minor": 2
}
