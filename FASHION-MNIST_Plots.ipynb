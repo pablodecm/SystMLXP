{
 "cells": [
  {
   "cell_type": "code",
   "execution_count": 1,
   "metadata": {},
   "outputs": [],
   "source": [
    "from __future__ import print_function\n",
    "from __future__ import division\n",
    "from __future__ import absolute_import\n",
    "from __future__ import unicode_literals\n",
    "\n",
    "import os\n",
    "import sys\n",
    "\n",
    "import numpy as np\n",
    "import pandas as pd\n",
    "\n",
    "import matplotlib as mpl\n",
    "import matplotlib.pyplot as plt\n",
    "import seaborn as sns\n",
    "\n",
    "%matplotlib inline"
   ]
  },
  {
   "cell_type": "code",
   "execution_count": null,
   "metadata": {},
   "outputs": [],
   "source": [
    "sns.set()\n",
    "sns.set_style(\"whitegrid\")\n",
    "sns.set_context(\"poster\")\n",
    "\n",
    "mpl.rcParams['figure.figsize'] = [8.0*2, 6.0*2]\n",
    "mpl.rcParams['figure.dpi'] = 80\n",
    "mpl.rcParams['savefig.dpi'] = 100\n",
    "\n",
    "mpl.rcParams['font.size'] = 30\n",
    "mpl.rcParams['axes.labelsize'] = 30\n",
    "mpl.rcParams['ytick.labelsize'] = 30\n",
    "mpl.rcParams['xtick.labelsize'] = 30\n",
    "mpl.rcParams['legend.fontsize'] = 'large'\n",
    "mpl.rcParams['figure.titlesize'] = 'medium'\n",
    "\n"
   ]
  },
  {
   "cell_type": "markdown",
   "metadata": {},
   "source": [
    "# Introduction\n",
    "\n",
    "On fait des plots sur les runs"
   ]
  },
  {
   "cell_type": "code",
   "execution_count": 2,
   "metadata": {},
   "outputs": [],
   "source": [
    "from problem.workflow import pprint"
   ]
  },
  {
   "cell_type": "code",
   "execution_count": null,
   "metadata": {},
   "outputs": [],
   "source": []
  },
  {
   "cell_type": "markdown",
   "metadata": {},
   "source": [
    "# Data"
   ]
  },
  {
   "cell_type": "code",
   "execution_count": 3,
   "metadata": {},
   "outputs": [],
   "source": [
    "from problem.fashion_mnist import load_data"
   ]
  },
  {
   "cell_type": "code",
   "execution_count": 4,
   "metadata": {},
   "outputs": [],
   "source": [
    "X, y = load_data()"
   ]
  },
  {
   "cell_type": "code",
   "execution_count": 6,
   "metadata": {},
   "outputs": [
    {
     "data": {
      "image/png": "[encoded data removed]",
      "text/plain": [
       "<matplotlib.figure.Figure at 0x7f8fd00dd5c0>"
      ]
     },
     "metadata": {},
     "output_type": "display_data"
    }
   ],
   "source": [
    "img = X[0]\n",
    "plt.imshow(img.reshape(28,28), cmap='Greys')\n",
    "plt.show()"
   ]
  },
  {
   "cell_type": "markdown",
   "metadata": {},
   "source": [
    "# Load models"
   ]
  },
  {
   "cell_type": "code",
   "execution_count": 5,
   "metadata": {},
   "outputs": [],
   "source": [
    "from problem.fashion_mnist import get_save_directory\n",
    "from problem.fashion_mnist import preprocessing\n",
    "from problem.fashion_mnist import skew\n",
    "from problem.fashion_mnist import tangent\n",
    "from problem.fashion_mnist import get_cv_iter\n"
   ]
  },
  {
   "cell_type": "code",
   "execution_count": 6,
   "metadata": {},
   "outputs": [],
   "source": [
    "def load_models(model_class, *args, **kwargs):\n",
    "    models = []\n",
    "    cv_iter = get_cv_iter(X, y)\n",
    "    n_cv = len(cv_iter)\n",
    "    pprint('Loading', n_cv, model_class.__name__)\n",
    "    for i in range(n_cv):\n",
    "        model = model_class(*args, **kwargs)\n",
    "        save_directory = get_save_directory()\n",
    "        model_name = '{}-{}'.format(model.get_name(), i)\n",
    "        path = os.path.join(save_directory, model_name)\n",
    "        model.load(path)\n",
    "        models.append(model)\n",
    "    return models"
   ]
  },
  {
   "cell_type": "code",
   "execution_count": 7,
   "metadata": {},
   "outputs": [],
   "source": [
    "from models.fashion_mnist import NeuralNetModel\n",
    "from models.fashion_mnist import AugmentedNeuralNetModel\n",
    "from models.fashion_mnist import TangentPropModel\n",
    "from models.fashion_mnist import AugmentedTangentPropModel\n",
    "from models.fashion_mnist import PivotModel\n"
   ]
  },
  {
   "cell_type": "code",
   "execution_count": null,
   "metadata": {},
   "outputs": [],
   "source": []
  },
  {
   "cell_type": "markdown",
   "metadata": {},
   "source": [
    "# Test submission"
   ]
  },
  {
   "cell_type": "code",
   "execution_count": 8,
   "metadata": {},
   "outputs": [],
   "source": [
    "from problem.fashion_mnist import test_submission\n"
   ]
  },
  {
   "cell_type": "code",
   "execution_count": 9,
   "metadata": {},
   "outputs": [],
   "source": [
    "def get_mean_std(df_list):\n",
    "    z = df_list[0]['z']\n",
    "    acc = np.concatenate([df['accuracy'].values.reshape(-1, 1) for df in df_list], axis=1)\n",
    "    mean_acc = np.mean(acc, axis=1)\n",
    "    std_acc = np.std(acc, axis=1)\n",
    "    return mean_acc, std_acc"
   ]
  },
  {
   "cell_type": "code",
   "execution_count": 10,
   "metadata": {},
   "outputs": [],
   "source": [
    "# z_list = list(range(-50, 51, 10)) + list(range(-5, 6, 1))\n",
    "# z_list = sorted(z_list)\n",
    "z_list = np.linspace(-10, 10, num=20)\n",
    "\n",
    "print( z_list )"
   ]
  },
  {
   "cell_type": "code",
   "execution_count": 11,
   "metadata": {},
   "outputs": [
    {
     "name": "stdout",
     "output_type": "stream",
     "text": [
      "2017-11-24 16:00:07 testing model 1/12\n",
      "2017-11-24 16:00:41 testing model 2/12\n",
      "2017-11-24 16:01:14 testing model 3/12\n",
      "2017-11-24 16:01:47 testing model 4/12\n",
      "2017-11-24 16:02:21 testing model 5/12\n",
      "2017-11-24 16:02:54 testing model 6/12\n",
      "2017-11-24 16:03:26 testing model 7/12\n",
      "2017-11-24 16:03:59 testing model 8/12\n",
      "2017-11-24 16:04:31 testing model 9/12\n",
      "2017-11-24 16:05:04 testing model 10/12\n",
      "2017-11-24 16:05:36 testing model 11/12\n",
      "2017-11-24 16:06:08 testing model 12/12\n",
      "2017-11-24 16:06:40 Done.\n"
     ]
    }
   ],
   "source": [
    "NN_models = load_models(NeuralNetModel, n_steps=10000, batch_size=128, cuda=True)\n",
    "df_list = test_submission(NN_models, X, y, z_list=z_list)\n",
    "NN_mean_acc, NN_std_acc = get_mean_std(df_list)\n"
   ]
  },
  {
   "cell_type": "code",
   "execution_count": null,
   "metadata": {},
   "outputs": [],
   "source": [
    "ANN_models = load_models(AugmentedNeuralNetModel, skewing_function=skew, n_augment=5,\n",
    "                         batch_size=128, n_steps=10000, width=5., cuda=True)\n",
    "df_list = test_submission(ANN_models, X, y, z_list=z_list)\n",
    "ANN_mean_acc, ANN_std_acc = get_mean_std(df_list)\n"
   ]
  },
  {
   "cell_type": "code",
   "execution_count": 13,
   "metadata": {},
   "outputs": [
    {
     "name": "stdout",
     "output_type": "stream",
     "text": [
      "2017-11-24 16:13:07 testing model 1/12\n",
      "2017-11-24 16:13:40 testing model 2/12\n",
      "2017-11-24 16:14:13 testing model 3/12\n",
      "2017-11-24 16:14:45 testing model 4/12\n",
      "2017-11-24 16:15:19 testing model 5/12\n",
      "2017-11-24 16:15:54 testing model 6/12\n",
      "2017-11-24 16:16:26 testing model 7/12\n",
      "2017-11-24 16:16:58 testing model 8/12\n",
      "2017-11-24 16:17:30 testing model 9/12\n",
      "2017-11-24 16:18:02 testing model 10/12\n",
      "2017-11-24 16:18:36 testing model 11/12\n",
      "2017-11-24 16:19:08 testing model 12/12\n",
      "2017-11-24 16:19:40 Done.\n"
     ]
    }
   ],
   "source": [
    "TP_models = load_models(TangentPropModel, skewing_function=skew, trade_off=0.01, \n",
    "                        batch_size=128, n_steps=10000, cuda=True )\n",
    "df_list = test_submission(TP_models, X, y, z_list=z_list)\n",
    "TP_mean_acc, TP_std_acc = get_mean_std(df_list)\n"
   ]
  },
  {
   "cell_type": "code",
   "execution_count": 14,
   "metadata": {},
   "outputs": [
    {
     "name": "stdout",
     "output_type": "stream",
     "text": [
      "INFO:tensorflow:Restoring parameters from /data/titanic_3/users/vestrade/savings/mnist/PAN_AGNO-3x120-3x120-0.001-1.0-5.0-Adam-SGD-SGD-0/weights.ckpt\n",
      "INFO:tensorflow:Restoring parameters from /data/titanic_3/users/vestrade/savings/mnist/PAN_AGNO-3x120-3x120-0.001-1.0-5.0-Adam-SGD-SGD-1/weights.ckpt\n",
      "INFO:tensorflow:Restoring parameters from /data/titanic_3/users/vestrade/savings/mnist/PAN_AGNO-3x120-3x120-0.001-1.0-5.0-Adam-SGD-SGD-2/weights.ckpt\n",
      "INFO:tensorflow:Restoring parameters from /data/titanic_3/users/vestrade/savings/mnist/PAN_AGNO-3x120-3x120-0.001-1.0-5.0-Adam-SGD-SGD-3/weights.ckpt\n",
      "INFO:tensorflow:Restoring parameters from /data/titanic_3/users/vestrade/savings/mnist/PAN_AGNO-3x120-3x120-0.001-1.0-5.0-Adam-SGD-SGD-4/weights.ckpt\n",
      "INFO:tensorflow:Restoring parameters from /data/titanic_3/users/vestrade/savings/mnist/PAN_AGNO-3x120-3x120-0.001-1.0-5.0-Adam-SGD-SGD-5/weights.ckpt\n",
      "INFO:tensorflow:Restoring parameters from /data/titanic_3/users/vestrade/savings/mnist/PAN_AGNO-3x120-3x120-0.001-1.0-5.0-Adam-SGD-SGD-6/weights.ckpt\n",
      "INFO:tensorflow:Restoring parameters from /data/titanic_3/users/vestrade/savings/mnist/PAN_AGNO-3x120-3x120-0.001-1.0-5.0-Adam-SGD-SGD-7/weights.ckpt\n",
      "INFO:tensorflow:Restoring parameters from /data/titanic_3/users/vestrade/savings/mnist/PAN_AGNO-3x120-3x120-0.001-1.0-5.0-Adam-SGD-SGD-8/weights.ckpt\n",
      "INFO:tensorflow:Restoring parameters from /data/titanic_3/users/vestrade/savings/mnist/PAN_AGNO-3x120-3x120-0.001-1.0-5.0-Adam-SGD-SGD-9/weights.ckpt\n",
      "INFO:tensorflow:Restoring parameters from /data/titanic_3/users/vestrade/savings/mnist/PAN_AGNO-3x120-3x120-0.001-1.0-5.0-Adam-SGD-SGD-10/weights.ckpt\n",
      "INFO:tensorflow:Restoring parameters from /data/titanic_3/users/vestrade/savings/mnist/PAN_AGNO-3x120-3x120-0.001-1.0-5.0-Adam-SGD-SGD-11/weights.ckpt\n",
      "2017-11-24 16:20:02 testing model 1/12\n",
      "2017-11-24 16:20:37 testing model 2/12\n",
      "2017-11-24 16:21:13 testing model 3/12\n",
      "2017-11-24 16:21:49 testing model 4/12\n",
      "2017-11-24 16:22:23 testing model 5/12\n",
      "2017-11-24 16:22:59 testing model 6/12\n",
      "2017-11-24 16:23:36 testing model 7/12\n",
      "2017-11-24 16:24:14 testing model 8/12\n",
      "2017-11-24 16:24:51 testing model 9/12\n",
      "2017-11-24 16:25:29 testing model 10/12\n",
      "2017-11-24 16:26:07 testing model 11/12\n",
      "2017-11-24 16:26:43 testing model 12/12\n",
      "2017-11-24 16:27:21 Done.\n"
     ]
    }
   ],
   "source": [
    "PAN_models = load_models(PivotModel, skewing_function=skew, batch_size=128, n_recovery_steps=5,\n",
    "                         n_clf_pre_training_steps=3000, n_adv_pre_training_steps=3000, n_steps=10000,\n",
    "                         width=5., trade_off=1.0, cuda=True)\n",
    "df_list = test_submission(PAN_models, X, y, z_list=z_list)\n",
    "PAN_mean_acc, PAN_std_acc = get_mean_std(df_list)\n"
   ]
  },
  {
   "cell_type": "code",
   "execution_count": null,
   "metadata": {},
   "outputs": [],
   "source": []
  },
  {
   "cell_type": "markdown",
   "metadata": {},
   "source": [
    "# Plot\n",
    "\n",
    "\n",
    "- What about confusion matrices ???\n"
   ]
  },
  {
   "cell_type": "markdown",
   "metadata": {},
   "source": [
    "## Accuracy"
   ]
  },
  {
   "cell_type": "code",
   "execution_count": null,
   "metadata": {},
   "outputs": [],
   "source": [
    "z = z_list\n",
    "\n",
    "plt.plot(z, NN_mean_acc, 'o-', label='NN')\n",
    "plt.fill_between(z, NN_mean_acc+NN_std_acc, NN_mean_acc-NN_std_acc, alpha=0.5)\n",
    "\n",
    "plt.plot(z, ANN_mean_acc, 'o-', label='ANN')\n",
    "plt.fill_between(z, ANN_mean_acc+ANN_std_acc, ANN_mean_acc-ANN_std_acc, alpha=0.5)\n",
    "\n",
    "plt.plot(z, TP_mean_acc, 'o-', label='TP')\n",
    "plt.fill_between(z, TP_mean_acc+TP_std_acc, TP_mean_acc-TP_std_acc, alpha=0.5)\n",
    "\n",
    "plt.plot(z, PAN_mean_acc, 'o-', label='PAN')\n",
    "plt.fill_between(z, PAN_mean_acc+PAN_std_acc, PAN_mean_acc-PAN_std_acc, alpha=0.5)\n",
    "\n",
    "plt.title('MNIST accuracy')\n",
    "\n",
    "plt.xlabel('angle', fontsize=30)\n",
    "plt.ylabel('accuracy', fontsize=30)\n",
    "plt.legend(prop={'size': 30})\n",
    "plt.show()\n"
   ]
  },
  {
   "cell_type": "code",
   "execution_count": null,
   "metadata": {},
   "outputs": [],
   "source": [
    "z = z_list\n",
    "\n",
    "plt.plot(z, NN_mean_acc, 'o-', label='NN')\n",
    "# plt.fill_between(z, NN_mean_acc+NN_std_acc, NN_mean_acc-NN_std_acc, alpha=0.5)\n",
    "\n",
    "plt.plot(z, ANN_mean_acc, 'o-', label='ANN')\n",
    "# plt.fill_between(z, ANN_mean_acc+ANN_std_acc, ANN_mean_acc-ANN_std_acc, alpha=0.5)\n",
    "\n",
    "plt.plot(z, TP_mean_acc, 'o-', label='TP')\n",
    "# plt.fill_between(z, TP_mean_acc+TP_std_acc, TP_mean_acc-TP_std_acc, alpha=0.5)\n",
    "\n",
    "plt.plot(z, PAN_mean_acc, 'o-', label='PAN')\n",
    "# plt.fill_between(z, PAN_mean_acc+PAN_std_acc, PAN_mean_acc-PAN_std_acc, alpha=0.5)\n",
    "\n",
    "plt.title('MNIST accuracy')\n",
    "\n",
    "plt.xlabel('angle', fontsize=30)\n",
    "plt.ylabel('accuracy', fontsize=30)\n",
    "plt.legend(prop={'size': 30})\n",
    "plt.show()\n"
   ]
  },
  {
   "cell_type": "markdown",
   "metadata": {},
   "source": [
    "## Losses"
   ]
  },
  {
   "cell_type": "code",
   "execution_count": null,
   "metadata": {},
   "outputs": [],
   "source": [
    "i = 0\n",
    "\n",
    "plt.plot(NN_models[i].loss_hook.losses[::50], label='NN')\n",
    "plt.plot(ANN_models[i].loss_hook.losses[::50], label='ANN')\n",
    "plt.plot(TP_models[i].loss_hook.losses[::50], label='TP')\n",
    "plt.plot(PAN_models[i].dloss_hook.losses[::50], label='PAN')\n",
    "\n",
    "plt.title('Cross entropy')\n",
    "plt.legend()\n",
    "plt.show()"
   ]
  },
  {
   "cell_type": "code",
   "execution_count": null,
   "metadata": {},
   "outputs": [],
   "source": [
    "i = 0\n",
    "\n",
    "plt.plot(PAN_models[i].rloss_hook.losses[::50], label='PAN')\n",
    "\n",
    "plt.title('Adversarial loss')\n",
    "plt.legend()\n",
    "plt.show()"
   ]
  },
  {
   "cell_type": "code",
   "execution_count": null,
   "metadata": {},
   "outputs": [],
   "source": [
    "i = 0\n",
    "\n",
    "plt.plot(TP_models[i].jloss_hook.losses[::50], label='TP')\n",
    "\n",
    "plt.title('Jacobian L2 loss')\n",
    "plt.legend()\n",
    "plt.show()"
   ]
  },
  {
   "cell_type": "code",
   "execution_count": null,
   "metadata": {},
   "outputs": [],
   "source": []
  },
  {
   "cell_type": "markdown",
   "metadata": {},
   "source": [
    "# Playground"
   ]
  },
  {
   "cell_type": "markdown",
   "metadata": {},
   "source": [
    "NN_models = load_models(NeuralNetModel, n_steps=10000, batch_size=128, cuda=True)\n",
    "\n",
    "ANN_models = load_models(AugmentedNeuralNetModel, skewing_function=skew, n_augment=5,\n",
    "                         batch_size=128, n_steps=10000, width=5., cuda=True)\n",
    "\n",
    "TP_models = load_models(TangentPropModel, skewing_function=skew, trade_off=0.01, \n",
    "                        batch_size=128, n_steps=10000, cuda=True )\n",
    "\n",
    "PAN_models = load_models(PivotModel, skewing_function=skew, batch_size=128, n_recovery_steps=5,\n",
    "                         n_clf_pre_training_steps=3000, n_adv_pre_training_steps=3000, n_steps=10000,\n",
    "                         width=5., trade_off=0.1, cuda=True)\n"
   ]
  },
  {
   "cell_type": "code",
   "execution_count": 17,
   "metadata": {},
   "outputs": [],
   "source": [
    "# i = 0\n",
    "# m = models[i]\n",
    "# cv_iter = get_cv_iter(X, y)\n",
    "# idx_dev, idx_valid = cv_iter[i]\n",
    "# X_test = X[idx_valid]\n",
    "# y_test = y[idx_valid]\n",
    "# acc = accuracy_score(y_test, m.predict(X_test))\n",
    "\n",
    "# print(acc)\n"
   ]
  },
  {
   "cell_type": "code",
   "execution_count": 18,
   "metadata": {},
   "outputs": [],
   "source": [
    "# XX = skew(X_test, z=80)\n",
    "# y_pred = m.predict(XX)\n",
    "# acc = accuracy_score(y_test, m.predict(XX))\n",
    "# print(acc)\n",
    "\n",
    "# i = np.random.randint(0, XX.shape[0])\n",
    "# plt.imshow(XX[i].reshape(28,28))\n",
    "\n",
    "# plt.title('label = {}<->truth = {}'.format(y_pred[i], y_test[i]))\n",
    "# plt.show()\n",
    "\n",
    "# plt.imshow(X_test[i].reshape(28,28))\n",
    "# plt.show()\n"
   ]
  },
  {
   "cell_type": "code",
   "execution_count": 19,
   "metadata": {},
   "outputs": [],
   "source": [
    "# X_test.shape"
   ]
  },
  {
   "cell_type": "code",
   "execution_count": 20,
   "metadata": {},
   "outputs": [],
   "source": [
    "# from myNNDA import data_augment"
   ]
  },
  {
   "cell_type": "code",
   "execution_count": 21,
   "metadata": {},
   "outputs": [],
   "source": [
    "# XX = X[:200]\n",
    "# yy = y[:200]\n",
    "# XX2, yy, _ = data_augment(XX, yy, None)"
   ]
  },
  {
   "cell_type": "code",
   "execution_count": 22,
   "metadata": {},
   "outputs": [],
   "source": [
    "# i = 67\n",
    "# x = XX2[i].reshape(28, 28)\n",
    "# plt.imshow(x, cmap='Greys')\n",
    "# plt.title('skewed')\n",
    "# plt.show()\n",
    "# x = XX[i].reshape(28, 28)\n",
    "# plt.imshow(x, cmap='Greys')\n",
    "# plt.title('original')\n",
    "# plt.show()"
   ]
  },
  {
   "cell_type": "code",
   "execution_count": null,
   "metadata": {},
   "outputs": [],
   "source": []
  }
 ],
 "metadata": {
  "kernelspec": {
   "display_name": "Python 3",
   "language": "python",
   "name": "python3"
  },
  "language_info": {
   "codemirror_mode": {
    "name": "ipython",
    "version": 3
   },
   "file_extension": ".py",
   "mimetype": "text/x-python",
   "name": "python",
   "nbconvert_exporter": "python",
   "pygments_lexer": "ipython3",
   "version": "3.5.4"
  },
  "toc": {
   "nav_menu": {},
   "number_sections": false,
   "sideBar": true,
   "skip_h1_title": false,
   "toc_cell": false,
   "toc_position": {},
   "toc_section_display": "block",
   "toc_window_display": true
  }
 },
 "nbformat": 4,
 "nbformat_minor": 2
}
